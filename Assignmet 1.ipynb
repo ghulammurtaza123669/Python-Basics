{
 "cells": [
  {
   "cell_type": "markdown",
   "id": "28a0384a-d400-4bd5-97a8-5e878c463bbb",
   "metadata": {},
   "source": [
    "# 1. Introduction"
   ]
  },
  {
   "cell_type": "code",
   "execution_count": null,
   "id": "b2512e0e",
   "metadata": {},
   "outputs": [],
   "source": []
  },
  {
   "cell_type": "markdown",
   "id": "65bae6eb-b461-4679-a0e3-78dd06d84812",
   "metadata": {},
   "source": [
    "# 2. Data Types"
   ]
  },
  {
   "cell_type": "markdown",
   "id": "1a06a2e8-52d5-44bb-951e-f7c13ffae09a",
   "metadata": {},
   "source": [
    "# 2.1 Variables"
   ]
  },
  {
   "cell_type": "code",
   "execution_count": 2,
   "id": "9c1a42ba-f087-4d2d-b1b5-eb899daa79e4",
   "metadata": {},
   "outputs": [
    {
     "name": "stdout",
     "output_type": "stream",
     "text": [
      "100.0\n",
      "100\n",
      "Mehvish\n"
     ]
    }
   ],
   "source": [
    "counter = 100.00 #float type variable\n",
    "miles = 100 #integer type variable\n",
    "name = \"Mehvish\" #string type variable\n",
    "#print all values \n",
    "print (counter) \n",
    "print (miles) \n",
    "print (name)"
   ]
  },
  {
   "cell_type": "markdown",
   "id": "6dca0ae7-dbfd-4bfb-95cc-fa3d9c66914f",
   "metadata": {},
   "source": [
    " # 2.2 Numbers"
   ]
  },
  {
   "cell_type": "code",
   "execution_count": 3,
   "id": "4987b62e-ab99-4062-b57c-defb4d3e7f0e",
   "metadata": {},
   "outputs": [
    {
     "data": {
      "text/plain": [
       "2"
      ]
     },
     "execution_count": 3,
     "metadata": {},
     "output_type": "execute_result"
    }
   ],
   "source": [
    "2 #integer"
   ]
  },
  {
   "cell_type": "code",
   "execution_count": 4,
   "id": "3ea649cb-fc7c-400a-8ee3-b89123f6d474",
   "metadata": {},
   "outputs": [
    {
     "data": {
      "text/plain": [
       "5"
      ]
     },
     "execution_count": 4,
     "metadata": {},
     "output_type": "execute_result"
    }
   ],
   "source": [
    "2+3 #integer "
   ]
  },
  {
   "cell_type": "code",
   "execution_count": 5,
   "id": "a5559c0c-5685-47ba-8762-e1b47e4619cb",
   "metadata": {},
   "outputs": [
    {
     "data": {
      "text/plain": [
       "7.8"
      ]
     },
     "execution_count": 5,
     "metadata": {},
     "output_type": "execute_result"
    }
   ],
   "source": [
    " 2.3+5.5 #float"
   ]
  },
  {
   "cell_type": "code",
   "execution_count": 6,
   "id": "f6171e58-6d34-42a6-8e8d-957284d3f89c",
   "metadata": {},
   "outputs": [
    {
     "data": {
      "text/plain": [
       "4"
      ]
     },
     "execution_count": 6,
     "metadata": {},
     "output_type": "execute_result"
    }
   ],
   "source": [
    "2**2 #exponent "
   ]
  },
  {
   "cell_type": "markdown",
   "id": "b8975f1c-c348-42e3-8d25-2a41489ddc63",
   "metadata": {},
   "source": [
    "# 2.3 Strings"
   ]
  },
  {
   "cell_type": "code",
   "execution_count": 8,
   "id": "d065e443-976d-442f-ae32-4d2a379007c5",
   "metadata": {},
   "outputs": [
    {
     "name": "stdout",
     "output_type": "stream",
     "text": [
      "Mehvish COMSATS\n"
     ]
    }
   ],
   "source": [
    "name = 'Mehvish'\n",
    "university = \"COMSATS\"\n",
    "print(name,university)"
   ]
  },
  {
   "cell_type": "markdown",
   "id": "27bf92cc-3572-4432-844a-f4e2fb0181ed",
   "metadata": {},
   "source": [
    "# Access values in String "
   ]
  },
  {
   "cell_type": "code",
   "execution_count": 9,
   "id": "d6f0b357-5f54-453b-b3eb-3b84c0a8a1d0",
   "metadata": {},
   "outputs": [
    {
     "name": "stdout",
     "output_type": "stream",
     "text": [
      "stringVariable[0]: H\n",
      "stringVariable[1:5]: ello\n"
     ]
    }
   ],
   "source": [
    "stringVariable = 'Hello World'\n",
    "print(\"stringVariable[0]:\", stringVariable[0]) \n",
    "print(\"stringVariable[1:5]:\", stringVariable[1:5])"
   ]
  },
  {
   "cell_type": "markdown",
   "id": "d2190840-6490-49b5-b305-998a168d6c13",
   "metadata": {},
   "source": [
    "# Updating String "
   ]
  },
  {
   "cell_type": "code",
   "execution_count": 10,
   "id": "f545f5b0-0c79-46fc-bf17-c9f50c90c9a3",
   "metadata": {},
   "outputs": [
    {
     "name": "stdout",
     "output_type": "stream",
     "text": [
      "Updated string:  Hello Python\n"
     ]
    }
   ],
   "source": [
    "stringVariable = \"Hello World\"\n",
    "stringVariable = stringVariable[:6] + \"Python\" \n",
    "print(\"Updated string: \", stringVariable) "
   ]
  },
  {
   "cell_type": "markdown",
   "id": "5284e436-743f-4d89-9c9f-7bb940d42efd",
   "metadata": {},
   "source": [
    "# Delete String "
   ]
  },
  {
   "cell_type": "code",
   "execution_count": 11,
   "id": "75fa867d-8304-4d99-882b-6cad730600f7",
   "metadata": {},
   "outputs": [
    {
     "name": "stdout",
     "output_type": "stream",
     "text": [
      "Hello World\n"
     ]
    },
    {
     "ename": "NameError",
     "evalue": "name 'stringVariable' is not defined",
     "output_type": "error",
     "traceback": [
      "\u001b[31m---------------------------------------------------------------------------\u001b[39m",
      "\u001b[31mNameError\u001b[39m                                 Traceback (most recent call last)",
      "\u001b[36mCell\u001b[39m\u001b[36m \u001b[39m\u001b[32mIn[11]\u001b[39m\u001b[32m, line 4\u001b[39m\n\u001b[32m      2\u001b[39m \u001b[38;5;28mprint\u001b[39m (stringVariable)\n\u001b[32m      3\u001b[39m \u001b[38;5;28;01mdel\u001b[39;00m stringVariable\n\u001b[32m----> \u001b[39m\u001b[32m4\u001b[39m \u001b[38;5;28mprint\u001b[39m (\u001b[43mstringVariable\u001b[49m) \n",
      "\u001b[31mNameError\u001b[39m: name 'stringVariable' is not defined"
     ]
    }
   ],
   "source": [
    "stringVariable = \"Hello World\"\n",
    "print (stringVariable)\n",
    "del stringVariable\n",
    "print (stringVariable) "
   ]
  },
  {
   "cell_type": "markdown",
   "id": "27117dfa-93c0-44b3-85a6-b1e14595753f",
   "metadata": {},
   "source": [
    "# String special operators "
   ]
  },
  {
   "cell_type": "code",
   "execution_count": 12,
   "id": "add88dc6-b939-4df7-85a5-29cf0944f8d1",
   "metadata": {},
   "outputs": [
    {
     "name": "stdout",
     "output_type": "stream",
     "text": [
      "HelloPython\n"
     ]
    }
   ],
   "source": [
    "variable = \"Hello\"\n",
    "print(variable+\"Python\")"
   ]
  },
  {
   "cell_type": "code",
   "execution_count": 13,
   "id": "b1792bfe-0c3d-46d8-a016-91abe8f2aa5b",
   "metadata": {},
   "outputs": [
    {
     "name": "stdout",
     "output_type": "stream",
     "text": [
      "HelloHelloHello\n"
     ]
    }
   ],
   "source": [
    "variable = \"Hello\"\n",
    "print(variable*3)"
   ]
  },
  {
   "cell_type": "code",
   "execution_count": 40,
   "id": "958160b3-fe08-4b95-b11b-5c54606496b4",
   "metadata": {},
   "outputs": [
    {
     "name": "stdout",
     "output_type": "stream",
     "text": [
      "e\n"
     ]
    }
   ],
   "source": [
    "variable = \"Hello\"\n",
    "print(variable[1])\n"
   ]
  },
  {
   "cell_type": "code",
   "execution_count": 15,
   "id": "682460d4-134d-439d-8f1f-923692df6201",
   "metadata": {},
   "outputs": [
    {
     "name": "stdout",
     "output_type": "stream",
     "text": [
      "el\n"
     ]
    }
   ],
   "source": [
    "variable = \"Hello\"\n",
    "print(variable[1:3])"
   ]
  },
  {
   "cell_type": "code",
   "execution_count": 16,
   "id": "5d2c2872-ab7d-44aa-9cf2-08026d483e78",
   "metadata": {},
   "outputs": [
    {
     "name": "stdout",
     "output_type": "stream",
     "text": [
      "True\n"
     ]
    }
   ],
   "source": [
    "variable = \"Hello\"\n",
    "print('H' in variable) "
   ]
  },
  {
   "cell_type": "code",
   "execution_count": 17,
   "id": "7c9a4503-52c4-419e-84a3-e18919430cbc",
   "metadata": {},
   "outputs": [
    {
     "name": "stdout",
     "output_type": "stream",
     "text": [
      "True\n"
     ]
    }
   ],
   "source": [
    "variable = \"Hello\"\n",
    "print('G' not in variable) "
   ]
  },
  {
   "cell_type": "markdown",
   "id": "7d76c672-54f0-4249-b0d2-24ecfc288069",
   "metadata": {},
   "source": [
    "# String formatting operator"
   ]
  },
  {
   "cell_type": "code",
   "execution_count": 18,
   "id": "8edb8d82-560c-42fe-b2d9-2c570d6af50b",
   "metadata": {},
   "outputs": [
    {
     "name": "stdout",
     "output_type": "stream",
     "text": [
      "My name is Zara and age is 21 kg!\n"
     ]
    }
   ],
   "source": [
    "print (\"My name is %s and age is %d kg!\" % (\"Zara\",21)) "
   ]
  },
  {
   "cell_type": "markdown",
   "id": "8129503e-05f9-4a3c-afe8-eadca5ba7e3d",
   "metadata": {},
   "source": [
    "# 2.4 Lists"
   ]
  },
  {
   "cell_type": "code",
   "execution_count": 19,
   "id": "91dd5a0d-a6c1-4ef7-a1bc-96f1bd3d223e",
   "metadata": {},
   "outputs": [
    {
     "name": "stdout",
     "output_type": "stream",
     "text": [
      "['Mehvish', '1880']\n"
     ]
    }
   ],
   "source": [
    "list1 = ['Mehvish','1880']\n",
    "print(list1) "
   ]
  },
  {
   "cell_type": "markdown",
   "id": "56870d6a-b79e-4413-9d40-4b3b9eb48451",
   "metadata": {},
   "source": [
    "# Accessing values in Lists"
   ]
  },
  {
   "cell_type": "code",
   "execution_count": 20,
   "id": "2e0a6564-b43a-4d65-9e1f-8b92314fda80",
   "metadata": {},
   "outputs": [
    {
     "name": "stdout",
     "output_type": "stream",
     "text": [
      "list1[0]:  physics\n",
      "list2[1:5]:  [2, 3, 4, 5]\n"
     ]
    }
   ],
   "source": [
    "list1 = ['physics', 'chemistry', 1997, 2000];\n",
    "list2 = [1, 2, 3, 4, 5, 6, 7 ]; \n",
    "print (\"list1[0]: \", list1[0]) \n",
    "print (\"list2[1:5]: \", list2[1:5])"
   ]
  },
  {
   "cell_type": "markdown",
   "id": "05c31a6c-6f3e-4306-bb30-45b39cb5b6f1",
   "metadata": {},
   "source": [
    "# Updating Lists "
   ]
  },
  {
   "cell_type": "code",
   "execution_count": 21,
   "id": "4c10a5fb-592d-4cf5-a4c6-baac0ec7d611",
   "metadata": {},
   "outputs": [
    {
     "name": "stdout",
     "output_type": "stream",
     "text": [
      "['physics', 'computer science', 1997, 2000]\n",
      "['physics', 'computer science', 1997, 2000, 'Computer Science']\n"
     ]
    }
   ],
   "source": [
    "list1 = ['physics', 'chemistry', 1997, 2000];\n",
    "list1[1] = \"computer science\"\n",
    "print(list1) \n",
    "list1.append('Computer Science') \n",
    "print(list1)"
   ]
  },
  {
   "cell_type": "markdown",
   "id": "6c55aa59-e9e1-4e95-b944-d4931a3ea671",
   "metadata": {},
   "source": [
    "# Delete List element"
   ]
  },
  {
   "cell_type": "code",
   "execution_count": 22,
   "id": "1cb3a9e0-97d5-4579-bc92-b792eb3ded6e",
   "metadata": {},
   "outputs": [
    {
     "name": "stdout",
     "output_type": "stream",
     "text": [
      "['physics', 'chemistry', 1997, 2000]\n",
      "After deleting value at index 2 : \n",
      "['physics', 'chemistry', 2000]\n"
     ]
    }
   ],
   "source": [
    "list1 = ['physics', 'chemistry', 1997, 2000]; \n",
    "print (list1) \n",
    "del list1[2];\n",
    "print (\"After deleting value at index 2 : \") \n",
    "print (list1)"
   ]
  },
  {
   "cell_type": "code",
   "execution_count": 23,
   "id": "5e6f92a5-f38e-4915-9366-5f767e9e5cfe",
   "metadata": {},
   "outputs": [
    {
     "name": "stdout",
     "output_type": "stream",
     "text": [
      "['physics', 'chemistry', 1997, 2000]\n",
      "After deleting value at index 2 : \n",
      "['physics', 1997, 2000]\n"
     ]
    }
   ],
   "source": [
    "list1 = ['physics', 'chemistry', 1997, 2000]; \n",
    "print (list1) \n",
    "list1.remove('chemistry')\n",
    "print (\"After deleting value at index 2 : \") \n",
    "print (list1)"
   ]
  },
  {
   "cell_type": "markdown",
   "id": "064936f3-a1bb-4fe4-b4c9-a4241eaa90c6",
   "metadata": {},
   "source": [
    "# 2.5 Dictionaries "
   ]
  },
  {
   "cell_type": "markdown",
   "id": "3af535da-038b-4569-a46f-7fce14348e6a",
   "metadata": {},
   "source": [
    "# Accessing value in Dictionary "
   ]
  },
  {
   "cell_type": "code",
   "execution_count": 24,
   "id": "b8cb381d-de7e-4f06-8bce-03a9ed4add4f",
   "metadata": {},
   "outputs": [
    {
     "name": "stdout",
     "output_type": "stream",
     "text": [
      "Mehvish\n"
     ]
    }
   ],
   "source": [
    "dict = {'Name':\"Mehvish\", 'Depart': \"BCS\", 'Batch': 2014}\n",
    "print (dict['Name']) "
   ]
  },
  {
   "cell_type": "markdown",
   "id": "f005165f-a78f-4af3-b45c-4acd18b95659",
   "metadata": {},
   "source": [
    "# Updating Dictionary "
   ]
  },
  {
   "cell_type": "code",
   "execution_count": 25,
   "id": "ded6a4e8-2d80-48e7-a6a6-fa8e4ed94678",
   "metadata": {},
   "outputs": [
    {
     "name": "stdout",
     "output_type": "stream",
     "text": [
      "{'Name': 'Mehvish', 'Depart': 'BCS', 'Batch': 2014}\n",
      "{'Name': 'Mehvish', 'Depart': 'BCS', 'Batch': 'SP14'}\n",
      "{'Name': 'Mehvish', 'Depart': 'BCS', 'Batch': 'SP14', 'University': 'COMSATS'}\n"
     ]
    }
   ],
   "source": [
    "dict = {'Name':\"Mehvish\", 'Depart': \"BCS\", 'Batch': 2014}\n",
    "print (dict)\n",
    "dict['Batch'] = \"SP14\"\n",
    "print (dict) \n",
    "dict['University'] = \"COMSATS\" \n",
    "print(dict) "
   ]
  },
  {
   "cell_type": "markdown",
   "id": "ec59c921-1fef-47b6-90be-b41c8e7eba83",
   "metadata": {},
   "source": [
    "# Delete Dictionary Element "
   ]
  },
  {
   "cell_type": "code",
   "execution_count": 26,
   "id": "28a113cf-b5d6-4345-a9f7-d6b866ba02e0",
   "metadata": {},
   "outputs": [
    {
     "name": "stdout",
     "output_type": "stream",
     "text": [
      "{'Name': 'Mehvish', 'Depart': 'BCS', 'Batch': 2014}\n",
      "{'Name': 'Mehvish', 'Depart': 'BCS'}\n"
     ]
    }
   ],
   "source": [
    "dict = {'Name':\"Mehvish\", 'Depart': \"BCS\", 'Batch': 2014} \n",
    "print (dict) \n",
    "del dict['Batch'] \n",
    "print (dict) "
   ]
  },
  {
   "cell_type": "code",
   "execution_count": 27,
   "id": "808b62ee-977d-48bb-b394-ee60c10e4ffe",
   "metadata": {},
   "outputs": [
    {
     "name": "stdout",
     "output_type": "stream",
     "text": [
      "{}\n"
     ]
    }
   ],
   "source": [
    "dict = {'Name':\"Mehvish\", 'Depart': \"BCS\", 'Batch': 2014} \n",
    "dict.clear() \n",
    "print (dict)"
   ]
  },
  {
   "cell_type": "markdown",
   "id": "b949493d-fb00-4a6d-ae3d-0f288b2b7cdc",
   "metadata": {},
   "source": [
    "# 2.6 Tuples"
   ]
  },
  {
   "cell_type": "markdown",
   "id": "690d34f9-4a04-4bf5-9fe1-b2d99194e921",
   "metadata": {},
   "source": [
    " # Accessing values in Tuples"
   ]
  },
  {
   "cell_type": "code",
   "execution_count": 28,
   "id": "2ab0b525-26ff-4b3a-b90b-7272d48f8e45",
   "metadata": {},
   "outputs": [
    {
     "name": "stdout",
     "output_type": "stream",
     "text": [
      "('Math', '98', 'C programming', '99')\n",
      "98\n",
      "('98', 'C programming')\n"
     ]
    }
   ],
   "source": [
    "tup = ('Math','98', 'C programming', '99')\n",
    "print (tup) \n",
    "print(tup[1]) \n",
    "print(tup[1:3])"
   ]
  },
  {
   "cell_type": "markdown",
   "id": "3da20928-f7ec-444b-bcd6-2917cc902860",
   "metadata": {},
   "source": [
    "# Updating Tuples "
   ]
  },
  {
   "cell_type": "code",
   "execution_count": 29,
   "id": "809fc572-327a-4acd-8e72-5b9049635456",
   "metadata": {},
   "outputs": [
    {
     "name": "stdout",
     "output_type": "stream",
     "text": [
      "(12, 34.56, 'abc', 'xyz')\n"
     ]
    }
   ],
   "source": [
    "tup1 = (12, 34.56);\n",
    "tup2 = ('abc', 'xyz'); \n",
    "#Following action is not valid for tuples \n",
    "#tup1[0] = 100; \n",
    "#So let's create a new tuple as follows \n",
    "tup3 = tup1 + tup2; \n",
    "print (tup3);"
   ]
  },
  {
   "cell_type": "markdown",
   "id": "4591e37a-955b-44d8-ba04-aecb50e03ccc",
   "metadata": {},
   "source": [
    "# Delete Tuple elements"
   ]
  },
  {
   "cell_type": "code",
   "execution_count": 30,
   "id": "3138b181-2dc8-4869-9b53-39b92ff8b2b3",
   "metadata": {},
   "outputs": [
    {
     "name": "stdout",
     "output_type": "stream",
     "text": [
      "('physics', 'chemistry', 1997, 2000)\n",
      "After deleting tup : \n"
     ]
    },
    {
     "ename": "NameError",
     "evalue": "name 'tup' is not defined",
     "output_type": "error",
     "traceback": [
      "\u001b[31m---------------------------------------------------------------------------\u001b[39m",
      "\u001b[31mNameError\u001b[39m                                 Traceback (most recent call last)",
      "\u001b[36mCell\u001b[39m\u001b[36m \u001b[39m\u001b[32mIn[30]\u001b[39m\u001b[32m, line 5\u001b[39m\n\u001b[32m      3\u001b[39m \u001b[38;5;28;01mdel\u001b[39;00m tup;\n\u001b[32m      4\u001b[39m \u001b[38;5;28mprint\u001b[39m (\u001b[33m\"\u001b[39m\u001b[33mAfter deleting tup : \u001b[39m\u001b[33m\"\u001b[39m);\n\u001b[32m----> \u001b[39m\u001b[32m5\u001b[39m \u001b[38;5;28mprint\u001b[39m (\u001b[43mtup\u001b[49m); \n",
      "\u001b[31mNameError\u001b[39m: name 'tup' is not defined"
     ]
    }
   ],
   "source": [
    "tup = ('physics', 'chemistry', 1997, 2000);\n",
    "print (tup);\n",
    "del tup;\n",
    "print (\"After deleting tup : \");\n",
    "print (tup); "
   ]
  },
  {
   "cell_type": "markdown",
   "id": "bdf00b9b-85b4-4c1d-a047-38ad791ba59e",
   "metadata": {},
   "source": [
    "# 2.7 Sets "
   ]
  },
  {
   "cell_type": "code",
   "execution_count": 31,
   "id": "0689daae-b26f-4af9-94b8-1e36b400d685",
   "metadata": {},
   "outputs": [
    {
     "name": "stdout",
     "output_type": "stream",
     "text": [
      "<class 'list'>\n",
      "{1, 2, 3, 4, 5}\n",
      "{1, 2, 3}\n",
      "{1, 'Hello', 1.2, 2, 3, 4, 5, 'C', 'D'}\n"
     ]
    },
    {
     "ename": "KeyError",
     "evalue": "'G'",
     "output_type": "error",
     "traceback": [
      "\u001b[31m---------------------------------------------------------------------------\u001b[39m",
      "\u001b[31mKeyError\u001b[39m                                  Traceback (most recent call last)",
      "\u001b[36mCell\u001b[39m\u001b[36m \u001b[39m\u001b[32mIn[31]\u001b[39m\u001b[32m, line 19\u001b[39m\n\u001b[32m     17\u001b[39m \u001b[38;5;28mprint\u001b[39m (my_set) \n\u001b[32m     18\u001b[39m my_set.discard(\u001b[33m'\u001b[39m\u001b[33mG\u001b[39m\u001b[33m'\u001b[39m) \u001b[38;5;66;03m# it will not raise an error \u001b[39;00m\n\u001b[32m---> \u001b[39m\u001b[32m19\u001b[39m \u001b[43mmy_set\u001b[49m\u001b[43m.\u001b[49m\u001b[43mremove\u001b[49m\u001b[43m(\u001b[49m\u001b[33;43m'\u001b[39;49m\u001b[33;43mG\u001b[39;49m\u001b[33;43m'\u001b[39;49m\u001b[43m)\u001b[49m \u001b[38;5;66;03m# it will raise an error \u001b[39;00m\n",
      "\u001b[31mKeyError\u001b[39m: 'G'"
     ]
    }
   ],
   "source": [
    "#list\n",
    "list1 = [1,2,3,4,5] \n",
    "print (type(list1)) \n",
    "my_set = set(list1) \n",
    "print(my_set) \n",
    "(type(my_set)) \n",
    "#set of integers \n",
    "my_set = {1,2,3} \n",
    "print (my_set) \n",
    "print\n",
    "#set of mixed data types \n",
    "my_set = {1,\"Hello\", 1.2,'C'} \n",
    "#adding a single value \n",
    "my_set.add('D') \n",
    "#adding multiple values \n",
    "my_set.update(list1) \n",
    "print (my_set) \n",
    "my_set.discard('G') # it will not raise an error \n",
    "my_set.remove('G') # it will raise an error "
   ]
  },
  {
   "cell_type": "markdown",
   "id": "a92697ce-c3c7-4b7e-bd41-d2cb3aa84b40",
   "metadata": {},
   "source": [
    "# 3. Comparison Operators "
   ]
  },
  {
   "cell_type": "code",
   "execution_count": 32,
   "id": "c9e790cf-0b65-4d3b-8168-d010b51428e3",
   "metadata": {},
   "outputs": [
    {
     "data": {
      "text/plain": [
       "True"
      ]
     },
     "execution_count": 32,
     "metadata": {},
     "output_type": "execute_result"
    }
   ],
   "source": [
    "1<3"
   ]
  },
  {
   "cell_type": "code",
   "execution_count": 33,
   "id": "db71d43a-c0d4-4b61-bf35-351d51d87dbe",
   "metadata": {},
   "outputs": [
    {
     "data": {
      "text/plain": [
       "True"
      ]
     },
     "execution_count": 33,
     "metadata": {},
     "output_type": "execute_result"
    }
   ],
   "source": [
    "15 <= 23 "
   ]
  },
  {
   "cell_type": "code",
   "execution_count": 34,
   "id": "4da23731-8898-4f2e-9ea5-fe2efa46622c",
   "metadata": {},
   "outputs": [
    {
     "data": {
      "text/plain": [
       "False"
      ]
     },
     "execution_count": 34,
     "metadata": {},
     "output_type": "execute_result"
    }
   ],
   "source": [
    "'Mehvish' == \"Zeenat\" "
   ]
  },
  {
   "cell_type": "code",
   "execution_count": 35,
   "id": "b85ba18d-4587-4a41-88a7-0cf49fa51506",
   "metadata": {},
   "outputs": [
    {
     "data": {
      "text/plain": [
       "False"
      ]
     },
     "execution_count": 35,
     "metadata": {},
     "output_type": "execute_result"
    }
   ],
   "source": [
    "\"Mehvish\" != \"Mehvish\" "
   ]
  },
  {
   "cell_type": "code",
   "execution_count": 36,
   "id": "a59ddfab-ec13-4761-b9d1-595e334341e1",
   "metadata": {},
   "outputs": [
    {
     "data": {
      "text/plain": [
       "True"
      ]
     },
     "execution_count": 36,
     "metadata": {},
     "output_type": "execute_result"
    }
   ],
   "source": [
    "(1==1)or(5>2)"
   ]
  },
  {
   "cell_type": "code",
   "execution_count": 37,
   "id": "85da4189-329c-4158-84b7-6b1a8b426ee7",
   "metadata": {},
   "outputs": [
    {
     "data": {
      "text/plain": [
       "False"
      ]
     },
     "execution_count": 37,
     "metadata": {},
     "output_type": "execute_result"
    }
   ],
   "source": [
    "(1<2)and(2<1)"
   ]
  },
  {
   "cell_type": "markdown",
   "id": "3541196d-ef74-4efc-90b5-f6a709776c1d",
   "metadata": {},
   "source": [
    "# 4. If-Else Statements "
   ]
  },
  {
   "cell_type": "code",
   "execution_count": 41,
   "id": "894d2049-3019-47d9-81c3-16aac4856b12",
   "metadata": {},
   "outputs": [
    {
     "name": "stdout",
     "output_type": "stream",
     "text": [
      "Odd\n"
     ]
    }
   ],
   "source": [
    "if 25 % 2 == 0:\n",
    "    print('Even')\n",
    "else:\n",
    "    print('Odd')\n"
   ]
  },
  {
   "cell_type": "markdown",
   "id": "5fee1aed-1961-4789-8e62-167d3c3fd6bb",
   "metadata": {},
   "source": [
    "# 5. For and While Loop "
   ]
  },
  {
   "cell_type": "code",
   "execution_count": 44,
   "id": "ed30526a-a1c4-4fdd-a5da-ee55c9cd8ec9",
   "metadata": {},
   "outputs": [
    {
     "name": "stdout",
     "output_type": "stream",
     "text": [
      "120\n"
     ]
    }
   ],
   "source": [
    "fact = 1\n",
    "N = 5\n",
    "for i in range(1, N + 1):\n",
    "    fact *= i\n",
    "print(fact)\n"
   ]
  },
  {
   "cell_type": "code",
   "execution_count": 46,
   "id": "52f27b61-8a54-47a7-a7c1-a165e95bdb8c",
   "metadata": {},
   "outputs": [
    {
     "ename": "IndentationError",
     "evalue": "expected an indented block after 'while' statement on line 3 (1174589057.py, line 4)",
     "output_type": "error",
     "traceback": [
      "  \u001b[36mCell\u001b[39m\u001b[36m \u001b[39m\u001b[32mIn[46]\u001b[39m\u001b[32m, line 4\u001b[39m\n\u001b[31m    \u001b[39m\u001b[31ma = a+1\u001b[39m\n    ^\n\u001b[31mIndentationError\u001b[39m\u001b[31m:\u001b[39m expected an indented block after 'while' statement on line 3\n"
     ]
    }
   ],
   "source": [
    " #example of while loop\n",
    "a = 0\n",
    "while a < 10: \n",
    "a = a+1\n",
    "print(a) "
   ]
  },
  {
   "cell_type": "code",
   "execution_count": 47,
   "id": "2e93c9d2-0a41-45ce-b858-64e140bdde78",
   "metadata": {},
   "outputs": [
    {
     "name": "stdout",
     "output_type": "stream",
     "text": [
      "1\n",
      "2\n",
      "3\n",
      "4\n",
      "5\n",
      "6\n",
      "7\n",
      "8\n",
      "9\n",
      "10\n"
     ]
    }
   ],
   "source": [
    "a = 0\n",
    "while a < 10:\n",
    "    a = a + 1\n",
    "    print(a)\n"
   ]
  },
  {
   "cell_type": "code",
   "execution_count": null,
   "id": "1d45c870-7fee-4b18-93f4-cf0c406d56b6",
   "metadata": {},
   "outputs": [],
   "source": []
  },
  {
   "cell_type": "code",
   "execution_count": 2,
   "id": "4964bad9-7b3a-4812-aeb2-32ab6f07237f",
   "metadata": {},
   "outputs": [
    {
     "name": "stdout",
     "output_type": "stream",
     "text": [
      "10\n"
     ]
    }
   ],
   "source": [
    "a = 0 \n",
    "while a < 10:\n",
    "    a = a+1\n",
    "print (a)    "
   ]
  },
  {
   "cell_type": "markdown",
   "id": "eee66ab1-efb7-4bc0-a6a6-abc646d02f6e",
   "metadata": {},
   "source": [
    " \n",
    "# Functions"
   ]
  },
  {
   "cell_type": "code",
   "execution_count": 48,
   "id": "4a0d5d6c-fb42-49c0-8371-7ba6d868b92e",
   "metadata": {},
   "outputs": [
    {
     "name": "stdout",
     "output_type": "stream",
     "text": [
      "I'm first call to user defined function!\n"
     ]
    }
   ],
   "source": [
    "# Function definition\n",
    "def printme(str):\n",
    "    # This prints a passed string into this function\n",
    "    print(str)\n",
    "    return\n",
    "\n",
    "# Now you can call printme function\n",
    "printme(\"I'm first call to user defined function!\")\n"
   ]
  },
  {
   "cell_type": "markdown",
   "id": "fa1c839c-3641-4d3d-b2c4-2fda449fe9a0",
   "metadata": {},
   "source": [
    "# 7. Lambda Functions "
   ]
  },
  {
   "cell_type": "code",
   "execution_count": 7,
   "id": "13f9185a-e435-4718-bad7-5237c19d0937",
   "metadata": {},
   "outputs": [
    {
     "name": "stdout",
     "output_type": "stream",
     "text": [
      "64\n"
     ]
    }
   ],
   "source": [
    "# Normal function \n",
    "def f(x): \n",
    "    return x**2 \n",
    "\n",
    "print(f(8))\n"
   ]
  },
  {
   "cell_type": "code",
   "execution_count": 8,
   "id": "6f86a4fc-f57f-43b9-90a1-a2b78c5507cc",
   "metadata": {},
   "outputs": [
    {
     "name": "stdout",
     "output_type": "stream",
     "text": [
      "8\n"
     ]
    }
   ],
   "source": [
    "def add(x, y):\n",
    "    return x + y\n",
    "\n",
    "print(add(5, 3)) \n"
   ]
  },
  {
   "cell_type": "code",
   "execution_count": 9,
   "id": "5d20b9e4-ce52-47c8-b6f0-d281e98fcaeb",
   "metadata": {},
   "outputs": [
    {
     "name": "stdout",
     "output_type": "stream",
     "text": [
      "8\n"
     ]
    }
   ],
   "source": [
    "add = lambda x, y: x + y\n",
    "print(add(5, 3)) \n"
   ]
  },
  {
   "cell_type": "markdown",
   "id": "1dc297be-7cf0-4af9-9a72-f6df55a6fb14",
   "metadata": {},
   "source": [
    " # 7.1 Map() "
   ]
  },
  {
   "cell_type": "code",
   "execution_count": 10,
   "id": "570473d1-65e3-4bd0-9ded-98706a19a044",
   "metadata": {},
   "outputs": [
    {
     "name": "stdout",
     "output_type": "stream",
     "text": [
      "['It', 'is', 'raining', 'cats', 'and', 'dogs']\n"
     ]
    },
    {
     "data": {
      "text/plain": [
       "[2, 2, 7, 4, 3, 4]"
      ]
     },
     "execution_count": 10,
     "metadata": {},
     "output_type": "execute_result"
    }
   ],
   "source": [
    "sentence = 'It is raining cats and dogs' \n",
    "words = sentence.split()\n",
    "print (words) \n",
    "lengths = map(lambda word: len(word), words) \n",
    "list(lengths) "
   ]
  },
  {
   "cell_type": "markdown",
   "id": "c807467a-fa97-4d85-a528-8e6e1a43f07f",
   "metadata": {},
   "source": [
    "# 7.2 Filter()"
   ]
  },
  {
   "cell_type": "code",
   "execution_count": 11,
   "id": "5283eb3d-2f98-41e1-ad13-7ca53a6c1f24",
   "metadata": {},
   "outputs": [
    {
     "data": {
      "text/plain": [
       "[1, 1, 3, 5, 13, 21, 55]"
      ]
     },
     "execution_count": 11,
     "metadata": {},
     "output_type": "execute_result"
    }
   ],
   "source": [
    "fib = [0,1,1,2,3,5,8,13,21,34,55] \n",
    "result1 = filter(lambda x: x % 2, fib)\n",
    "list(result1) "
   ]
  },
  {
   "cell_type": "code",
   "execution_count": 12,
   "id": "758e625a-3a1c-4fc2-a6b5-e0731a089e90",
   "metadata": {},
   "outputs": [
    {
     "data": {
      "text/plain": [
       "[0, 2, 8, 34]"
      ]
     },
     "execution_count": 12,
     "metadata": {},
     "output_type": "execute_result"
    }
   ],
   "source": [
    "fib = [0,1,1,2,3,5,8,13,21,34,55] \n",
    "result2 = filter(lambda x: x % 2 == 0, fib) \n",
    "list (result2) "
   ]
  },
  {
   "cell_type": "markdown",
   "id": "7db44557-f0df-4cbb-a8a2-862c4a5b3016",
   "metadata": {},
   "source": [
    "# 8. File I/O "
   ]
  },
  {
   "cell_type": "code",
   "execution_count": 15,
   "id": "04715b16-0080-4e57-958d-f91796c8969a",
   "metadata": {},
   "outputs": [
    {
     "name": "stdout",
     "output_type": "stream",
     "text": [
      "Enter your name:  Ghualm Murtaza\n"
     ]
    },
    {
     "name": "stdout",
     "output_type": "stream",
     "text": [
      "Ghualm Murtaza\n"
     ]
    }
   ],
   "source": [
    "from six.moves import input\n",
    "string = input(\"Enter your name: \");\n",
    "print(string)"
   ]
  },
  {
   "cell_type": "code",
   "execution_count": 16,
   "id": "0fe0aed6-49d7-4c02-8a2a-cdafbd64e88f",
   "metadata": {},
   "outputs": [
    {
     "name": "stdout",
     "output_type": "stream",
     "text": [
      "Enetr your name:  Mehwish\n"
     ]
    },
    {
     "name": "stdout",
     "output_type": "stream",
     "text": [
      "Mehwish\n"
     ]
    }
   ],
   "source": [
    "from six.moves import input\n",
    "string = input(\"Enetr your name: \");\n",
    "print(string)"
   ]
  },
  {
   "cell_type": "markdown",
   "id": "b078a349-502e-4486-a4f8-e7673532a6b4",
   "metadata": {},
   "source": [
    "# I/O from or to Text File"
   ]
  },
  {
   "cell_type": "code",
   "execution_count": 4,
   "id": "e08a9aea-5bbf-4f22-af64-90db9bda4d9f",
   "metadata": {},
   "outputs": [
    {
     "name": "stdout",
     "output_type": "stream",
     "text": [
      "I am Ghulam Murtaza \n"
     ]
    }
   ],
   "source": [
    "# Open a file to read \n",
    "fileOpen = open(\"GM.txt\", \"r+\")\n",
    "\n",
    "# To read specific content from start you can use read(12)\n",
    "# It will read 12 characters from the start of file\n",
    "str_content = fileOpen.read()\n",
    "\n",
    "print(str_content)\n",
    "\n",
    "# Close opened file \n",
    "fileOpen.close()\n"
   ]
  },
  {
   "cell_type": "code",
   "execution_count": 22,
   "id": "8fff8d23-62c5-4488-a96f-892f16784277",
   "metadata": {},
   "outputs": [
    {
     "name": "stdout",
     "output_type": "stream",
     "text": [
      "I am Ghulam Murtaza, Information Technology Lahore\n"
     ]
    }
   ],
   "source": [
    "# Open a file to append \n",
    "fileOpen = open(\"GM.txt\", \"a+\") \n",
    "fileOpen.write(\" Information Technology Lahore\")\n",
    "fileOpen.close()\n",
    "\n",
    "# Open a file to read \n",
    "fileOpen = open(\"GM.txt\", \"r+\") \n",
    "string = fileOpen.read()  # to read specific content from start, use read(12). It will read 12 characters from the start of file\n",
    "print(string)\n",
    "\n",
    "# Close opened file \n",
    "fileOpen.close()"
   ]
  },
  {
   "cell_type": "markdown",
   "id": "716c97cb-1312-4013-98a4-e7fcb5acfeef",
   "metadata": {},
   "source": [
    "# File Position"
   ]
  },
  {
   "cell_type": "code",
   "execution_count": 24,
   "id": "6a61ac7e-1d10-42d8-bcb3-d85ed4f7d798",
   "metadata": {},
   "outputs": [
    {
     "name": "stdout",
     "output_type": "stream",
     "text": [
      "Read String is:\n",
      " I am Ghula\n",
      "Current file position:\n",
      " 10\n",
      "Again read String is:\n",
      " I am Ghula\n"
     ]
    }
   ],
   "source": [
    "# # Open a file\n",
    "fo = open(\"GM.txt\", \"r+\")\n",
    "\n",
    "# Read first 10 characters\n",
    "data = fo.read(10)\n",
    "print(\"Read String is:\\n\", data)\n",
    "\n",
    "# Check current position\n",
    "position = fo.tell()\n",
    "print(\"Current file position:\\n\", position)\n",
    "\n",
    "# Reposition pointer at the beginning once again\n",
    "fo.seek(0, 0)\n",
    "\n",
    "# Read again first 10 characters\n",
    "data = fo.read(10)\n",
    "print(\"Again read String is:\\n\", data)\n",
    "\n",
    "# Close open file\n",
    "fo.close()\n"
   ]
  },
  {
   "cell_type": "code",
   "execution_count": 27,
   "id": "cc93fe8c-9cb4-4605-89be-34aaf58ead77",
   "metadata": {},
   "outputs": [],
   "source": [
    "import os"
   ]
  },
  {
   "cell_type": "code",
   "execution_count": 29,
   "id": "c9c6039b-5ce7-44da-a192-f5b794902ec9",
   "metadata": {},
   "outputs": [],
   "source": [
    "os.rename(\"GM.txt\",\"MI.txt\")"
   ]
  },
  {
   "cell_type": "code",
   "execution_count": 30,
   "id": "ed6e9f6b-a8ee-4d33-a3e8-c4124b16c5ff",
   "metadata": {},
   "outputs": [],
   "source": [
    "os.remove(\"MI.txt\") "
   ]
  },
  {
   "cell_type": "markdown",
   "id": "b76a6f4f-531b-40dc-8e44-9803ad2e8116",
   "metadata": {},
   "source": [
    " # 9. Pandas Introduction"
   ]
  },
  {
   "cell_type": "code",
   "execution_count": 32,
   "id": "ef84fee5-3f3c-4c26-8f58-ca4ca6ca8e14",
   "metadata": {},
   "outputs": [],
   "source": [
    "import pandas as pd\n"
   ]
  },
  {
   "cell_type": "markdown",
   "id": "a4b77889-0c5c-4b0d-8e74-a043c0e17593",
   "metadata": {},
   "source": [
    "# 10. Series "
   ]
  },
  {
   "cell_type": "markdown",
   "id": "2d90062e-9c16-4d63-8bc6-17b633686159",
   "metadata": {},
   "source": [
    "# 10.1 From ndarray "
   ]
  },
  {
   "cell_type": "code",
   "execution_count": 34,
   "id": "f1b07223-a883-4e57-8e0f-c2fa6e12bba3",
   "metadata": {},
   "outputs": [],
   "source": [
    "import pandas as pd \n",
    "import numpy as np\n",
    "import matplotlib.pyplot as plt "
   ]
  },
  {
   "cell_type": "code",
   "execution_count": 35,
   "id": "1cac6b59-3cfb-437b-afe6-f99647ec65f1",
   "metadata": {},
   "outputs": [
    {
     "data": {
      "text/plain": [
       "a    2.635688\n",
       "b   -1.673682\n",
       "c   -0.025848\n",
       "d    1.280455\n",
       "e   -0.376673\n",
       "dtype: float64"
      ]
     },
     "execution_count": 35,
     "metadata": {},
     "output_type": "execute_result"
    }
   ],
   "source": [
    "\"\"\"following a fucntion is called from panas to create a series. \n",
    "data would be 5 random values and indexes are assigned a-e\"\"\"\n",
    "s = pd.Series(np.random.randn(5), index=['a', 'b', 'c', 'd', 'e']) \n",
    "s "
   ]
  },
  {
   "cell_type": "markdown",
   "id": "2bca4da7-1abd-43c3-8e62-10575577673c",
   "metadata": {},
   "source": [
    "# 10.2 From dict"
   ]
  },
  {
   "cell_type": "code",
   "execution_count": 37,
   "id": "ac43134f-c920-476d-bbd4-bde4776790ef",
   "metadata": {},
   "outputs": [
    {
     "data": {
      "text/plain": [
       "a    0.0\n",
       "b    1.0\n",
       "c    2.0\n",
       "dtype: float64"
      ]
     },
     "execution_count": 37,
     "metadata": {},
     "output_type": "execute_result"
    }
   ],
   "source": [
    "\"\"\" In following example, indexes are not given to it is constructed from the sorted keys of the dict\"\"\" \n",
    "d = {'a' : 0., 'b' : 1., 'c' : 2.} # a python dict\n",
    "pd.Series(d)"
   ]
  },
  {
   "cell_type": "code",
   "execution_count": 38,
   "id": "088ecaf7-09c4-4763-9cb6-458127e51222",
   "metadata": {},
   "outputs": [
    {
     "data": {
      "text/plain": [
       "b    1.0\n",
       "c    2.0\n",
       "d    NaN\n",
       "a    0.0\n",
       "dtype: float64"
      ]
     },
     "execution_count": 38,
     "metadata": {},
     "output_type": "execute_result"
    }
   ],
   "source": [
    "\"\"\" In following example, index are given, so the values in data corresponding in the index will be pulled ou \n",
    "t\"\"\" \n",
    "pd.Series(d, index=['b', 'c', 'd', 'a']) "
   ]
  },
  {
   "cell_type": "markdown",
   "id": "856e0f64-a1c9-4cf7-ad5b-366765bb36d7",
   "metadata": {},
   "source": [
    "# 10.3 From a scalar value"
   ]
  },
  {
   "cell_type": "code",
   "execution_count": 41,
   "id": "18abe574-094c-483d-ac64-be0e9e70e82a",
   "metadata": {},
   "outputs": [
    {
     "name": "stdout",
     "output_type": "stream",
     "text": [
      "a    5.0\n",
      "b    5.0\n",
      "c    5.0\n",
      "d    5.0\n",
      "e    5.0\n",
      "dtype: float64\n"
     ]
    }
   ],
   "source": [
    "import pandas as pd\n",
    "# In the following example, a scalar value is given as data\n",
    "# so it will be repeated to match the length of index\n",
    "s = pd.Series(5., index=['a', 'b', 'c', 'd', 'e'])\n",
    "print(s)\n"
   ]
  },
  {
   "cell_type": "markdown",
   "id": "3e1c0ffd-530f-483b-bf92-9bb39ecf3bd5",
   "metadata": {},
   "source": [
    "# 10.4 Series is ndarray-like"
   ]
  },
  {
   "cell_type": "code",
   "execution_count": 51,
   "id": "47784da5-108e-482a-9913-742641df1f34",
   "metadata": {},
   "outputs": [
    {
     "name": "stdout",
     "output_type": "stream",
     "text": [
      "10\n"
     ]
    }
   ],
   "source": [
    "import pandas as pd\n",
    "\n",
    "s = pd.Series([10, 20, 30])\n",
    "print(s.iloc[0])   # Output: 10\n"
   ]
  },
  {
   "cell_type": "code",
   "execution_count": 55,
   "id": "cafabd52-bbf2-42d4-8136-69a391a9e317",
   "metadata": {},
   "outputs": [
    {
     "data": {
      "text/plain": [
       "np.int64(10)"
      ]
     },
     "execution_count": 55,
     "metadata": {},
     "output_type": "execute_result"
    }
   ],
   "source": [
    "#we can access a value just like ndarray \n",
    "#access single value \n",
    "(s.iloc[0]) "
   ]
  },
  {
   "cell_type": "code",
   "execution_count": 57,
   "id": "d0b9bd1e-b60b-4b18-b8cb-34d27645463f",
   "metadata": {},
   "outputs": [
    {
     "data": {
      "text/plain": [
       "a    10\n",
       "b    20\n",
       "c    30\n",
       "dtype: int64"
      ]
     },
     "execution_count": 57,
     "metadata": {},
     "output_type": "execute_result"
    }
   ],
   "source": [
    " #access range of values \n",
    "s[:5] "
   ]
  },
  {
   "cell_type": "code",
   "execution_count": 58,
   "id": "fcdd22e5-ae86-4484-88d5-5ffadcd54629",
   "metadata": {},
   "outputs": [
    {
     "data": {
      "text/plain": [
       "c    30\n",
       "dtype: int64"
      ]
     },
     "execution_count": 58,
     "metadata": {},
     "output_type": "execute_result"
    }
   ],
   "source": [
    "\"\"\" Following example will return a range of values in series whose value is greater than the median of serie \n",
    "s\"\"\" \n",
    "s[s > s.median()] "
   ]
  },
  {
   "cell_type": "code",
   "execution_count": 60,
   "id": "58a61abb-8b78-47a1-bf99-c177326b4e2a",
   "metadata": {},
   "outputs": [
    {
     "name": "stdout",
     "output_type": "stream",
     "text": [
      "4    e\n",
      "3    d\n",
      "1    b\n",
      "dtype: object\n"
     ]
    }
   ],
   "source": [
    "s = pd.Series(['a', 'b', 'c', 'd', 'e'])\n",
    "\n",
    "\"\"\"Following example returns the values in the Series with indexes 4, 3, and 1.\n",
    "For example: the values at positions 4, 3, and 1 are 'e', 'd', and 'b' respectively.\"\"\"\n",
    "print(s[[4, 3, 1]])"
   ]
  },
  {
   "cell_type": "code",
   "execution_count": 63,
   "id": "910e6960-913b-4b80-89c5-c02d8d6e6f2a",
   "metadata": {},
   "outputs": [
    {
     "name": "stdout",
     "output_type": "stream",
     "text": [
      "0     2.718282\n",
      "1     7.389056\n",
      "2    20.085537\n",
      "3    54.598150\n",
      "dtype: float64\n"
     ]
    }
   ],
   "source": [
    "import numpy as np\n",
    "import pandas as pd\n",
    "\n",
    "s = pd.Series([1, 2, 3, 4])\n",
    "\n",
    "\"\"\"Following example returns the exponent values.\n",
    "Just like e^a (here 'a' is each element of the Series).\"\"\"\n",
    "print(np.exp(s))"
   ]
  },
  {
   "cell_type": "code",
   "execution_count": 65,
   "id": "d524266b-64f5-4948-9f21-8605256d4e68",
   "metadata": {},
   "outputs": [
    {
     "name": "stdout",
     "output_type": "stream",
     "text": [
      "10\n"
     ]
    }
   ],
   "source": [
    "s = pd.Series([10, 20, 30, 40, 50], index=['a', 'b', 'c', 'd', 'e'])\n",
    "\n",
    "\"\"\"Following example will get the data of given index\"\"\"\n",
    "print(s['a'])"
   ]
  },
  {
   "cell_type": "code",
   "execution_count": 67,
   "id": "f1333026-c74f-4667-a382-14924be7b697",
   "metadata": {},
   "outputs": [
    {
     "name": "stdout",
     "output_type": "stream",
     "text": [
      "Before updating:\n",
      "a     1.000000\n",
      "b     2.718282\n",
      "c     7.389056\n",
      "d    20.085537\n",
      "e    54.598150\n",
      "dtype: float64\n",
      "\n",
      "After updating:\n",
      "a     1.000000\n",
      "b     2.718282\n",
      "c     7.389056\n",
      "d    20.085537\n",
      "e    12.000000\n",
      "dtype: float64\n"
     ]
    }
   ],
   "source": [
    "s = pd.Series(np.exp([0, 1, 2, 3, 4]), index=['a', 'b', 'c', 'd', 'e'])\n",
    "\n",
    "\"\"\"Following example will update the data of the given index\"\"\"\n",
    "print(\"Before updating:\")\n",
    "print(s)\n",
    "\n",
    "# Update value at index 'e'\n",
    "s['e'] = 12.0\n",
    "\n",
    "print(\"\\nAfter updating:\")\n",
    "print(s)"
   ]
  },
  {
   "cell_type": "code",
   "execution_count": 70,
   "id": "39e1915d-48a0-4cb1-8c3b-809f810d5ded",
   "metadata": {},
   "outputs": [
    {
     "name": "stdout",
     "output_type": "stream",
     "text": [
      "True\n"
     ]
    }
   ],
   "source": [
    "\n",
    "s = pd.Series([10, 20, 30, 40, 50], index=['a', 'b', 'c', 'd', 'e'])\n",
    "\n",
    "\"\"\"Following will return True if 'e' is in the values of index otherwise False\"\"\"\n",
    "print('e' in s)\n",
    "\n"
   ]
  },
  {
   "cell_type": "code",
   "execution_count": 71,
   "id": "2948496c-ae55-4820-81f9-98613c71f292",
   "metadata": {},
   "outputs": [
    {
     "ename": "KeyError",
     "evalue": "'f'",
     "output_type": "error",
     "traceback": [
      "\u001b[31m---------------------------------------------------------------------------\u001b[39m",
      "\u001b[31mKeyError\u001b[39m                                  Traceback (most recent call last)",
      "\u001b[36mFile \u001b[39m\u001b[32m~\\AppData\\Local\\Programs\\Python\\Python313\\Lib\\site-packages\\pandas\\core\\indexes\\base.py:3812\u001b[39m, in \u001b[36mIndex.get_loc\u001b[39m\u001b[34m(self, key)\u001b[39m\n\u001b[32m   3811\u001b[39m \u001b[38;5;28;01mtry\u001b[39;00m:\n\u001b[32m-> \u001b[39m\u001b[32m3812\u001b[39m     \u001b[38;5;28;01mreturn\u001b[39;00m \u001b[38;5;28;43mself\u001b[39;49m\u001b[43m.\u001b[49m\u001b[43m_engine\u001b[49m\u001b[43m.\u001b[49m\u001b[43mget_loc\u001b[49m\u001b[43m(\u001b[49m\u001b[43mcasted_key\u001b[49m\u001b[43m)\u001b[49m\n\u001b[32m   3813\u001b[39m \u001b[38;5;28;01mexcept\u001b[39;00m \u001b[38;5;167;01mKeyError\u001b[39;00m \u001b[38;5;28;01mas\u001b[39;00m err:\n",
      "\u001b[36mFile \u001b[39m\u001b[32mpandas/_libs/index.pyx:167\u001b[39m, in \u001b[36mpandas._libs.index.IndexEngine.get_loc\u001b[39m\u001b[34m()\u001b[39m\n",
      "\u001b[36mFile \u001b[39m\u001b[32mpandas/_libs/index.pyx:196\u001b[39m, in \u001b[36mpandas._libs.index.IndexEngine.get_loc\u001b[39m\u001b[34m()\u001b[39m\n",
      "\u001b[36mFile \u001b[39m\u001b[32mpandas/_libs/hashtable_class_helper.pxi:7088\u001b[39m, in \u001b[36mpandas._libs.hashtable.PyObjectHashTable.get_item\u001b[39m\u001b[34m()\u001b[39m\n",
      "\u001b[36mFile \u001b[39m\u001b[32mpandas/_libs/hashtable_class_helper.pxi:7096\u001b[39m, in \u001b[36mpandas._libs.hashtable.PyObjectHashTable.get_item\u001b[39m\u001b[34m()\u001b[39m\n",
      "\u001b[31mKeyError\u001b[39m: 'f'",
      "\nThe above exception was the direct cause of the following exception:\n",
      "\u001b[31mKeyError\u001b[39m                                  Traceback (most recent call last)",
      "\u001b[36mCell\u001b[39m\u001b[36m \u001b[39m\u001b[32mIn[71]\u001b[39m\u001b[32m, line 2\u001b[39m\n\u001b[32m      1\u001b[39m \u001b[33;03m\"\"\"If a label is not contained and you are trying to access its data, an exception is raised: \"\"\"\u001b[39;00m \n\u001b[32m----> \u001b[39m\u001b[32m2\u001b[39m \u001b[43ms\u001b[49m\u001b[43m[\u001b[49m\u001b[33;43m'\u001b[39;49m\u001b[33;43mf\u001b[39;49m\u001b[33;43m'\u001b[39;49m\u001b[43m]\u001b[49m \n\u001b[32m      3\u001b[39m \u001b[38;5;66;03m# This will create error \u001b[39;00m\n",
      "\u001b[36mFile \u001b[39m\u001b[32m~\\AppData\\Local\\Programs\\Python\\Python313\\Lib\\site-packages\\pandas\\core\\series.py:1130\u001b[39m, in \u001b[36mSeries.__getitem__\u001b[39m\u001b[34m(self, key)\u001b[39m\n\u001b[32m   1127\u001b[39m     \u001b[38;5;28;01mreturn\u001b[39;00m \u001b[38;5;28mself\u001b[39m._values[key]\n\u001b[32m   1129\u001b[39m \u001b[38;5;28;01melif\u001b[39;00m key_is_scalar:\n\u001b[32m-> \u001b[39m\u001b[32m1130\u001b[39m     \u001b[38;5;28;01mreturn\u001b[39;00m \u001b[38;5;28;43mself\u001b[39;49m\u001b[43m.\u001b[49m\u001b[43m_get_value\u001b[49m\u001b[43m(\u001b[49m\u001b[43mkey\u001b[49m\u001b[43m)\u001b[49m\n\u001b[32m   1132\u001b[39m \u001b[38;5;66;03m# Convert generator to list before going through hashable part\u001b[39;00m\n\u001b[32m   1133\u001b[39m \u001b[38;5;66;03m# (We will iterate through the generator there to check for slices)\u001b[39;00m\n\u001b[32m   1134\u001b[39m \u001b[38;5;28;01mif\u001b[39;00m is_iterator(key):\n",
      "\u001b[36mFile \u001b[39m\u001b[32m~\\AppData\\Local\\Programs\\Python\\Python313\\Lib\\site-packages\\pandas\\core\\series.py:1246\u001b[39m, in \u001b[36mSeries._get_value\u001b[39m\u001b[34m(self, label, takeable)\u001b[39m\n\u001b[32m   1243\u001b[39m     \u001b[38;5;28;01mreturn\u001b[39;00m \u001b[38;5;28mself\u001b[39m._values[label]\n\u001b[32m   1245\u001b[39m \u001b[38;5;66;03m# Similar to Index.get_value, but we do not fall back to positional\u001b[39;00m\n\u001b[32m-> \u001b[39m\u001b[32m1246\u001b[39m loc = \u001b[38;5;28;43mself\u001b[39;49m\u001b[43m.\u001b[49m\u001b[43mindex\u001b[49m\u001b[43m.\u001b[49m\u001b[43mget_loc\u001b[49m\u001b[43m(\u001b[49m\u001b[43mlabel\u001b[49m\u001b[43m)\u001b[49m\n\u001b[32m   1248\u001b[39m \u001b[38;5;28;01mif\u001b[39;00m is_integer(loc):\n\u001b[32m   1249\u001b[39m     \u001b[38;5;28;01mreturn\u001b[39;00m \u001b[38;5;28mself\u001b[39m._values[loc]\n",
      "\u001b[36mFile \u001b[39m\u001b[32m~\\AppData\\Local\\Programs\\Python\\Python313\\Lib\\site-packages\\pandas\\core\\indexes\\base.py:3819\u001b[39m, in \u001b[36mIndex.get_loc\u001b[39m\u001b[34m(self, key)\u001b[39m\n\u001b[32m   3814\u001b[39m     \u001b[38;5;28;01mif\u001b[39;00m \u001b[38;5;28misinstance\u001b[39m(casted_key, \u001b[38;5;28mslice\u001b[39m) \u001b[38;5;129;01mor\u001b[39;00m (\n\u001b[32m   3815\u001b[39m         \u001b[38;5;28misinstance\u001b[39m(casted_key, abc.Iterable)\n\u001b[32m   3816\u001b[39m         \u001b[38;5;129;01mand\u001b[39;00m \u001b[38;5;28many\u001b[39m(\u001b[38;5;28misinstance\u001b[39m(x, \u001b[38;5;28mslice\u001b[39m) \u001b[38;5;28;01mfor\u001b[39;00m x \u001b[38;5;129;01min\u001b[39;00m casted_key)\n\u001b[32m   3817\u001b[39m     ):\n\u001b[32m   3818\u001b[39m         \u001b[38;5;28;01mraise\u001b[39;00m InvalidIndexError(key)\n\u001b[32m-> \u001b[39m\u001b[32m3819\u001b[39m     \u001b[38;5;28;01mraise\u001b[39;00m \u001b[38;5;167;01mKeyError\u001b[39;00m(key) \u001b[38;5;28;01mfrom\u001b[39;00m\u001b[38;5;250m \u001b[39m\u001b[34;01merr\u001b[39;00m\n\u001b[32m   3820\u001b[39m \u001b[38;5;28;01mexcept\u001b[39;00m \u001b[38;5;167;01mTypeError\u001b[39;00m:\n\u001b[32m   3821\u001b[39m     \u001b[38;5;66;03m# If we have a listlike key, _check_indexing_error will raise\u001b[39;00m\n\u001b[32m   3822\u001b[39m     \u001b[38;5;66;03m#  InvalidIndexError. Otherwise we fall through and re-raise\u001b[39;00m\n\u001b[32m   3823\u001b[39m     \u001b[38;5;66;03m#  the TypeError.\u001b[39;00m\n\u001b[32m   3824\u001b[39m     \u001b[38;5;28mself\u001b[39m._check_indexing_error(key)\n",
      "\u001b[31mKeyError\u001b[39m: 'f'"
     ]
    }
   ],
   "source": [
    "\"\"\"If a label is not contained and you are trying to access its data, an exception is raised: \"\"\" \n",
    "s['f'] \n",
    "# This will create error "
   ]
  },
  {
   "cell_type": "code",
   "execution_count": 73,
   "id": "bbf64673-75a2-4372-9f7a-1738e7962a73",
   "metadata": {},
   "outputs": [
    {
     "name": "stdout",
     "output_type": "stream",
     "text": [
      "None\n",
      "nan\n"
     ]
    }
   ],
   "source": [
    "import pandas as pd\n",
    "import numpy as np\n",
    "\n",
    "s = pd.Series([10, 20, 30, 40, 50], index=['a', 'b', 'c', 'd', 'e'])\n",
    "\n",
    "\"\"\"Using the get() method, a missing label will return None or a specified default\"\"\"\n",
    "print(s.get('f'))          # It will return None\n",
    "print(s.get('f', np.nan))  # It will return the default value (NaN)\n"
   ]
  },
  {
   "cell_type": "markdown",
   "id": "675ad21c-1e1d-49ed-853e-f1f4bf5f5b9a",
   "metadata": {},
   "source": [
    "# 10.5 Vectorized operations and label alignment with Series"
   ]
  },
  {
   "cell_type": "code",
   "execution_count": 3,
   "id": "e0ef27d4-90a6-4877-86be-17093df2277d",
   "metadata": {},
   "outputs": [
    {
     "name": "stdout",
     "output_type": "stream",
     "text": [
      "a     20\n",
      "b     40\n",
      "c     60\n",
      "d     80\n",
      "e    100\n",
      "dtype: int64\n"
     ]
    }
   ],
   "source": [
    "import pandas as pd\n",
    "\n",
    "s = pd.Series([10, 20, 30, 40, 50], index=['a', 'b', 'c', 'd', 'e'])\n",
    "\n",
    "\"\"\"following will add the data of respective values of indexes.\n",
    "For example, in given output, it is calculated as:\n",
    "a = s['a'] + s['a']\n",
    "b = s['b'] + s['b']\n",
    "c = s['c'] + s['c']\n",
    "d = s['d'] + s['d']\n",
    "e = s['e'] + s['e']\n",
    "\"\"\"\n",
    "\n",
    "# Perform addition\n",
    "print(s + s)\n"
   ]
  },
  {
   "cell_type": "code",
   "execution_count": 4,
   "id": "f718cade-c511-4ef0-a72f-ac6e861ae5bb",
   "metadata": {},
   "outputs": [
    {
     "data": {
      "text/plain": [
       "a     20\n",
       "b     40\n",
       "c     60\n",
       "d     80\n",
       "e    100\n",
       "dtype: int64"
      ]
     },
     "execution_count": 4,
     "metadata": {},
     "output_type": "execute_result"
    }
   ],
   "source": [
    "\"\"\"following will multiply the data of each values of indexes, with 2. For example, in given output, it is ca \n",
    "lculated as: \n",
    "a = s['a'] *2\n",
    " b = s['b'] *2\n",
    " c = s['c'] *2\n",
    " d = s['d'] *2 \n",
    "e = s['e'] *2\"\"\" \n",
    "s * 2 "
   ]
  },
  {
   "cell_type": "code",
   "execution_count": 6,
   "id": "c09e926e-b5b1-4571-8137-bfdbf041f8c2",
   "metadata": {},
   "outputs": [
    {
     "data": {
      "text/plain": [
       "0    1.817697\n",
       "1    1.625711\n",
       "2   -0.905029\n",
       "3    1.360455\n",
       "4   -0.779222\n",
       "Name: something, dtype: float64"
      ]
     },
     "execution_count": 6,
     "metadata": {},
     "output_type": "execute_result"
    }
   ],
   "source": [
    "\n",
    "import numpy as np\n",
    "s = pd.Series(np.random.randn(5), name='something') \n",
    "s "
   ]
  },
  {
   "cell_type": "code",
   "execution_count": 7,
   "id": "c756b9a5-c9b3-471e-8a49-45c4c9104b7c",
   "metadata": {},
   "outputs": [
    {
     "data": {
      "text/plain": [
       "'something'"
      ]
     },
     "execution_count": 7,
     "metadata": {},
     "output_type": "execute_result"
    }
   ],
   "source": [
    "s.name #print the name attribute of series"
   ]
  },
  {
   "cell_type": "code",
   "execution_count": 8,
   "id": "71fc10e8-1ad7-4874-8a41-cd54131dd2ec",
   "metadata": {},
   "outputs": [
    {
     "data": {
      "text/plain": [
       "'different'"
      ]
     },
     "execution_count": 8,
     "metadata": {},
     "output_type": "execute_result"
    }
   ],
   "source": [
    " #rename the series name attribute and assign to s2 object. Note that s and s2 refer to different objects. \n",
    "s2 = s.rename(\"different\") \n",
    "s2.name "
   ]
  },
  {
   "cell_type": "markdown",
   "id": "5e5049a8-ecc8-4403-bd03-e27f56d670e6",
   "metadata": {},
   "source": [
    "# 11. Data Frames"
   ]
  },
  {
   "cell_type": "markdown",
   "id": "6278d53a-96c1-40c4-a077-33f10f03a5aa",
   "metadata": {},
   "source": [
    "# 11.1 From dict of Series or dicts"
   ]
  },
  {
   "cell_type": "code",
   "execution_count": 10,
   "id": "0f476410-b98a-4764-a449-fc774877ffc0",
   "metadata": {},
   "outputs": [
    {
     "data": {
      "text/html": [
       "<div>\n",
       "<style scoped>\n",
       "    .dataframe tbody tr th:only-of-type {\n",
       "        vertical-align: middle;\n",
       "    }\n",
       "\n",
       "    .dataframe tbody tr th {\n",
       "        vertical-align: top;\n",
       "    }\n",
       "\n",
       "    .dataframe thead th {\n",
       "        text-align: right;\n",
       "    }\n",
       "</style>\n",
       "<table border=\"1\" class=\"dataframe\">\n",
       "  <thead>\n",
       "    <tr style=\"text-align: right;\">\n",
       "      <th></th>\n",
       "      <th>one</th>\n",
       "      <th>two</th>\n",
       "    </tr>\n",
       "  </thead>\n",
       "  <tbody>\n",
       "    <tr>\n",
       "      <th>a</th>\n",
       "      <td>1.0</td>\n",
       "      <td>1.0</td>\n",
       "    </tr>\n",
       "    <tr>\n",
       "      <th>b</th>\n",
       "      <td>2.0</td>\n",
       "      <td>2.0</td>\n",
       "    </tr>\n",
       "    <tr>\n",
       "      <th>c</th>\n",
       "      <td>3.0</td>\n",
       "      <td>3.0</td>\n",
       "    </tr>\n",
       "    <tr>\n",
       "      <th>d</th>\n",
       "      <td>NaN</td>\n",
       "      <td>4.0</td>\n",
       "    </tr>\n",
       "  </tbody>\n",
       "</table>\n",
       "</div>"
      ],
      "text/plain": [
       "   one  two\n",
       "a  1.0  1.0\n",
       "b  2.0  2.0\n",
       "c  3.0  3.0\n",
       "d  NaN  4.0"
      ]
     },
     "execution_count": 10,
     "metadata": {},
     "output_type": "execute_result"
    }
   ],
   "source": [
    "import pandas as pd\n",
    "\n",
    "\"\"\"A dict is created\"\"\"\n",
    "d = { \n",
    "    'one': pd.Series([1., 2., 3.], index=['a', 'b', 'c']),\n",
    "    'two': pd.Series([1., 2., 3., 4.], index=['a', 'b', 'c', 'd']) \n",
    "}\n",
    "\n",
    "# Create a DataFrame — row labels will be the index of the Series,\n",
    "# and column labels will be the sorted list of dict keys.\n",
    "df = pd.DataFrame(d)\n",
    "df\n",
    "\n"
   ]
  },
  {
   "cell_type": "code",
   "execution_count": 12,
   "id": "02174676-2186-4dbd-8232-fe50ab99a4e5",
   "metadata": {},
   "outputs": [
    {
     "data": {
      "text/html": [
       "<div>\n",
       "<style scoped>\n",
       "    .dataframe tbody tr th:only-of-type {\n",
       "        vertical-align: middle;\n",
       "    }\n",
       "\n",
       "    .dataframe tbody tr th {\n",
       "        vertical-align: top;\n",
       "    }\n",
       "\n",
       "    .dataframe thead th {\n",
       "        text-align: right;\n",
       "    }\n",
       "</style>\n",
       "<table border=\"1\" class=\"dataframe\">\n",
       "  <thead>\n",
       "    <tr style=\"text-align: right;\">\n",
       "      <th></th>\n",
       "      <th>one</th>\n",
       "      <th>two</th>\n",
       "    </tr>\n",
       "  </thead>\n",
       "  <tbody>\n",
       "    <tr>\n",
       "      <th>d</th>\n",
       "      <td>NaN</td>\n",
       "      <td>4.0</td>\n",
       "    </tr>\n",
       "    <tr>\n",
       "      <th>b</th>\n",
       "      <td>2.0</td>\n",
       "      <td>2.0</td>\n",
       "    </tr>\n",
       "    <tr>\n",
       "      <th>a</th>\n",
       "      <td>1.0</td>\n",
       "      <td>1.0</td>\n",
       "    </tr>\n",
       "  </tbody>\n",
       "</table>\n",
       "</div>"
      ],
      "text/plain": [
       "   one  two\n",
       "d  NaN  4.0\n",
       "b  2.0  2.0\n",
       "a  1.0  1.0"
      ]
     },
     "execution_count": 12,
     "metadata": {},
     "output_type": "execute_result"
    }
   ],
   "source": [
    "\"\"\"A DataFrame will be constructed for given row labels\"\"\"\n",
    "pd.DataFrame(d, index=['d', 'b', 'a'])\n"
   ]
  },
  {
   "cell_type": "code",
   "execution_count": 14,
   "id": "2523ce63-0968-4362-8984-69789678da05",
   "metadata": {},
   "outputs": [
    {
     "data": {
      "text/html": [
       "<div>\n",
       "<style scoped>\n",
       "    .dataframe tbody tr th:only-of-type {\n",
       "        vertical-align: middle;\n",
       "    }\n",
       "\n",
       "    .dataframe tbody tr th {\n",
       "        vertical-align: top;\n",
       "    }\n",
       "\n",
       "    .dataframe thead th {\n",
       "        text-align: right;\n",
       "    }\n",
       "</style>\n",
       "<table border=\"1\" class=\"dataframe\">\n",
       "  <thead>\n",
       "    <tr style=\"text-align: right;\">\n",
       "      <th></th>\n",
       "      <th>two</th>\n",
       "      <th>three</th>\n",
       "    </tr>\n",
       "  </thead>\n",
       "  <tbody>\n",
       "    <tr>\n",
       "      <th>d</th>\n",
       "      <td>4.0</td>\n",
       "      <td>NaN</td>\n",
       "    </tr>\n",
       "    <tr>\n",
       "      <th>b</th>\n",
       "      <td>2.0</td>\n",
       "      <td>NaN</td>\n",
       "    </tr>\n",
       "    <tr>\n",
       "      <th>a</th>\n",
       "      <td>1.0</td>\n",
       "      <td>NaN</td>\n",
       "    </tr>\n",
       "  </tbody>\n",
       "</table>\n",
       "</div>"
      ],
      "text/plain": [
       "   two three\n",
       "d  4.0   NaN\n",
       "b  2.0   NaN\n",
       "a  1.0   NaN"
      ]
     },
     "execution_count": 14,
     "metadata": {},
     "output_type": "execute_result"
    }
   ],
   "source": [
    "\"\"\"Following example shows a DataFrame when we give column labels\"\"\"\n",
    "pd.DataFrame(d, index=['d', 'b', 'a'], columns=['two', 'three'])\n"
   ]
  },
  {
   "cell_type": "code",
   "execution_count": 15,
   "id": "5e8b4d70-1b88-4cb7-8c22-3378d5d953f8",
   "metadata": {},
   "outputs": [
    {
     "data": {
      "text/plain": [
       "Index(['one', 'two'], dtype='object')"
      ]
     },
     "execution_count": 15,
     "metadata": {},
     "output_type": "execute_result"
    }
   ],
   "source": [
    "df.columns"
   ]
  },
  {
   "cell_type": "markdown",
   "id": "58b7e7c1-a90a-402d-add9-587d0722210c",
   "metadata": {},
   "source": [
    "# 11.2 From dict of ndarrays / lists "
   ]
  },
  {
   "cell_type": "code",
   "execution_count": 17,
   "id": "bbc11c83-8785-4edd-bca8-10fffd3eaabe",
   "metadata": {},
   "outputs": [
    {
     "data": {
      "text/html": [
       "<div>\n",
       "<style scoped>\n",
       "    .dataframe tbody tr th:only-of-type {\n",
       "        vertical-align: middle;\n",
       "    }\n",
       "\n",
       "    .dataframe tbody tr th {\n",
       "        vertical-align: top;\n",
       "    }\n",
       "\n",
       "    .dataframe thead th {\n",
       "        text-align: right;\n",
       "    }\n",
       "</style>\n",
       "<table border=\"1\" class=\"dataframe\">\n",
       "  <thead>\n",
       "    <tr style=\"text-align: right;\">\n",
       "      <th></th>\n",
       "      <th>one</th>\n",
       "      <th>two</th>\n",
       "    </tr>\n",
       "  </thead>\n",
       "  <tbody>\n",
       "    <tr>\n",
       "      <th>0</th>\n",
       "      <td>1.0</td>\n",
       "      <td>4.0</td>\n",
       "    </tr>\n",
       "    <tr>\n",
       "      <th>1</th>\n",
       "      <td>2.0</td>\n",
       "      <td>3.0</td>\n",
       "    </tr>\n",
       "    <tr>\n",
       "      <th>2</th>\n",
       "      <td>3.0</td>\n",
       "      <td>2.0</td>\n",
       "    </tr>\n",
       "    <tr>\n",
       "      <th>3</th>\n",
       "      <td>4.0</td>\n",
       "      <td>1.0</td>\n",
       "    </tr>\n",
       "  </tbody>\n",
       "</table>\n",
       "</div>"
      ],
      "text/plain": [
       "   one  two\n",
       "0  1.0  4.0\n",
       "1  2.0  3.0\n",
       "2  3.0  2.0\n",
       "3  4.0  1.0"
      ]
     },
     "execution_count": 17,
     "metadata": {},
     "output_type": "execute_result"
    }
   ],
   "source": [
    "\"\"\"Following example shows that ndarray has same length\"\"\"\n",
    "d = { \n",
    "    'one': [1., 2., 3., 4.],\n",
    "    'two': [4., 3., 2., 1.] \n",
    "}\n",
    "\n",
    "\"\"\"Column labels are not given so \n",
    "the result will be range(n), where n is the array length\"\"\"\n",
    "pd.DataFrame(d)\n"
   ]
  },
  {
   "cell_type": "code",
   "execution_count": 18,
   "id": "d4297119-7454-4056-8144-3b51f046181f",
   "metadata": {},
   "outputs": [
    {
     "data": {
      "text/html": [
       "<div>\n",
       "<style scoped>\n",
       "    .dataframe tbody tr th:only-of-type {\n",
       "        vertical-align: middle;\n",
       "    }\n",
       "\n",
       "    .dataframe tbody tr th {\n",
       "        vertical-align: top;\n",
       "    }\n",
       "\n",
       "    .dataframe thead th {\n",
       "        text-align: right;\n",
       "    }\n",
       "</style>\n",
       "<table border=\"1\" class=\"dataframe\">\n",
       "  <thead>\n",
       "    <tr style=\"text-align: right;\">\n",
       "      <th></th>\n",
       "      <th>one</th>\n",
       "      <th>two</th>\n",
       "    </tr>\n",
       "  </thead>\n",
       "  <tbody>\n",
       "    <tr>\n",
       "      <th>a</th>\n",
       "      <td>1.0</td>\n",
       "      <td>4.0</td>\n",
       "    </tr>\n",
       "    <tr>\n",
       "      <th>b</th>\n",
       "      <td>2.0</td>\n",
       "      <td>3.0</td>\n",
       "    </tr>\n",
       "    <tr>\n",
       "      <th>c</th>\n",
       "      <td>3.0</td>\n",
       "      <td>2.0</td>\n",
       "    </tr>\n",
       "    <tr>\n",
       "      <th>d</th>\n",
       "      <td>4.0</td>\n",
       "      <td>1.0</td>\n",
       "    </tr>\n",
       "  </tbody>\n",
       "</table>\n",
       "</div>"
      ],
      "text/plain": [
       "   one  two\n",
       "a  1.0  4.0\n",
       "b  2.0  3.0\n",
       "c  3.0  2.0\n",
       "d  4.0  1.0"
      ]
     },
     "execution_count": 18,
     "metadata": {},
     "output_type": "execute_result"
    }
   ],
   "source": [
    " \"\"\"If indexs are given then it would be same length as arrays\"\"\"\n",
    " pd.DataFrame(d, index=['a', 'b', 'c', 'd']) "
   ]
  },
  {
   "cell_type": "markdown",
   "id": "5db33e56-ae21-466b-a93d-f008fcda475e",
   "metadata": {},
   "source": [
    "# 11.3 From a list of dict"
   ]
  },
  {
   "cell_type": "code",
   "execution_count": 20,
   "id": "14d2a4bc-0c24-415b-b62f-29b2cb020737",
   "metadata": {},
   "outputs": [
    {
     "data": {
      "text/html": [
       "<div>\n",
       "<style scoped>\n",
       "    .dataframe tbody tr th:only-of-type {\n",
       "        vertical-align: middle;\n",
       "    }\n",
       "\n",
       "    .dataframe tbody tr th {\n",
       "        vertical-align: top;\n",
       "    }\n",
       "\n",
       "    .dataframe thead th {\n",
       "        text-align: right;\n",
       "    }\n",
       "</style>\n",
       "<table border=\"1\" class=\"dataframe\">\n",
       "  <thead>\n",
       "    <tr style=\"text-align: right;\">\n",
       "      <th></th>\n",
       "      <th>a</th>\n",
       "      <th>b</th>\n",
       "      <th>c</th>\n",
       "    </tr>\n",
       "  </thead>\n",
       "  <tbody>\n",
       "    <tr>\n",
       "      <th>0</th>\n",
       "      <td>1</td>\n",
       "      <td>2</td>\n",
       "      <td>NaN</td>\n",
       "    </tr>\n",
       "    <tr>\n",
       "      <th>1</th>\n",
       "      <td>5</td>\n",
       "      <td>10</td>\n",
       "      <td>20.0</td>\n",
       "    </tr>\n",
       "  </tbody>\n",
       "</table>\n",
       "</div>"
      ],
      "text/plain": [
       "   a   b     c\n",
       "0  1   2   NaN\n",
       "1  5  10  20.0"
      ]
     },
     "execution_count": 20,
     "metadata": {},
     "output_type": "execute_result"
    }
   ],
   "source": [
    "\"\"\"Constructing DataFrame from a list of dicts\"\"\" \n",
    "data2 = [{'a': 1, 'b': 2}, {'a': 5, 'b': 10, 'c': 20}]\n",
    "pd.DataFrame(data2)\n"
   ]
  },
  {
   "cell_type": "code",
   "execution_count": 22,
   "id": "51af8d2b-4b0c-44f2-8aed-2a05c18d9bc1",
   "metadata": {},
   "outputs": [
    {
     "data": {
      "text/html": [
       "<div>\n",
       "<style scoped>\n",
       "    .dataframe tbody tr th:only-of-type {\n",
       "        vertical-align: middle;\n",
       "    }\n",
       "\n",
       "    .dataframe tbody tr th {\n",
       "        vertical-align: top;\n",
       "    }\n",
       "\n",
       "    .dataframe thead th {\n",
       "        text-align: right;\n",
       "    }\n",
       "</style>\n",
       "<table border=\"1\" class=\"dataframe\">\n",
       "  <thead>\n",
       "    <tr style=\"text-align: right;\">\n",
       "      <th></th>\n",
       "      <th>a</th>\n",
       "      <th>b</th>\n",
       "      <th>c</th>\n",
       "    </tr>\n",
       "  </thead>\n",
       "  <tbody>\n",
       "    <tr>\n",
       "      <th>first</th>\n",
       "      <td>1</td>\n",
       "      <td>2</td>\n",
       "      <td>NaN</td>\n",
       "    </tr>\n",
       "    <tr>\n",
       "      <th>second</th>\n",
       "      <td>5</td>\n",
       "      <td>10</td>\n",
       "      <td>20.0</td>\n",
       "    </tr>\n",
       "  </tbody>\n",
       "</table>\n",
       "</div>"
      ],
      "text/plain": [
       "        a   b     c\n",
       "first   1   2   NaN\n",
       "second  5  10  20.0"
      ]
     },
     "execution_count": 22,
     "metadata": {},
     "output_type": "execute_result"
    }
   ],
   "source": [
    "\"\"\"Passing list of dicts as data and indexes (row labels)\"\"\" \n",
    "pd.DataFrame(data2, index=['first', 'second'])\n"
   ]
  },
  {
   "cell_type": "code",
   "execution_count": 24,
   "id": "2adc5a89-3cf6-4930-bc1a-5f413169fd9d",
   "metadata": {},
   "outputs": [
    {
     "data": {
      "text/html": [
       "<div>\n",
       "<style scoped>\n",
       "    .dataframe tbody tr th:only-of-type {\n",
       "        vertical-align: middle;\n",
       "    }\n",
       "\n",
       "    .dataframe tbody tr th {\n",
       "        vertical-align: top;\n",
       "    }\n",
       "\n",
       "    .dataframe thead th {\n",
       "        text-align: right;\n",
       "    }\n",
       "</style>\n",
       "<table border=\"1\" class=\"dataframe\">\n",
       "  <thead>\n",
       "    <tr style=\"text-align: right;\">\n",
       "      <th></th>\n",
       "      <th>a</th>\n",
       "      <th>b</th>\n",
       "    </tr>\n",
       "  </thead>\n",
       "  <tbody>\n",
       "    <tr>\n",
       "      <th>0</th>\n",
       "      <td>1</td>\n",
       "      <td>2</td>\n",
       "    </tr>\n",
       "    <tr>\n",
       "      <th>1</th>\n",
       "      <td>5</td>\n",
       "      <td>10</td>\n",
       "    </tr>\n",
       "  </tbody>\n",
       "</table>\n",
       "</div>"
      ],
      "text/plain": [
       "   a   b\n",
       "0  1   2\n",
       "1  5  10"
      ]
     },
     "execution_count": 24,
     "metadata": {},
     "output_type": "execute_result"
    }
   ],
   "source": [
    "\"\"\"Passing list of dicts as data and columns (column labels)\"\"\"\n",
    "pd.DataFrame(data2, columns=['a', 'b'])\n"
   ]
  },
  {
   "cell_type": "markdown",
   "id": "97f81cd3-b14d-4d63-a706-1119e7cc54ec",
   "metadata": {},
   "source": [
    "# 11.4 From a dict of tuples"
   ]
  },
  {
   "cell_type": "code",
   "execution_count": 25,
   "id": "a0f1cab6-cc74-42c1-9c01-e5ef876ac3c5",
   "metadata": {},
   "outputs": [
    {
     "data": {
      "text/html": [
       "<div>\n",
       "<style scoped>\n",
       "    .dataframe tbody tr th:only-of-type {\n",
       "        vertical-align: middle;\n",
       "    }\n",
       "\n",
       "    .dataframe tbody tr th {\n",
       "        vertical-align: top;\n",
       "    }\n",
       "\n",
       "    .dataframe thead tr th {\n",
       "        text-align: left;\n",
       "    }\n",
       "</style>\n",
       "<table border=\"1\" class=\"dataframe\">\n",
       "  <thead>\n",
       "    <tr>\n",
       "      <th></th>\n",
       "      <th></th>\n",
       "      <th colspan=\"3\" halign=\"left\">a</th>\n",
       "      <th colspan=\"2\" halign=\"left\">b</th>\n",
       "    </tr>\n",
       "    <tr>\n",
       "      <th></th>\n",
       "      <th></th>\n",
       "      <th>b</th>\n",
       "      <th>a</th>\n",
       "      <th>c</th>\n",
       "      <th>a</th>\n",
       "      <th>b</th>\n",
       "    </tr>\n",
       "  </thead>\n",
       "  <tbody>\n",
       "    <tr>\n",
       "      <th rowspan=\"3\" valign=\"top\">A</th>\n",
       "      <th>B</th>\n",
       "      <td>1.0</td>\n",
       "      <td>4.0</td>\n",
       "      <td>5.0</td>\n",
       "      <td>8.0</td>\n",
       "      <td>10.0</td>\n",
       "    </tr>\n",
       "    <tr>\n",
       "      <th>C</th>\n",
       "      <td>2.0</td>\n",
       "      <td>3.0</td>\n",
       "      <td>6.0</td>\n",
       "      <td>7.0</td>\n",
       "      <td>NaN</td>\n",
       "    </tr>\n",
       "    <tr>\n",
       "      <th>D</th>\n",
       "      <td>NaN</td>\n",
       "      <td>NaN</td>\n",
       "      <td>NaN</td>\n",
       "      <td>NaN</td>\n",
       "      <td>9.0</td>\n",
       "    </tr>\n",
       "  </tbody>\n",
       "</table>\n",
       "</div>"
      ],
      "text/plain": [
       "       a              b      \n",
       "       b    a    c    a     b\n",
       "A B  1.0  4.0  5.0  8.0  10.0\n",
       "  C  2.0  3.0  6.0  7.0   NaN\n",
       "  D  NaN  NaN  NaN  NaN   9.0"
      ]
     },
     "execution_count": 25,
     "metadata": {},
     "output_type": "execute_result"
    }
   ],
   "source": [
    "pd.DataFrame({('a', 'b'): {('A', 'B'): 1, ('A', 'C'): 2}, \n",
    "('a', 'a'): {('A', 'C'): 3, ('A', 'B'): 4},\n",
    " ('a', 'c'): {('A', 'B'): 5, ('A', 'C'): 6},\n",
    " ('b', 'a'): {('A', 'C'): 7, ('A', 'B'): 8},\n",
    " ('b', 'b'): {('A', 'D'): 9, ('A', 'B'): 10}})\n",
    " #\"NaN shows missing data"
   ]
  },
  {
   "cell_type": "markdown",
   "id": "bc355c9a-d123-4eef-852f-359ce05bd82d",
   "metadata": {},
   "source": [
    "# 11.5 Alternate Constructors "
   ]
  },
  {
   "cell_type": "code",
   "execution_count": 29,
   "id": "59b81051-7ca0-4f91-b549-d85fa34294bb",
   "metadata": {},
   "outputs": [
    {
     "data": {
      "text/plain": [
       "array([(0, 0., b''), (0, 0., b'')],\n",
       "      dtype=[('A', '<i4'), ('B', '<f4'), ('C', 'S10')])"
      ]
     },
     "execution_count": 29,
     "metadata": {},
     "output_type": "execute_result"
    }
   ],
   "source": [
    "import numpy as np\n",
    "\n",
    "data = np.zeros((2,), dtype=[('A', 'i4'), ('B', 'f4'), ('C', 'S10')])\n",
    "data\n"
   ]
  },
  {
   "cell_type": "code",
   "execution_count": 30,
   "id": "c5fd14f8-5b87-4a81-9101-86dab9f52c9d",
   "metadata": {},
   "outputs": [
    {
     "data": {
      "text/html": [
       "<div>\n",
       "<style scoped>\n",
       "    .dataframe tbody tr th:only-of-type {\n",
       "        vertical-align: middle;\n",
       "    }\n",
       "\n",
       "    .dataframe tbody tr th {\n",
       "        vertical-align: top;\n",
       "    }\n",
       "\n",
       "    .dataframe thead th {\n",
       "        text-align: right;\n",
       "    }\n",
       "</style>\n",
       "<table border=\"1\" class=\"dataframe\">\n",
       "  <thead>\n",
       "    <tr style=\"text-align: right;\">\n",
       "      <th></th>\n",
       "      <th>A</th>\n",
       "      <th>B</th>\n",
       "    </tr>\n",
       "    <tr>\n",
       "      <th>C</th>\n",
       "      <th></th>\n",
       "      <th></th>\n",
       "    </tr>\n",
       "  </thead>\n",
       "  <tbody>\n",
       "    <tr>\n",
       "      <th>b''</th>\n",
       "      <td>0</td>\n",
       "      <td>0.0</td>\n",
       "    </tr>\n",
       "    <tr>\n",
       "      <th>b''</th>\n",
       "      <td>0</td>\n",
       "      <td>0.0</td>\n",
       "    </tr>\n",
       "  </tbody>\n",
       "</table>\n",
       "</div>"
      ],
      "text/plain": [
       "     A    B\n",
       "C          \n",
       "b''  0  0.0\n",
       "b''  0  0.0"
      ]
     },
     "execution_count": 30,
     "metadata": {},
     "output_type": "execute_result"
    }
   ],
   "source": [
    " pd.DataFrame.from_records(data, index='C') "
   ]
  },
  {
   "cell_type": "code",
   "execution_count": 32,
   "id": "5d66a375-a900-4a42-ae79-3f09d940d292",
   "metadata": {},
   "outputs": [
    {
     "data": {
      "text/html": [
       "<div>\n",
       "<style scoped>\n",
       "    .dataframe tbody tr th:only-of-type {\n",
       "        vertical-align: middle;\n",
       "    }\n",
       "\n",
       "    .dataframe tbody tr th {\n",
       "        vertical-align: top;\n",
       "    }\n",
       "\n",
       "    .dataframe thead th {\n",
       "        text-align: right;\n",
       "    }\n",
       "</style>\n",
       "<table border=\"1\" class=\"dataframe\">\n",
       "  <thead>\n",
       "    <tr style=\"text-align: right;\">\n",
       "      <th></th>\n",
       "      <th>A</th>\n",
       "      <th>B</th>\n",
       "    </tr>\n",
       "  </thead>\n",
       "  <tbody>\n",
       "    <tr>\n",
       "      <th>0</th>\n",
       "      <td>1</td>\n",
       "      <td>4</td>\n",
       "    </tr>\n",
       "    <tr>\n",
       "      <th>1</th>\n",
       "      <td>2</td>\n",
       "      <td>5</td>\n",
       "    </tr>\n",
       "    <tr>\n",
       "      <th>2</th>\n",
       "      <td>3</td>\n",
       "      <td>6</td>\n",
       "    </tr>\n",
       "  </tbody>\n",
       "</table>\n",
       "</div>"
      ],
      "text/plain": [
       "   A  B\n",
       "0  1  4\n",
       "1  2  5\n",
       "2  3  6"
      ]
     },
     "execution_count": 32,
     "metadata": {},
     "output_type": "execute_result"
    }
   ],
   "source": [
    "import pandas as pd\n",
    "\n",
    "pd.DataFrame({'A': [1, 2, 3], 'B': [4, 5, 6]})\n"
   ]
  },
  {
   "cell_type": "code",
   "execution_count": 4,
   "id": "55e2bd37-599a-4a05-93f2-cd4df51a3bb8",
   "metadata": {},
   "outputs": [
    {
     "data": {
      "text/html": [
       "<div>\n",
       "<style scoped>\n",
       "    .dataframe tbody tr th:only-of-type {\n",
       "        vertical-align: middle;\n",
       "    }\n",
       "\n",
       "    .dataframe tbody tr th {\n",
       "        vertical-align: top;\n",
       "    }\n",
       "\n",
       "    .dataframe thead th {\n",
       "        text-align: right;\n",
       "    }\n",
       "</style>\n",
       "<table border=\"1\" class=\"dataframe\">\n",
       "  <thead>\n",
       "    <tr style=\"text-align: right;\">\n",
       "      <th></th>\n",
       "      <th>one</th>\n",
       "      <th>two</th>\n",
       "      <th>three</th>\n",
       "    </tr>\n",
       "  </thead>\n",
       "  <tbody>\n",
       "    <tr>\n",
       "      <th>A</th>\n",
       "      <td>1</td>\n",
       "      <td>2</td>\n",
       "      <td>3</td>\n",
       "    </tr>\n",
       "    <tr>\n",
       "      <th>B</th>\n",
       "      <td>4</td>\n",
       "      <td>5</td>\n",
       "      <td>6</td>\n",
       "    </tr>\n",
       "  </tbody>\n",
       "</table>\n",
       "</div>"
      ],
      "text/plain": [
       "   one  two  three\n",
       "A    1    2      3\n",
       "B    4    5      6"
      ]
     },
     "execution_count": 4,
     "metadata": {},
     "output_type": "execute_result"
    }
   ],
   "source": [
    "import pandas as pd\n",
    "\n",
    "pd.DataFrame.from_dict(\n",
    "    {'A': [1, 2, 3], 'B': [4, 5, 6]},\n",
    "    orient='index',\n",
    "    columns=['one', 'two', 'three']\n",
    ")\n"
   ]
  },
  {
   "cell_type": "markdown",
   "id": "46db2aa8-0551-4d08-9c71-86518958ddd3",
   "metadata": {},
   "source": [
    "# 11.6 Column selection, addition, deletion"
   ]
  },
  {
   "cell_type": "code",
   "execution_count": 6,
   "id": "ea4eaeb3-20b9-4551-bb78-9b952b9a1364",
   "metadata": {},
   "outputs": [
    {
     "data": {
      "text/plain": [
       "A    1\n",
       "B    4\n",
       "Name: one, dtype: int64"
      ]
     },
     "execution_count": 6,
     "metadata": {},
     "output_type": "execute_result"
    }
   ],
   "source": [
    "import pandas as pd\n",
    "\n",
    "# Create the DataFrame first\n",
    "df = pd.DataFrame.from_dict(\n",
    "    {'A': [1, 2, 3], 'B': [4, 5, 6]},\n",
    "    orient='index',\n",
    "    columns=['one', 'two', 'three']\n",
    ")\n",
    "\n",
    "# Now you can access the column 'one'\n",
    "df['one']\n"
   ]
  },
  {
   "cell_type": "code",
   "execution_count": 9,
   "id": "8bf85e94-d12b-4ddb-9527-ae14a98a5057",
   "metadata": {},
   "outputs": [
    {
     "name": "stdout",
     "output_type": "stream",
     "text": [
      "   one  two  three\n",
      "A    1    2      2\n",
      "B    4    5     20\n"
     ]
    }
   ],
   "source": [
    "import pandas as pd\n",
    "\n",
    "# Create a sample DataFrame\n",
    "df = pd.DataFrame.from_dict(\n",
    "    {'A': [1, 2, 3], 'B': [4, 5, 6]},\n",
    "    orient='index',\n",
    "    columns=['one', 'two', 'three']\n",
    ")\n",
    "\n",
    "# Assign a new column 'three' by multiplying columns 'one' and 'two'\n",
    "df['three'] = df['one'] * df['two']\n",
    "\n",
    "# Display the updated DataFrame\n",
    "print(df)\n"
   ]
  },
  {
   "cell_type": "code",
   "execution_count": 11,
   "id": "b1a9e06b-483f-46f8-b57d-f5edce341097",
   "metadata": {},
   "outputs": [
    {
     "name": "stdout",
     "output_type": "stream",
     "text": [
      "   one  two  three   flag\n",
      "A    1    2      3  False\n",
      "B    4    5      6   True\n"
     ]
    }
   ],
   "source": [
    "import pandas as pd\n",
    "\n",
    "# Sample DataFrame\n",
    "df = pd.DataFrame.from_dict(\n",
    "    {'A': [1, 2, 3], 'B': [4, 5, 6]},\n",
    "    orient='index',\n",
    "    columns=['one', 'two', 'three']\n",
    ")\n",
    "\n",
    "# Add a new column using a condition\n",
    "df['flag'] = df['one'] > 2\n",
    "\n",
    "# Display the DataFrame\n",
    "print(df)\n"
   ]
  },
  {
   "cell_type": "code",
   "execution_count": 12,
   "id": "b06cf895-a2f9-4444-811a-24b37237c7fa",
   "metadata": {},
   "outputs": [
    {
     "data": {
      "text/html": [
       "<div>\n",
       "<style scoped>\n",
       "    .dataframe tbody tr th:only-of-type {\n",
       "        vertical-align: middle;\n",
       "    }\n",
       "\n",
       "    .dataframe tbody tr th {\n",
       "        vertical-align: top;\n",
       "    }\n",
       "\n",
       "    .dataframe thead th {\n",
       "        text-align: right;\n",
       "    }\n",
       "</style>\n",
       "<table border=\"1\" class=\"dataframe\">\n",
       "  <thead>\n",
       "    <tr style=\"text-align: right;\">\n",
       "      <th></th>\n",
       "      <th>one</th>\n",
       "      <th>two</th>\n",
       "      <th>three</th>\n",
       "      <th>flag</th>\n",
       "    </tr>\n",
       "  </thead>\n",
       "  <tbody>\n",
       "    <tr>\n",
       "      <th>A</th>\n",
       "      <td>1</td>\n",
       "      <td>2</td>\n",
       "      <td>3</td>\n",
       "      <td>False</td>\n",
       "    </tr>\n",
       "    <tr>\n",
       "      <th>B</th>\n",
       "      <td>4</td>\n",
       "      <td>5</td>\n",
       "      <td>6</td>\n",
       "      <td>True</td>\n",
       "    </tr>\n",
       "  </tbody>\n",
       "</table>\n",
       "</div>"
      ],
      "text/plain": [
       "   one  two  three   flag\n",
       "A    1    2      3  False\n",
       "B    4    5      6   True"
      ]
     },
     "execution_count": 12,
     "metadata": {},
     "output_type": "execute_result"
    }
   ],
   "source": [
    " df #print a complete data frame"
   ]
  },
  {
   "cell_type": "code",
   "execution_count": 14,
   "id": "600b6f7e-da2a-4ccb-a283-b2b950a26b49",
   "metadata": {},
   "outputs": [
    {
     "name": "stdout",
     "output_type": "stream",
     "text": [
      "Original DataFrame:\n",
      "   one  two  three\n",
      "A    1    2      3\n",
      "B    4    5      6\n",
      "\n",
      "\n",
      "After adding 'flag' column:\n",
      "   one  two  three   flag\n",
      "A    1    2      3  False\n",
      "B    4    5      6   True\n",
      "\n",
      "\n",
      "After deleting 'two' column:\n",
      "   one  three   flag\n",
      "A    1      3  False\n",
      "B    4      6   True\n"
     ]
    }
   ],
   "source": [
    "import pandas as pd\n",
    "\n",
    "# Step 1: Create a DataFrame\n",
    "df = pd.DataFrame.from_dict(\n",
    "    {'A': {'one': 1, 'two': 2, 'three': 3},\n",
    "     'B': {'one': 4, 'two': 5, 'three': 6}},\n",
    "    orient='index'\n",
    ")\n",
    "\n",
    "print(\"Original DataFrame:\")\n",
    "print(df)\n",
    "print(\"\\n\")\n",
    "\n",
    "# Step 2: Add a new column 'flag' that checks if 'one' > 2\n",
    "df['flag'] = df['one'] > 2\n",
    "print(\"After adding 'flag' column:\")\n",
    "print(df)\n",
    "print(\"\\n\")\n",
    "\n",
    "# Step 3: Delete the column 'two'\n",
    "del df['two']\n",
    "print(\"After deleting 'two' column:\")\n",
    "print(df)\n"
   ]
  },
  {
   "cell_type": "code",
   "execution_count": 17,
   "id": "d0e7c4a4-3c5c-46ee-83d5-6cba829ce930",
   "metadata": {},
   "outputs": [
    {
     "name": "stdout",
     "output_type": "stream",
     "text": [
      "Updated DataFrame:\n",
      "   one   flag\n",
      "A    1  False\n",
      "B    4   True\n",
      "\n",
      "Popped Column 'three':\n",
      "A    3\n",
      "B    6\n",
      "Name: three, dtype: int64\n"
     ]
    }
   ],
   "source": [
    "import pandas as pd\n",
    "\n",
    "# Step 1: Create DataFrame\n",
    "df = pd.DataFrame.from_dict(\n",
    "    {'A': {'one': 1, 'two': 2, 'three': 3},\n",
    "     'B': {'one': 4, 'two': 5, 'three': 6}},\n",
    "    orient='index'\n",
    ")\n",
    "\n",
    "# Step 2: Add a 'flag' column\n",
    "df['flag'] = df['one'] > 2\n",
    "\n",
    "# Step 3: Delete column 'two'\n",
    "del df['two']\n",
    "\n",
    "# Step 4: Pop the 'three' column and store it separately\n",
    "three = df.pop('three')\n",
    "\n",
    "print(\"Updated DataFrame:\")\n",
    "print(df)\n",
    "print(\"\\nPopped Column 'three':\")\n",
    "print(three)\n"
   ]
  },
  {
   "cell_type": "code",
   "execution_count": 18,
   "id": "437e6d50-4b79-40d7-96a5-557409f6137a",
   "metadata": {},
   "outputs": [
    {
     "data": {
      "text/html": [
       "<div>\n",
       "<style scoped>\n",
       "    .dataframe tbody tr th:only-of-type {\n",
       "        vertical-align: middle;\n",
       "    }\n",
       "\n",
       "    .dataframe tbody tr th {\n",
       "        vertical-align: top;\n",
       "    }\n",
       "\n",
       "    .dataframe thead th {\n",
       "        text-align: right;\n",
       "    }\n",
       "</style>\n",
       "<table border=\"1\" class=\"dataframe\">\n",
       "  <thead>\n",
       "    <tr style=\"text-align: right;\">\n",
       "      <th></th>\n",
       "      <th>one</th>\n",
       "      <th>flag</th>\n",
       "    </tr>\n",
       "  </thead>\n",
       "  <tbody>\n",
       "    <tr>\n",
       "      <th>A</th>\n",
       "      <td>1</td>\n",
       "      <td>False</td>\n",
       "    </tr>\n",
       "    <tr>\n",
       "      <th>B</th>\n",
       "      <td>4</td>\n",
       "      <td>True</td>\n",
       "    </tr>\n",
       "  </tbody>\n",
       "</table>\n",
       "</div>"
      ],
      "text/plain": [
       "   one   flag\n",
       "A    1  False\n",
       "B    4   True"
      ]
     },
     "execution_count": 18,
     "metadata": {},
     "output_type": "execute_result"
    }
   ],
   "source": [
    "df "
   ]
  },
  {
   "cell_type": "code",
   "execution_count": 20,
   "id": "80f03166-6d0a-4b6d-b63f-a0aaf4888000",
   "metadata": {},
   "outputs": [
    {
     "name": "stdout",
     "output_type": "stream",
     "text": [
      "   one   flag  foo\n",
      "A    1  False  bar\n",
      "B    4   True  bar\n"
     ]
    }
   ],
   "source": [
    "import pandas as pd\n",
    "\n",
    "# Create sample DataFrame\n",
    "df = pd.DataFrame({\n",
    "    'one': [1, 4],\n",
    "    'flag': [False, True]\n",
    "}, index=['A', 'B'])\n",
    "\n",
    "# Add new column 'foo' filled with the same value 'bar'\n",
    "df['foo'] = 'bar'\n",
    "\n",
    "print(df)\n"
   ]
  },
  {
   "cell_type": "code",
   "execution_count": 22,
   "id": "ba27a913-5ec8-428d-9095-3e43e96ae91a",
   "metadata": {},
   "outputs": [
    {
     "name": "stdout",
     "output_type": "stream",
     "text": [
      "Original DataFrame:\n",
      "   one  two  three\n",
      "A    1    2      3\n",
      "B    4    5      6\n",
      "\n",
      "\n",
      "After adding 'flag' column:\n",
      "   one  two  three   flag\n",
      "A    1    2      3  False\n",
      "B    4    5      6   True\n",
      "\n",
      "\n",
      "After deleting 'two' column:\n",
      "   one  three   flag\n",
      "A    1      3  False\n",
      "B    4      6   True\n",
      "\n",
      "\n",
      "After popping 'three' column:\n",
      "   one   flag\n",
      "A    1  False\n",
      "B    4   True\n",
      "\n",
      "Popped column 'three':\n",
      "A    3\n",
      "B    6\n",
      "Name: three, dtype: int64\n",
      "\n",
      "\n",
      "After adding 'foo' column:\n",
      "   one   flag  foo\n",
      "A    1  False  bar\n",
      "B    4   True  bar\n"
     ]
    }
   ],
   "source": [
    "import pandas as pd\n",
    "\n",
    "# Step 1: Create a DataFrame\n",
    "df = pd.DataFrame.from_dict(\n",
    "    {'A': {'one': 1, 'two': 2, 'three': 3},\n",
    "     'B': {'one': 4, 'two': 5, 'three': 6}},\n",
    "    orient='index'\n",
    ")\n",
    "\n",
    "print(\"Original DataFrame:\")\n",
    "print(df)\n",
    "print(\"\\n\")\n",
    "\n",
    "# Step 2: Add a new column 'flag' that checks if 'one' > 2\n",
    "df['flag'] = df['one'] > 2\n",
    "print(\"After adding 'flag' column:\")\n",
    "print(df)\n",
    "print(\"\\n\")\n",
    "\n",
    "# Step 3: Delete the column 'two'\n",
    "del df['two']\n",
    "print(\"After deleting 'two' column:\")\n",
    "print(df)\n",
    "print(\"\\n\")\n",
    "\n",
    "# Step 4: Pop (remove + save) column 'three'\n",
    "three = df.pop('three')\n",
    "print(\"After popping 'three' column:\")\n",
    "print(df)\n",
    "print(\"\\nPopped column 'three':\")\n",
    "print(three)\n",
    "print(\"\\n\")\n",
    "\n",
    "# Step 5: Add a new column 'foo' filled with the same value 'bar'\n",
    "df['foo'] = 'bar'\n",
    "print(\"After adding 'foo' column:\")\n",
    "print(df)\n"
   ]
  },
  {
   "cell_type": "code",
   "execution_count": 23,
   "id": "45bea4a9-188a-439d-9695-193294cfd0b8",
   "metadata": {},
   "outputs": [
    {
     "data": {
      "text/html": [
       "<div>\n",
       "<style scoped>\n",
       "    .dataframe tbody tr th:only-of-type {\n",
       "        vertical-align: middle;\n",
       "    }\n",
       "\n",
       "    .dataframe tbody tr th {\n",
       "        vertical-align: top;\n",
       "    }\n",
       "\n",
       "    .dataframe thead th {\n",
       "        text-align: right;\n",
       "    }\n",
       "</style>\n",
       "<table border=\"1\" class=\"dataframe\">\n",
       "  <thead>\n",
       "    <tr style=\"text-align: right;\">\n",
       "      <th></th>\n",
       "      <th>one</th>\n",
       "      <th>flag</th>\n",
       "      <th>foo</th>\n",
       "    </tr>\n",
       "  </thead>\n",
       "  <tbody>\n",
       "    <tr>\n",
       "      <th>A</th>\n",
       "      <td>1</td>\n",
       "      <td>False</td>\n",
       "      <td>bar</td>\n",
       "    </tr>\n",
       "    <tr>\n",
       "      <th>B</th>\n",
       "      <td>4</td>\n",
       "      <td>True</td>\n",
       "      <td>bar</td>\n",
       "    </tr>\n",
       "  </tbody>\n",
       "</table>\n",
       "</div>"
      ],
      "text/plain": [
       "   one   flag  foo\n",
       "A    1  False  bar\n",
       "B    4   True  bar"
      ]
     },
     "execution_count": 23,
     "metadata": {},
     "output_type": "execute_result"
    }
   ],
   "source": [
    "df"
   ]
  },
  {
   "cell_type": "code",
   "execution_count": 25,
   "id": "879500bb-82b8-4bf1-a9b0-af98d21ab391",
   "metadata": {},
   "outputs": [
    {
     "name": "stdout",
     "output_type": "stream",
     "text": [
      "Original DataFrame:\n",
      "   one   flag  foo\n",
      "A    1  False  bar\n",
      "B    4   True  bar\n",
      "\n",
      "\n",
      "After adding 'one_trunc' column:\n",
      "   one   flag  foo  one_trunc\n",
      "A    1  False  bar          1\n",
      "B    4   True  bar          4\n"
     ]
    }
   ],
   "source": [
    "import pandas as pd\n",
    "\n",
    "# Step 1: Create DataFrame\n",
    "df = pd.DataFrame({\n",
    "    'one': [1, 4],\n",
    "    'flag': [False, True],\n",
    "    'foo': ['bar', 'bar']\n",
    "}, index=['A', 'B'])\n",
    "\n",
    "print(\"Original DataFrame:\")\n",
    "print(df)\n",
    "print(\"\\n\")\n",
    "\n",
    "# Step 2: Create new column taking first two values from 'one'\n",
    "df['one_trunc'] = df['one'][:2]\n",
    "\n",
    "print(\"After adding 'one_trunc' column:\")\n",
    "print(df)\n"
   ]
  },
  {
   "cell_type": "code",
   "execution_count": 26,
   "id": "50750353-a1f8-47bf-8c25-53a3ba828b60",
   "metadata": {},
   "outputs": [
    {
     "data": {
      "text/html": [
       "<div>\n",
       "<style scoped>\n",
       "    .dataframe tbody tr th:only-of-type {\n",
       "        vertical-align: middle;\n",
       "    }\n",
       "\n",
       "    .dataframe tbody tr th {\n",
       "        vertical-align: top;\n",
       "    }\n",
       "\n",
       "    .dataframe thead th {\n",
       "        text-align: right;\n",
       "    }\n",
       "</style>\n",
       "<table border=\"1\" class=\"dataframe\">\n",
       "  <thead>\n",
       "    <tr style=\"text-align: right;\">\n",
       "      <th></th>\n",
       "      <th>one</th>\n",
       "      <th>flag</th>\n",
       "      <th>foo</th>\n",
       "      <th>one_trunc</th>\n",
       "    </tr>\n",
       "  </thead>\n",
       "  <tbody>\n",
       "    <tr>\n",
       "      <th>A</th>\n",
       "      <td>1</td>\n",
       "      <td>False</td>\n",
       "      <td>bar</td>\n",
       "      <td>1</td>\n",
       "    </tr>\n",
       "    <tr>\n",
       "      <th>B</th>\n",
       "      <td>4</td>\n",
       "      <td>True</td>\n",
       "      <td>bar</td>\n",
       "      <td>4</td>\n",
       "    </tr>\n",
       "  </tbody>\n",
       "</table>\n",
       "</div>"
      ],
      "text/plain": [
       "   one   flag  foo  one_trunc\n",
       "A    1  False  bar          1\n",
       "B    4   True  bar          4"
      ]
     },
     "execution_count": 26,
     "metadata": {},
     "output_type": "execute_result"
    }
   ],
   "source": [
    "df "
   ]
  },
  {
   "cell_type": "code",
   "execution_count": 28,
   "id": "ffd2e233-6c8a-4254-bd49-28e670ca1c92",
   "metadata": {},
   "outputs": [
    {
     "name": "stdout",
     "output_type": "stream",
     "text": [
      "Original DataFrame:\n",
      "   one   flag  foo  one_trunc\n",
      "A    1  False  bar          1\n",
      "B    4   True  bar          4\n",
      "\n",
      "\n",
      "After inserting 'bar2' column at position 1:\n",
      "   one  bar2   flag  foo  one_trunc\n",
      "A    1     1  False  bar          1\n",
      "B    4     4   True  bar          4\n"
     ]
    }
   ],
   "source": [
    "import pandas as pd\n",
    "\n",
    "# Step 1: Create sample DataFrame\n",
    "df = pd.DataFrame({\n",
    "    'one': [1, 4],\n",
    "    'flag': [False, True],\n",
    "    'foo': ['bar', 'bar'],\n",
    "    'one_trunc': [1, 4]\n",
    "}, index=['A', 'B'])\n",
    "\n",
    "print(\"Original DataFrame:\")\n",
    "print(df)\n",
    "print(\"\\n\")\n",
    "\n",
    "# Step 2: Insert a new column 'bar2' at position 1, copying data from 'one'\n",
    "df.insert(1, 'bar2', df['one'])\n",
    "\n",
    "print(\"After inserting 'bar2' column at position 1:\")\n",
    "print(df)\n"
   ]
  },
  {
   "cell_type": "markdown",
   "id": "e4eed8b8-cf7c-445c-9654-cdf5e1ab65e2",
   "metadata": {},
   "source": [
    " # 11.7 Indexing / Selection"
   ]
  },
  {
   "cell_type": "code",
   "execution_count": 30,
   "id": "228b7f2b-3e9d-40ce-8019-40708ceb0a20",
   "metadata": {},
   "outputs": [
    {
     "data": {
      "text/plain": [
       "one             4\n",
       "bar2            4\n",
       "flag         True\n",
       "foo           bar\n",
       "one_trunc       4\n",
       "Name: B, dtype: object"
      ]
     },
     "execution_count": 30,
     "metadata": {},
     "output_type": "execute_result"
    }
   ],
   "source": [
    "df.loc['B'] #it will return the coloumn labels and values on row label 'b'"
   ]
  },
  {
   "cell_type": "code",
   "execution_count": 33,
   "id": "184adc2e-7098-4f35-89f8-d8afffe70d6a",
   "metadata": {},
   "outputs": [
    {
     "data": {
      "text/html": [
       "<div>\n",
       "<style scoped>\n",
       "    .dataframe tbody tr th:only-of-type {\n",
       "        vertical-align: middle;\n",
       "    }\n",
       "\n",
       "    .dataframe tbody tr th {\n",
       "        vertical-align: top;\n",
       "    }\n",
       "\n",
       "    .dataframe thead th {\n",
       "        text-align: right;\n",
       "    }\n",
       "</style>\n",
       "<table border=\"1\" class=\"dataframe\">\n",
       "  <thead>\n",
       "    <tr style=\"text-align: right;\">\n",
       "      <th></th>\n",
       "      <th>one</th>\n",
       "      <th>bar2</th>\n",
       "      <th>flag</th>\n",
       "      <th>foo</th>\n",
       "      <th>one_trunc</th>\n",
       "    </tr>\n",
       "  </thead>\n",
       "  <tbody>\n",
       "    <tr>\n",
       "      <th>B</th>\n",
       "      <td>4</td>\n",
       "      <td>4</td>\n",
       "      <td>True</td>\n",
       "      <td>bar</td>\n",
       "      <td>4</td>\n",
       "    </tr>\n",
       "  </tbody>\n",
       "</table>\n",
       "</div>"
      ],
      "text/plain": [
       "   one  bar2  flag  foo  one_trunc\n",
       "B    4     4  True  bar          4"
      ]
     },
     "execution_count": 33,
     "metadata": {},
     "output_type": "execute_result"
    }
   ],
   "source": [
    "df[df['one'] > 2] #it will return the values of those coloumns that is > than 2"
   ]
  },
  {
   "cell_type": "markdown",
   "id": "44eb009b-bdbe-4046-a712-18e734979064",
   "metadata": {},
   "source": [
    "# 11.8 Data alignment and arithmetic "
   ]
  },
  {
   "cell_type": "code",
   "execution_count": 36,
   "id": "c6a23bf0-1772-45f3-bc99-a684e10bab17",
   "metadata": {},
   "outputs": [
    {
     "data": {
      "text/html": [
       "<div>\n",
       "<style scoped>\n",
       "    .dataframe tbody tr th:only-of-type {\n",
       "        vertical-align: middle;\n",
       "    }\n",
       "\n",
       "    .dataframe tbody tr th {\n",
       "        vertical-align: top;\n",
       "    }\n",
       "\n",
       "    .dataframe thead th {\n",
       "        text-align: right;\n",
       "    }\n",
       "</style>\n",
       "<table border=\"1\" class=\"dataframe\">\n",
       "  <thead>\n",
       "    <tr style=\"text-align: right;\">\n",
       "      <th></th>\n",
       "      <th>A</th>\n",
       "      <th>B</th>\n",
       "      <th>C</th>\n",
       "      <th>D</th>\n",
       "    </tr>\n",
       "  </thead>\n",
       "  <tbody>\n",
       "    <tr>\n",
       "      <th>0</th>\n",
       "      <td>0.647641</td>\n",
       "      <td>1.377056</td>\n",
       "      <td>0.064393</td>\n",
       "      <td>-0.277874</td>\n",
       "    </tr>\n",
       "    <tr>\n",
       "      <th>1</th>\n",
       "      <td>-1.341006</td>\n",
       "      <td>-1.005732</td>\n",
       "      <td>0.248058</td>\n",
       "      <td>0.400396</td>\n",
       "    </tr>\n",
       "    <tr>\n",
       "      <th>2</th>\n",
       "      <td>-0.462501</td>\n",
       "      <td>-1.132244</td>\n",
       "      <td>-0.564525</td>\n",
       "      <td>-2.426218</td>\n",
       "    </tr>\n",
       "    <tr>\n",
       "      <th>3</th>\n",
       "      <td>-0.329402</td>\n",
       "      <td>-0.403397</td>\n",
       "      <td>1.413450</td>\n",
       "      <td>-0.503939</td>\n",
       "    </tr>\n",
       "    <tr>\n",
       "      <th>4</th>\n",
       "      <td>-0.106732</td>\n",
       "      <td>-1.071753</td>\n",
       "      <td>-0.553128</td>\n",
       "      <td>2.029760</td>\n",
       "    </tr>\n",
       "    <tr>\n",
       "      <th>5</th>\n",
       "      <td>-1.146245</td>\n",
       "      <td>1.087430</td>\n",
       "      <td>0.609479</td>\n",
       "      <td>-1.251280</td>\n",
       "    </tr>\n",
       "    <tr>\n",
       "      <th>6</th>\n",
       "      <td>0.396097</td>\n",
       "      <td>-1.641436</td>\n",
       "      <td>-1.861755</td>\n",
       "      <td>-0.106213</td>\n",
       "    </tr>\n",
       "    <tr>\n",
       "      <th>7</th>\n",
       "      <td>-0.737235</td>\n",
       "      <td>0.999307</td>\n",
       "      <td>0.295056</td>\n",
       "      <td>0.507212</td>\n",
       "    </tr>\n",
       "    <tr>\n",
       "      <th>8</th>\n",
       "      <td>0.440581</td>\n",
       "      <td>0.686833</td>\n",
       "      <td>-0.232363</td>\n",
       "      <td>0.703085</td>\n",
       "    </tr>\n",
       "    <tr>\n",
       "      <th>9</th>\n",
       "      <td>-0.067642</td>\n",
       "      <td>-0.927738</td>\n",
       "      <td>0.170429</td>\n",
       "      <td>2.450641</td>\n",
       "    </tr>\n",
       "  </tbody>\n",
       "</table>\n",
       "</div>"
      ],
      "text/plain": [
       "          A         B         C         D\n",
       "0  0.647641  1.377056  0.064393 -0.277874\n",
       "1 -1.341006 -1.005732  0.248058  0.400396\n",
       "2 -0.462501 -1.132244 -0.564525 -2.426218\n",
       "3 -0.329402 -0.403397  1.413450 -0.503939\n",
       "4 -0.106732 -1.071753 -0.553128  2.029760\n",
       "5 -1.146245  1.087430  0.609479 -1.251280\n",
       "6  0.396097 -1.641436 -1.861755 -0.106213\n",
       "7 -0.737235  0.999307  0.295056  0.507212\n",
       "8  0.440581  0.686833 -0.232363  0.703085\n",
       "9 -0.067642 -0.927738  0.170429  2.450641"
      ]
     },
     "execution_count": 36,
     "metadata": {},
     "output_type": "execute_result"
    }
   ],
   "source": [
    "import pandas as pd\n",
    "import numpy as np\n",
    "\n",
    "# Create a DataFrame with 10 rows and 4 columns (A, B, C, D)\n",
    "df = pd.DataFrame(np.random.randn(10, 4), columns=['A', 'B', 'C', 'D'])\n",
    "\n",
    "# Display the DataFrame\n",
    "df\n"
   ]
  },
  {
   "cell_type": "code",
   "execution_count": 38,
   "id": "d904aad7-3e93-4b33-abc1-272a29ba2dc9",
   "metadata": {},
   "outputs": [
    {
     "data": {
      "text/html": [
       "<div>\n",
       "<style scoped>\n",
       "    .dataframe tbody tr th:only-of-type {\n",
       "        vertical-align: middle;\n",
       "    }\n",
       "\n",
       "    .dataframe tbody tr th {\n",
       "        vertical-align: top;\n",
       "    }\n",
       "\n",
       "    .dataframe thead th {\n",
       "        text-align: right;\n",
       "    }\n",
       "</style>\n",
       "<table border=\"1\" class=\"dataframe\">\n",
       "  <thead>\n",
       "    <tr style=\"text-align: right;\">\n",
       "      <th></th>\n",
       "      <th>A</th>\n",
       "      <th>B</th>\n",
       "      <th>C</th>\n",
       "    </tr>\n",
       "  </thead>\n",
       "  <tbody>\n",
       "    <tr>\n",
       "      <th>0</th>\n",
       "      <td>-2.430201</td>\n",
       "      <td>-0.695497</td>\n",
       "      <td>0.124563</td>\n",
       "    </tr>\n",
       "    <tr>\n",
       "      <th>1</th>\n",
       "      <td>0.994034</td>\n",
       "      <td>0.444812</td>\n",
       "      <td>0.348765</td>\n",
       "    </tr>\n",
       "    <tr>\n",
       "      <th>2</th>\n",
       "      <td>1.346697</td>\n",
       "      <td>-0.050486</td>\n",
       "      <td>-0.103063</td>\n",
       "    </tr>\n",
       "    <tr>\n",
       "      <th>3</th>\n",
       "      <td>0.749331</td>\n",
       "      <td>-0.717702</td>\n",
       "      <td>0.151123</td>\n",
       "    </tr>\n",
       "    <tr>\n",
       "      <th>4</th>\n",
       "      <td>0.672462</td>\n",
       "      <td>0.071680</td>\n",
       "      <td>-0.523016</td>\n",
       "    </tr>\n",
       "    <tr>\n",
       "      <th>5</th>\n",
       "      <td>-0.040160</td>\n",
       "      <td>-1.143738</td>\n",
       "      <td>1.890624</td>\n",
       "    </tr>\n",
       "    <tr>\n",
       "      <th>6</th>\n",
       "      <td>-0.839778</td>\n",
       "      <td>1.192723</td>\n",
       "      <td>0.961897</td>\n",
       "    </tr>\n",
       "  </tbody>\n",
       "</table>\n",
       "</div>"
      ],
      "text/plain": [
       "          A         B         C\n",
       "0 -2.430201 -0.695497  0.124563\n",
       "1  0.994034  0.444812  0.348765\n",
       "2  1.346697 -0.050486 -0.103063\n",
       "3  0.749331 -0.717702  0.151123\n",
       "4  0.672462  0.071680 -0.523016\n",
       "5 -0.040160 -1.143738  1.890624\n",
       "6 -0.839778  1.192723  0.961897"
      ]
     },
     "execution_count": 38,
     "metadata": {},
     "output_type": "execute_result"
    }
   ],
   "source": [
    "import pandas as pd\n",
    "import numpy as np\n",
    "\n",
    "# Create a DataFrame with 7 rows and 3 columns\n",
    "df2 = pd.DataFrame(np.random.randn(7, 3), columns=['A', 'B', 'C'])\n",
    "\n",
    "# Display the DataFrame\n",
    "df2\n"
   ]
  },
  {
   "cell_type": "code",
   "execution_count": 39,
   "id": "78047cc0-667c-4b6c-a5c8-8a86582f40a2",
   "metadata": {},
   "outputs": [
    {
     "data": {
      "text/html": [
       "<div>\n",
       "<style scoped>\n",
       "    .dataframe tbody tr th:only-of-type {\n",
       "        vertical-align: middle;\n",
       "    }\n",
       "\n",
       "    .dataframe tbody tr th {\n",
       "        vertical-align: top;\n",
       "    }\n",
       "\n",
       "    .dataframe thead th {\n",
       "        text-align: right;\n",
       "    }\n",
       "</style>\n",
       "<table border=\"1\" class=\"dataframe\">\n",
       "  <thead>\n",
       "    <tr style=\"text-align: right;\">\n",
       "      <th></th>\n",
       "      <th>A</th>\n",
       "      <th>B</th>\n",
       "      <th>C</th>\n",
       "      <th>D</th>\n",
       "    </tr>\n",
       "  </thead>\n",
       "  <tbody>\n",
       "    <tr>\n",
       "      <th>0</th>\n",
       "      <td>-1.782560</td>\n",
       "      <td>0.681560</td>\n",
       "      <td>0.188956</td>\n",
       "      <td>NaN</td>\n",
       "    </tr>\n",
       "    <tr>\n",
       "      <th>1</th>\n",
       "      <td>-0.346972</td>\n",
       "      <td>-0.560920</td>\n",
       "      <td>0.596823</td>\n",
       "      <td>NaN</td>\n",
       "    </tr>\n",
       "    <tr>\n",
       "      <th>2</th>\n",
       "      <td>0.884196</td>\n",
       "      <td>-1.182730</td>\n",
       "      <td>-0.667588</td>\n",
       "      <td>NaN</td>\n",
       "    </tr>\n",
       "    <tr>\n",
       "      <th>3</th>\n",
       "      <td>0.419929</td>\n",
       "      <td>-1.121099</td>\n",
       "      <td>1.564573</td>\n",
       "      <td>NaN</td>\n",
       "    </tr>\n",
       "    <tr>\n",
       "      <th>4</th>\n",
       "      <td>0.565730</td>\n",
       "      <td>-1.000073</td>\n",
       "      <td>-1.076143</td>\n",
       "      <td>NaN</td>\n",
       "    </tr>\n",
       "    <tr>\n",
       "      <th>5</th>\n",
       "      <td>-1.186405</td>\n",
       "      <td>-0.056308</td>\n",
       "      <td>2.500104</td>\n",
       "      <td>NaN</td>\n",
       "    </tr>\n",
       "    <tr>\n",
       "      <th>6</th>\n",
       "      <td>-0.443680</td>\n",
       "      <td>-0.448713</td>\n",
       "      <td>-0.899858</td>\n",
       "      <td>NaN</td>\n",
       "    </tr>\n",
       "    <tr>\n",
       "      <th>7</th>\n",
       "      <td>NaN</td>\n",
       "      <td>NaN</td>\n",
       "      <td>NaN</td>\n",
       "      <td>NaN</td>\n",
       "    </tr>\n",
       "    <tr>\n",
       "      <th>8</th>\n",
       "      <td>NaN</td>\n",
       "      <td>NaN</td>\n",
       "      <td>NaN</td>\n",
       "      <td>NaN</td>\n",
       "    </tr>\n",
       "    <tr>\n",
       "      <th>9</th>\n",
       "      <td>NaN</td>\n",
       "      <td>NaN</td>\n",
       "      <td>NaN</td>\n",
       "      <td>NaN</td>\n",
       "    </tr>\n",
       "  </tbody>\n",
       "</table>\n",
       "</div>"
      ],
      "text/plain": [
       "          A         B         C   D\n",
       "0 -1.782560  0.681560  0.188956 NaN\n",
       "1 -0.346972 -0.560920  0.596823 NaN\n",
       "2  0.884196 -1.182730 -0.667588 NaN\n",
       "3  0.419929 -1.121099  1.564573 NaN\n",
       "4  0.565730 -1.000073 -1.076143 NaN\n",
       "5 -1.186405 -0.056308  2.500104 NaN\n",
       "6 -0.443680 -0.448713 -0.899858 NaN\n",
       "7       NaN       NaN       NaN NaN\n",
       "8       NaN       NaN       NaN NaN\n",
       "9       NaN       NaN       NaN NaN"
      ]
     },
     "execution_count": 39,
     "metadata": {},
     "output_type": "execute_result"
    }
   ],
   "source": [
    "df + df2 # add values of respective coloumn labels "
   ]
  },
  {
   "cell_type": "code",
   "execution_count": 40,
   "id": "89ea9917-c9c9-4394-abb5-7dac82b0f76a",
   "metadata": {},
   "outputs": [
    {
     "data": {
      "text/html": [
       "<div>\n",
       "<style scoped>\n",
       "    .dataframe tbody tr th:only-of-type {\n",
       "        vertical-align: middle;\n",
       "    }\n",
       "\n",
       "    .dataframe tbody tr th {\n",
       "        vertical-align: top;\n",
       "    }\n",
       "\n",
       "    .dataframe thead th {\n",
       "        text-align: right;\n",
       "    }\n",
       "</style>\n",
       "<table border=\"1\" class=\"dataframe\">\n",
       "  <thead>\n",
       "    <tr style=\"text-align: right;\">\n",
       "      <th></th>\n",
       "      <th>A</th>\n",
       "      <th>B</th>\n",
       "      <th>C</th>\n",
       "      <th>D</th>\n",
       "    </tr>\n",
       "  </thead>\n",
       "  <tbody>\n",
       "    <tr>\n",
       "      <th>0</th>\n",
       "      <td>0.000000</td>\n",
       "      <td>0.000000</td>\n",
       "      <td>0.000000</td>\n",
       "      <td>0.000000</td>\n",
       "    </tr>\n",
       "    <tr>\n",
       "      <th>1</th>\n",
       "      <td>-1.988647</td>\n",
       "      <td>-2.382788</td>\n",
       "      <td>0.183665</td>\n",
       "      <td>0.678269</td>\n",
       "    </tr>\n",
       "    <tr>\n",
       "      <th>2</th>\n",
       "      <td>-1.110143</td>\n",
       "      <td>-2.509300</td>\n",
       "      <td>-0.628918</td>\n",
       "      <td>-2.148344</td>\n",
       "    </tr>\n",
       "    <tr>\n",
       "      <th>3</th>\n",
       "      <td>-0.977043</td>\n",
       "      <td>-1.780453</td>\n",
       "      <td>1.349057</td>\n",
       "      <td>-0.226066</td>\n",
       "    </tr>\n",
       "    <tr>\n",
       "      <th>4</th>\n",
       "      <td>-0.754373</td>\n",
       "      <td>-2.448809</td>\n",
       "      <td>-0.617521</td>\n",
       "      <td>2.307634</td>\n",
       "    </tr>\n",
       "    <tr>\n",
       "      <th>5</th>\n",
       "      <td>-1.793886</td>\n",
       "      <td>-0.289626</td>\n",
       "      <td>0.545086</td>\n",
       "      <td>-0.973406</td>\n",
       "    </tr>\n",
       "    <tr>\n",
       "      <th>6</th>\n",
       "      <td>-0.251544</td>\n",
       "      <td>-3.018492</td>\n",
       "      <td>-1.926148</td>\n",
       "      <td>0.171661</td>\n",
       "    </tr>\n",
       "    <tr>\n",
       "      <th>7</th>\n",
       "      <td>-1.384876</td>\n",
       "      <td>-0.377749</td>\n",
       "      <td>0.230663</td>\n",
       "      <td>0.785086</td>\n",
       "    </tr>\n",
       "    <tr>\n",
       "      <th>8</th>\n",
       "      <td>-0.207060</td>\n",
       "      <td>-0.690223</td>\n",
       "      <td>-0.296756</td>\n",
       "      <td>0.980959</td>\n",
       "    </tr>\n",
       "    <tr>\n",
       "      <th>9</th>\n",
       "      <td>-0.715284</td>\n",
       "      <td>-2.304795</td>\n",
       "      <td>0.106036</td>\n",
       "      <td>2.728514</td>\n",
       "    </tr>\n",
       "  </tbody>\n",
       "</table>\n",
       "</div>"
      ],
      "text/plain": [
       "          A         B         C         D\n",
       "0  0.000000  0.000000  0.000000  0.000000\n",
       "1 -1.988647 -2.382788  0.183665  0.678269\n",
       "2 -1.110143 -2.509300 -0.628918 -2.148344\n",
       "3 -0.977043 -1.780453  1.349057 -0.226066\n",
       "4 -0.754373 -2.448809 -0.617521  2.307634\n",
       "5 -1.793886 -0.289626  0.545086 -0.973406\n",
       "6 -0.251544 -3.018492 -1.926148  0.171661\n",
       "7 -1.384876 -0.377749  0.230663  0.785086\n",
       "8 -0.207060 -0.690223 -0.296756  0.980959\n",
       "9 -0.715284 -2.304795  0.106036  2.728514"
      ]
     },
     "execution_count": 40,
     "metadata": {},
     "output_type": "execute_result"
    }
   ],
   "source": [
    "df - df.iloc[0]"
   ]
  },
  {
   "cell_type": "code",
   "execution_count": 41,
   "id": "e0960f29-7a72-42c9-9b98-a53dd21836ff",
   "metadata": {},
   "outputs": [
    {
     "data": {
      "text/html": [
       "<div>\n",
       "<style scoped>\n",
       "    .dataframe tbody tr th:only-of-type {\n",
       "        vertical-align: middle;\n",
       "    }\n",
       "\n",
       "    .dataframe tbody tr th {\n",
       "        vertical-align: top;\n",
       "    }\n",
       "\n",
       "    .dataframe thead th {\n",
       "        text-align: right;\n",
       "    }\n",
       "</style>\n",
       "<table border=\"1\" class=\"dataframe\">\n",
       "  <thead>\n",
       "    <tr style=\"text-align: right;\">\n",
       "      <th></th>\n",
       "      <th>A</th>\n",
       "      <th>B</th>\n",
       "      <th>C</th>\n",
       "      <th>D</th>\n",
       "    </tr>\n",
       "  </thead>\n",
       "  <tbody>\n",
       "    <tr>\n",
       "      <th>0</th>\n",
       "      <td>5.238206</td>\n",
       "      <td>8.885281</td>\n",
       "      <td>2.321964</td>\n",
       "      <td>0.610632</td>\n",
       "    </tr>\n",
       "    <tr>\n",
       "      <th>1</th>\n",
       "      <td>-4.705029</td>\n",
       "      <td>-3.028661</td>\n",
       "      <td>3.240290</td>\n",
       "      <td>4.001978</td>\n",
       "    </tr>\n",
       "    <tr>\n",
       "      <th>2</th>\n",
       "      <td>-0.312507</td>\n",
       "      <td>-3.661220</td>\n",
       "      <td>-0.822625</td>\n",
       "      <td>-10.131088</td>\n",
       "    </tr>\n",
       "    <tr>\n",
       "      <th>3</th>\n",
       "      <td>0.352989</td>\n",
       "      <td>-0.016986</td>\n",
       "      <td>9.067250</td>\n",
       "      <td>-0.519696</td>\n",
       "    </tr>\n",
       "    <tr>\n",
       "      <th>4</th>\n",
       "      <td>1.466342</td>\n",
       "      <td>-3.358766</td>\n",
       "      <td>-0.765639</td>\n",
       "      <td>12.148800</td>\n",
       "    </tr>\n",
       "    <tr>\n",
       "      <th>5</th>\n",
       "      <td>-3.731223</td>\n",
       "      <td>7.437151</td>\n",
       "      <td>5.047396</td>\n",
       "      <td>-4.256400</td>\n",
       "    </tr>\n",
       "    <tr>\n",
       "      <th>6</th>\n",
       "      <td>3.980486</td>\n",
       "      <td>-6.207181</td>\n",
       "      <td>-7.308776</td>\n",
       "      <td>1.468936</td>\n",
       "    </tr>\n",
       "    <tr>\n",
       "      <th>7</th>\n",
       "      <td>-1.686176</td>\n",
       "      <td>6.996536</td>\n",
       "      <td>3.475279</td>\n",
       "      <td>4.536061</td>\n",
       "    </tr>\n",
       "    <tr>\n",
       "      <th>8</th>\n",
       "      <td>4.202906</td>\n",
       "      <td>5.434163</td>\n",
       "      <td>0.838186</td>\n",
       "      <td>5.515426</td>\n",
       "    </tr>\n",
       "    <tr>\n",
       "      <th>9</th>\n",
       "      <td>1.661788</td>\n",
       "      <td>-2.638692</td>\n",
       "      <td>2.852146</td>\n",
       "      <td>14.253204</td>\n",
       "    </tr>\n",
       "  </tbody>\n",
       "</table>\n",
       "</div>"
      ],
      "text/plain": [
       "          A         B         C          D\n",
       "0  5.238206  8.885281  2.321964   0.610632\n",
       "1 -4.705029 -3.028661  3.240290   4.001978\n",
       "2 -0.312507 -3.661220 -0.822625 -10.131088\n",
       "3  0.352989 -0.016986  9.067250  -0.519696\n",
       "4  1.466342 -3.358766 -0.765639  12.148800\n",
       "5 -3.731223  7.437151  5.047396  -4.256400\n",
       "6  3.980486 -6.207181 -7.308776   1.468936\n",
       "7 -1.686176  6.996536  3.475279   4.536061\n",
       "8  4.202906  5.434163  0.838186   5.515426\n",
       "9  1.661788 -2.638692  2.852146  14.253204"
      ]
     },
     "execution_count": 41,
     "metadata": {},
     "output_type": "execute_result"
    }
   ],
   "source": [
    "df*5+2"
   ]
  },
  {
   "cell_type": "code",
   "execution_count": 42,
   "id": "b65b730e-92ca-4e67-9b12-c6e493cd5ef5",
   "metadata": {},
   "outputs": [
    {
     "data": {
      "text/html": [
       "<div>\n",
       "<style scoped>\n",
       "    .dataframe tbody tr th:only-of-type {\n",
       "        vertical-align: middle;\n",
       "    }\n",
       "\n",
       "    .dataframe tbody tr th {\n",
       "        vertical-align: top;\n",
       "    }\n",
       "\n",
       "    .dataframe thead th {\n",
       "        text-align: right;\n",
       "    }\n",
       "</style>\n",
       "<table border=\"1\" class=\"dataframe\">\n",
       "  <thead>\n",
       "    <tr style=\"text-align: right;\">\n",
       "      <th></th>\n",
       "      <th>A</th>\n",
       "      <th>B</th>\n",
       "      <th>C</th>\n",
       "      <th>D</th>\n",
       "    </tr>\n",
       "  </thead>\n",
       "  <tbody>\n",
       "    <tr>\n",
       "      <th>0</th>\n",
       "      <td>1.544065</td>\n",
       "      <td>0.726187</td>\n",
       "      <td>15.529671</td>\n",
       "      <td>-3.598758</td>\n",
       "    </tr>\n",
       "    <tr>\n",
       "      <th>1</th>\n",
       "      <td>-0.745709</td>\n",
       "      <td>-0.994300</td>\n",
       "      <td>4.031316</td>\n",
       "      <td>2.497530</td>\n",
       "    </tr>\n",
       "    <tr>\n",
       "      <th>2</th>\n",
       "      <td>-2.162156</td>\n",
       "      <td>-0.883202</td>\n",
       "      <td>-1.771400</td>\n",
       "      <td>-0.412164</td>\n",
       "    </tr>\n",
       "    <tr>\n",
       "      <th>3</th>\n",
       "      <td>-3.035803</td>\n",
       "      <td>-2.478947</td>\n",
       "      <td>0.707489</td>\n",
       "      <td>-1.984366</td>\n",
       "    </tr>\n",
       "    <tr>\n",
       "      <th>4</th>\n",
       "      <td>-9.369305</td>\n",
       "      <td>-0.933051</td>\n",
       "      <td>-1.807900</td>\n",
       "      <td>0.492669</td>\n",
       "    </tr>\n",
       "    <tr>\n",
       "      <th>5</th>\n",
       "      <td>-0.872414</td>\n",
       "      <td>0.919599</td>\n",
       "      <td>1.640745</td>\n",
       "      <td>-0.799182</td>\n",
       "    </tr>\n",
       "    <tr>\n",
       "      <th>6</th>\n",
       "      <td>2.524633</td>\n",
       "      <td>-0.609223</td>\n",
       "      <td>-0.537128</td>\n",
       "      <td>-9.415058</td>\n",
       "    </tr>\n",
       "    <tr>\n",
       "      <th>7</th>\n",
       "      <td>-1.356419</td>\n",
       "      <td>1.000693</td>\n",
       "      <td>3.389189</td>\n",
       "      <td>1.971561</td>\n",
       "    </tr>\n",
       "    <tr>\n",
       "      <th>8</th>\n",
       "      <td>2.269729</td>\n",
       "      <td>1.455959</td>\n",
       "      <td>-4.303614</td>\n",
       "      <td>1.422303</td>\n",
       "    </tr>\n",
       "    <tr>\n",
       "      <th>9</th>\n",
       "      <td>-14.783625</td>\n",
       "      <td>-1.077890</td>\n",
       "      <td>5.867537</td>\n",
       "      <td>0.408057</td>\n",
       "    </tr>\n",
       "  </tbody>\n",
       "</table>\n",
       "</div>"
      ],
      "text/plain": [
       "           A         B          C         D\n",
       "0   1.544065  0.726187  15.529671 -3.598758\n",
       "1  -0.745709 -0.994300   4.031316  2.497530\n",
       "2  -2.162156 -0.883202  -1.771400 -0.412164\n",
       "3  -3.035803 -2.478947   0.707489 -1.984366\n",
       "4  -9.369305 -0.933051  -1.807900  0.492669\n",
       "5  -0.872414  0.919599   1.640745 -0.799182\n",
       "6   2.524633 -0.609223  -0.537128 -9.415058\n",
       "7  -1.356419  1.000693   3.389189  1.971561\n",
       "8   2.269729  1.455959  -4.303614  1.422303\n",
       "9 -14.783625 -1.077890   5.867537  0.408057"
      ]
     },
     "execution_count": 42,
     "metadata": {},
     "output_type": "execute_result"
    }
   ],
   "source": [
    "1 / df "
   ]
  },
  {
   "cell_type": "code",
   "execution_count": 43,
   "id": "bdb328e0-bda1-4573-aaad-3dfe08e385d1",
   "metadata": {},
   "outputs": [
    {
     "data": {
      "text/html": [
       "<div>\n",
       "<style scoped>\n",
       "    .dataframe tbody tr th:only-of-type {\n",
       "        vertical-align: middle;\n",
       "    }\n",
       "\n",
       "    .dataframe tbody tr th {\n",
       "        vertical-align: top;\n",
       "    }\n",
       "\n",
       "    .dataframe thead th {\n",
       "        text-align: right;\n",
       "    }\n",
       "</style>\n",
       "<table border=\"1\" class=\"dataframe\">\n",
       "  <thead>\n",
       "    <tr style=\"text-align: right;\">\n",
       "      <th></th>\n",
       "      <th>A</th>\n",
       "      <th>B</th>\n",
       "      <th>C</th>\n",
       "      <th>D</th>\n",
       "    </tr>\n",
       "  </thead>\n",
       "  <tbody>\n",
       "    <tr>\n",
       "      <th>0</th>\n",
       "      <td>0.175929</td>\n",
       "      <td>3.595892</td>\n",
       "      <td>0.000017</td>\n",
       "      <td>0.005962</td>\n",
       "    </tr>\n",
       "    <tr>\n",
       "      <th>1</th>\n",
       "      <td>3.233871</td>\n",
       "      <td>1.023127</td>\n",
       "      <td>0.003786</td>\n",
       "      <td>0.025701</td>\n",
       "    </tr>\n",
       "    <tr>\n",
       "      <th>2</th>\n",
       "      <td>0.045756</td>\n",
       "      <td>1.643463</td>\n",
       "      <td>0.101562</td>\n",
       "      <td>34.651252</td>\n",
       "    </tr>\n",
       "    <tr>\n",
       "      <th>3</th>\n",
       "      <td>0.011773</td>\n",
       "      <td>0.026481</td>\n",
       "      <td>3.991369</td>\n",
       "      <td>0.064493</td>\n",
       "    </tr>\n",
       "    <tr>\n",
       "      <th>4</th>\n",
       "      <td>0.000130</td>\n",
       "      <td>1.319408</td>\n",
       "      <td>0.093606</td>\n",
       "      <td>16.973786</td>\n",
       "    </tr>\n",
       "    <tr>\n",
       "      <th>5</th>\n",
       "      <td>1.726272</td>\n",
       "      <td>1.398317</td>\n",
       "      <td>0.137986</td>\n",
       "      <td>2.451422</td>\n",
       "    </tr>\n",
       "    <tr>\n",
       "      <th>6</th>\n",
       "      <td>0.024615</td>\n",
       "      <td>7.259323</td>\n",
       "      <td>12.014073</td>\n",
       "      <td>0.000127</td>\n",
       "    </tr>\n",
       "    <tr>\n",
       "      <th>7</th>\n",
       "      <td>0.295409</td>\n",
       "      <td>0.997231</td>\n",
       "      <td>0.007579</td>\n",
       "      <td>0.066185</td>\n",
       "    </tr>\n",
       "    <tr>\n",
       "      <th>8</th>\n",
       "      <td>0.037679</td>\n",
       "      <td>0.222538</td>\n",
       "      <td>0.002915</td>\n",
       "      <td>0.244361</td>\n",
       "    </tr>\n",
       "    <tr>\n",
       "      <th>9</th>\n",
       "      <td>0.000021</td>\n",
       "      <td>0.740802</td>\n",
       "      <td>0.000844</td>\n",
       "      <td>36.067719</td>\n",
       "    </tr>\n",
       "  </tbody>\n",
       "</table>\n",
       "</div>"
      ],
      "text/plain": [
       "          A         B          C          D\n",
       "0  0.175929  3.595892   0.000017   0.005962\n",
       "1  3.233871  1.023127   0.003786   0.025701\n",
       "2  0.045756  1.643463   0.101562  34.651252\n",
       "3  0.011773  0.026481   3.991369   0.064493\n",
       "4  0.000130  1.319408   0.093606  16.973786\n",
       "5  1.726272  1.398317   0.137986   2.451422\n",
       "6  0.024615  7.259323  12.014073   0.000127\n",
       "7  0.295409  0.997231   0.007579   0.066185\n",
       "8  0.037679  0.222538   0.002915   0.244361\n",
       "9  0.000021  0.740802   0.000844  36.067719"
      ]
     },
     "execution_count": 43,
     "metadata": {},
     "output_type": "execute_result"
    }
   ],
   "source": [
    "df **4"
   ]
  },
  {
   "cell_type": "code",
   "execution_count": 45,
   "id": "e05d424a-9a92-4fb6-8984-564c1b95d29d",
   "metadata": {},
   "outputs": [
    {
     "data": {
      "text/html": [
       "<div>\n",
       "<style scoped>\n",
       "    .dataframe tbody tr th:only-of-type {\n",
       "        vertical-align: middle;\n",
       "    }\n",
       "\n",
       "    .dataframe tbody tr th {\n",
       "        vertical-align: top;\n",
       "    }\n",
       "\n",
       "    .dataframe thead th {\n",
       "        text-align: right;\n",
       "    }\n",
       "</style>\n",
       "<table border=\"1\" class=\"dataframe\">\n",
       "  <thead>\n",
       "    <tr style=\"text-align: right;\">\n",
       "      <th></th>\n",
       "      <th>a</th>\n",
       "      <th>b</th>\n",
       "    </tr>\n",
       "  </thead>\n",
       "  <tbody>\n",
       "    <tr>\n",
       "      <th>0</th>\n",
       "      <td>True</td>\n",
       "      <td>False</td>\n",
       "    </tr>\n",
       "    <tr>\n",
       "      <th>1</th>\n",
       "      <td>False</td>\n",
       "      <td>True</td>\n",
       "    </tr>\n",
       "    <tr>\n",
       "      <th>2</th>\n",
       "      <td>True</td>\n",
       "      <td>True</td>\n",
       "    </tr>\n",
       "  </tbody>\n",
       "</table>\n",
       "</div>"
      ],
      "text/plain": [
       "       a      b\n",
       "0   True  False\n",
       "1  False   True\n",
       "2   True   True"
      ]
     },
     "execution_count": 45,
     "metadata": {},
     "output_type": "execute_result"
    }
   ],
   "source": [
    "import pandas as pd\n",
    "\n",
    "# Create a DataFrame with Boolean values\n",
    "df1 = pd.DataFrame({\n",
    "    'a': [1, 0, 1],\n",
    "    'b': [0, 1, 1]\n",
    "}, dtype=bool)\n",
    "\n",
    "# Display the DataFrame\n",
    "df1\n"
   ]
  },
  {
   "cell_type": "code",
   "execution_count": 46,
   "id": "9706b61c-e4f4-45f9-89fb-fb9e368a3aeb",
   "metadata": {},
   "outputs": [],
   "source": [
    "df2 = pd.DataFrame({'a' : [0, 1, 1], 'b' : [1, 1, 0] }, dtype=bool)"
   ]
  },
  {
   "cell_type": "code",
   "execution_count": 47,
   "id": "e1157d7f-9199-418b-8436-94b988d4ca38",
   "metadata": {},
   "outputs": [
    {
     "name": "stdout",
     "output_type": "stream",
     "text": [
      "df1:\n",
      "       a      b\n",
      "0   True  False\n",
      "1  False   True\n",
      "2   True   True \n",
      "\n",
      "df2:\n",
      "       a      b\n",
      "0  False   True\n",
      "1   True   True\n",
      "2   True  False\n"
     ]
    }
   ],
   "source": [
    "import pandas as pd\n",
    "\n",
    "# Create Boolean DataFrame df1\n",
    "df1 = pd.DataFrame({\n",
    "    'a': [1, 0, 1],\n",
    "    'b': [0, 1, 1]\n",
    "}, dtype=bool)\n",
    "\n",
    "# Create Boolean DataFrame df2\n",
    "df2 = pd.DataFrame({\n",
    "    'a': [0, 1, 1],\n",
    "    'b': [1, 1, 0]\n",
    "}, dtype=bool)\n",
    "\n",
    "# Display both DataFrames\n",
    "print(\"df1:\")\n",
    "print(df1, \"\\n\")\n",
    "\n",
    "print(\"df2:\")\n",
    "print(df2)\n"
   ]
  },
  {
   "cell_type": "code",
   "execution_count": 48,
   "id": "58ff2cd8-917f-4908-b9c9-29374f2061ea",
   "metadata": {},
   "outputs": [
    {
     "data": {
      "text/html": [
       "<div>\n",
       "<style scoped>\n",
       "    .dataframe tbody tr th:only-of-type {\n",
       "        vertical-align: middle;\n",
       "    }\n",
       "\n",
       "    .dataframe tbody tr th {\n",
       "        vertical-align: top;\n",
       "    }\n",
       "\n",
       "    .dataframe thead th {\n",
       "        text-align: right;\n",
       "    }\n",
       "</style>\n",
       "<table border=\"1\" class=\"dataframe\">\n",
       "  <thead>\n",
       "    <tr style=\"text-align: right;\">\n",
       "      <th></th>\n",
       "      <th>a</th>\n",
       "      <th>b</th>\n",
       "    </tr>\n",
       "  </thead>\n",
       "  <tbody>\n",
       "    <tr>\n",
       "      <th>0</th>\n",
       "      <td>False</td>\n",
       "      <td>True</td>\n",
       "    </tr>\n",
       "    <tr>\n",
       "      <th>1</th>\n",
       "      <td>True</td>\n",
       "      <td>True</td>\n",
       "    </tr>\n",
       "    <tr>\n",
       "      <th>2</th>\n",
       "      <td>True</td>\n",
       "      <td>False</td>\n",
       "    </tr>\n",
       "  </tbody>\n",
       "</table>\n",
       "</div>"
      ],
      "text/plain": [
       "       a      b\n",
       "0  False   True\n",
       "1   True   True\n",
       "2   True  False"
      ]
     },
     "execution_count": 48,
     "metadata": {},
     "output_type": "execute_result"
    }
   ],
   "source": [
    "pd.DataFrame({'a' : [0, 1, 1], 'b' : [1, 1, 0] }, dtype=bool)"
   ]
  },
  {
   "cell_type": "code",
   "execution_count": 49,
   "id": "5fd99021-c15d-4a1c-ad83-8a641999bdcb",
   "metadata": {},
   "outputs": [
    {
     "data": {
      "text/html": [
       "<div>\n",
       "<style scoped>\n",
       "    .dataframe tbody tr th:only-of-type {\n",
       "        vertical-align: middle;\n",
       "    }\n",
       "\n",
       "    .dataframe tbody tr th {\n",
       "        vertical-align: top;\n",
       "    }\n",
       "\n",
       "    .dataframe thead th {\n",
       "        text-align: right;\n",
       "    }\n",
       "</style>\n",
       "<table border=\"1\" class=\"dataframe\">\n",
       "  <thead>\n",
       "    <tr style=\"text-align: right;\">\n",
       "      <th></th>\n",
       "      <th>a</th>\n",
       "      <th>b</th>\n",
       "    </tr>\n",
       "  </thead>\n",
       "  <tbody>\n",
       "    <tr>\n",
       "      <th>0</th>\n",
       "      <td>False</td>\n",
       "      <td>False</td>\n",
       "    </tr>\n",
       "    <tr>\n",
       "      <th>1</th>\n",
       "      <td>False</td>\n",
       "      <td>True</td>\n",
       "    </tr>\n",
       "    <tr>\n",
       "      <th>2</th>\n",
       "      <td>True</td>\n",
       "      <td>False</td>\n",
       "    </tr>\n",
       "  </tbody>\n",
       "</table>\n",
       "</div>"
      ],
      "text/plain": [
       "       a      b\n",
       "0  False  False\n",
       "1  False   True\n",
       "2   True  False"
      ]
     },
     "execution_count": 49,
     "metadata": {},
     "output_type": "execute_result"
    }
   ],
   "source": [
    " df1 & df2 #and logical operator "
   ]
  },
  {
   "cell_type": "code",
   "execution_count": 50,
   "id": "9bc38ee1-5f4b-44e1-bdee-ffd0dd2ff2a7",
   "metadata": {},
   "outputs": [
    {
     "data": {
      "text/html": [
       "<div>\n",
       "<style scoped>\n",
       "    .dataframe tbody tr th:only-of-type {\n",
       "        vertical-align: middle;\n",
       "    }\n",
       "\n",
       "    .dataframe tbody tr th {\n",
       "        vertical-align: top;\n",
       "    }\n",
       "\n",
       "    .dataframe thead th {\n",
       "        text-align: right;\n",
       "    }\n",
       "</style>\n",
       "<table border=\"1\" class=\"dataframe\">\n",
       "  <thead>\n",
       "    <tr style=\"text-align: right;\">\n",
       "      <th></th>\n",
       "      <th>a</th>\n",
       "      <th>b</th>\n",
       "    </tr>\n",
       "  </thead>\n",
       "  <tbody>\n",
       "    <tr>\n",
       "      <th>0</th>\n",
       "      <td>True</td>\n",
       "      <td>True</td>\n",
       "    </tr>\n",
       "    <tr>\n",
       "      <th>1</th>\n",
       "      <td>True</td>\n",
       "      <td>True</td>\n",
       "    </tr>\n",
       "    <tr>\n",
       "      <th>2</th>\n",
       "      <td>True</td>\n",
       "      <td>True</td>\n",
       "    </tr>\n",
       "  </tbody>\n",
       "</table>\n",
       "</div>"
      ],
      "text/plain": [
       "      a     b\n",
       "0  True  True\n",
       "1  True  True\n",
       "2  True  True"
      ]
     },
     "execution_count": 50,
     "metadata": {},
     "output_type": "execute_result"
    }
   ],
   "source": [
    " df1 | df2 # or operator"
   ]
  },
  {
   "cell_type": "code",
   "execution_count": 51,
   "id": "d12d12b0-26ad-45c4-8072-16437d60a3fe",
   "metadata": {},
   "outputs": [
    {
     "data": {
      "text/html": [
       "<div>\n",
       "<style scoped>\n",
       "    .dataframe tbody tr th:only-of-type {\n",
       "        vertical-align: middle;\n",
       "    }\n",
       "\n",
       "    .dataframe tbody tr th {\n",
       "        vertical-align: top;\n",
       "    }\n",
       "\n",
       "    .dataframe thead th {\n",
       "        text-align: right;\n",
       "    }\n",
       "</style>\n",
       "<table border=\"1\" class=\"dataframe\">\n",
       "  <thead>\n",
       "    <tr style=\"text-align: right;\">\n",
       "      <th></th>\n",
       "      <th>a</th>\n",
       "      <th>b</th>\n",
       "    </tr>\n",
       "  </thead>\n",
       "  <tbody>\n",
       "    <tr>\n",
       "      <th>0</th>\n",
       "      <td>False</td>\n",
       "      <td>True</td>\n",
       "    </tr>\n",
       "    <tr>\n",
       "      <th>1</th>\n",
       "      <td>True</td>\n",
       "      <td>False</td>\n",
       "    </tr>\n",
       "    <tr>\n",
       "      <th>2</th>\n",
       "      <td>False</td>\n",
       "      <td>False</td>\n",
       "    </tr>\n",
       "  </tbody>\n",
       "</table>\n",
       "</div>"
      ],
      "text/plain": [
       "       a      b\n",
       "0  False   True\n",
       "1   True  False\n",
       "2  False  False"
      ]
     },
     "execution_count": 51,
     "metadata": {},
     "output_type": "execute_result"
    }
   ],
   "source": [
    "-df1 "
   ]
  },
  {
   "cell_type": "markdown",
   "id": "616d2bd5-58ac-458e-8eae-defb26e67cd4",
   "metadata": {},
   "source": [
    "# 11.9 Transposing "
   ]
  },
  {
   "cell_type": "code",
   "execution_count": 53,
   "id": "154916c2-3f56-4870-a716-dfb9bf094e28",
   "metadata": {},
   "outputs": [
    {
     "data": {
      "text/html": [
       "<div>\n",
       "<style scoped>\n",
       "    .dataframe tbody tr th:only-of-type {\n",
       "        vertical-align: middle;\n",
       "    }\n",
       "\n",
       "    .dataframe tbody tr th {\n",
       "        vertical-align: top;\n",
       "    }\n",
       "\n",
       "    .dataframe thead th {\n",
       "        text-align: right;\n",
       "    }\n",
       "</style>\n",
       "<table border=\"1\" class=\"dataframe\">\n",
       "  <thead>\n",
       "    <tr style=\"text-align: right;\">\n",
       "      <th></th>\n",
       "      <th>0</th>\n",
       "      <th>1</th>\n",
       "      <th>2</th>\n",
       "      <th>3</th>\n",
       "      <th>4</th>\n",
       "    </tr>\n",
       "  </thead>\n",
       "  <tbody>\n",
       "    <tr>\n",
       "      <th>A</th>\n",
       "      <td>-1.381173</td>\n",
       "      <td>-1.152617</td>\n",
       "      <td>0.029465</td>\n",
       "      <td>0.283669</td>\n",
       "      <td>0.092115</td>\n",
       "    </tr>\n",
       "    <tr>\n",
       "      <th>B</th>\n",
       "      <td>-0.354344</td>\n",
       "      <td>-1.431402</td>\n",
       "      <td>-0.428702</td>\n",
       "      <td>0.730492</td>\n",
       "      <td>0.417909</td>\n",
       "    </tr>\n",
       "    <tr>\n",
       "      <th>C</th>\n",
       "      <td>-1.305962</td>\n",
       "      <td>0.237696</td>\n",
       "      <td>-1.081018</td>\n",
       "      <td>2.753169</td>\n",
       "      <td>0.672409</td>\n",
       "    </tr>\n",
       "    <tr>\n",
       "      <th>D</th>\n",
       "      <td>-0.491533</td>\n",
       "      <td>1.909681</td>\n",
       "      <td>1.339636</td>\n",
       "      <td>0.476928</td>\n",
       "      <td>1.181571</td>\n",
       "    </tr>\n",
       "  </tbody>\n",
       "</table>\n",
       "</div>"
      ],
      "text/plain": [
       "          0         1         2         3         4\n",
       "A -1.381173 -1.152617  0.029465  0.283669  0.092115\n",
       "B -0.354344 -1.431402 -0.428702  0.730492  0.417909\n",
       "C -1.305962  0.237696 -1.081018  2.753169  0.672409\n",
       "D -0.491533  1.909681  1.339636  0.476928  1.181571"
      ]
     },
     "execution_count": 53,
     "metadata": {},
     "output_type": "execute_result"
    }
   ],
   "source": [
    "import pandas as pd\n",
    "import numpy as np\n",
    "\n",
    "# Create a sample DataFrame\n",
    "df = pd.DataFrame(np.random.randn(10, 4), columns=['A', 'B', 'C', 'D'])\n",
    "\n",
    "# Show only the first 5 rows, then transpose it\n",
    "df[:5].T\n"
   ]
  },
  {
   "cell_type": "code",
   "execution_count": 54,
   "id": "8ea7827d-ad75-4aa9-b7b1-54081287a0e8",
   "metadata": {},
   "outputs": [],
   "source": [
    "dates = pd.date_range('20130101', periods=6)"
   ]
  },
  {
   "cell_type": "code",
   "execution_count": 55,
   "id": "bc81b960-33da-4bd5-8d80-2bc215bb9a74",
   "metadata": {},
   "outputs": [
    {
     "data": {
      "text/plain": [
       "DatetimeIndex(['2013-01-01', '2013-01-02', '2013-01-03', '2013-01-04',\n",
       "               '2013-01-05', '2013-01-06'],\n",
       "              dtype='datetime64[ns]', freq='D')"
      ]
     },
     "execution_count": 55,
     "metadata": {},
     "output_type": "execute_result"
    }
   ],
   "source": [
    "import pandas as pd\n",
    "\n",
    "# Create a date range starting from 2013-01-01 with 6 periods (days)\n",
    "dates = pd.date_range('20130101', periods=6)\n",
    "\n",
    "# Display the generated date range\n",
    "dates\n"
   ]
  },
  {
   "cell_type": "code",
   "execution_count": 56,
   "id": "e6ef02ee-c900-4ca0-b05a-a9c36b8f904c",
   "metadata": {},
   "outputs": [],
   "source": [
    " df = pd.DataFrame(np.random.randn(6,4), index=dates, columns=list('ABCD'))"
   ]
  },
  {
   "cell_type": "code",
   "execution_count": 57,
   "id": "f8c272b9-ac18-471c-8b9d-6db77db02d86",
   "metadata": {},
   "outputs": [
    {
     "data": {
      "text/html": [
       "<div>\n",
       "<style scoped>\n",
       "    .dataframe tbody tr th:only-of-type {\n",
       "        vertical-align: middle;\n",
       "    }\n",
       "\n",
       "    .dataframe tbody tr th {\n",
       "        vertical-align: top;\n",
       "    }\n",
       "\n",
       "    .dataframe thead th {\n",
       "        text-align: right;\n",
       "    }\n",
       "</style>\n",
       "<table border=\"1\" class=\"dataframe\">\n",
       "  <thead>\n",
       "    <tr style=\"text-align: right;\">\n",
       "      <th></th>\n",
       "      <th>A</th>\n",
       "      <th>B</th>\n",
       "      <th>C</th>\n",
       "      <th>D</th>\n",
       "    </tr>\n",
       "  </thead>\n",
       "  <tbody>\n",
       "    <tr>\n",
       "      <th>2013-01-01</th>\n",
       "      <td>-1.071568</td>\n",
       "      <td>0.431405</td>\n",
       "      <td>0.304315</td>\n",
       "      <td>0.655069</td>\n",
       "    </tr>\n",
       "    <tr>\n",
       "      <th>2013-01-02</th>\n",
       "      <td>-0.856755</td>\n",
       "      <td>-1.302108</td>\n",
       "      <td>1.150707</td>\n",
       "      <td>1.019978</td>\n",
       "    </tr>\n",
       "    <tr>\n",
       "      <th>2013-01-03</th>\n",
       "      <td>0.098031</td>\n",
       "      <td>-0.834441</td>\n",
       "      <td>1.573949</td>\n",
       "      <td>-0.401324</td>\n",
       "    </tr>\n",
       "    <tr>\n",
       "      <th>2013-01-04</th>\n",
       "      <td>-0.673691</td>\n",
       "      <td>-0.164664</td>\n",
       "      <td>1.916668</td>\n",
       "      <td>-0.493653</td>\n",
       "    </tr>\n",
       "    <tr>\n",
       "      <th>2013-01-05</th>\n",
       "      <td>-0.398289</td>\n",
       "      <td>-0.595746</td>\n",
       "      <td>0.137689</td>\n",
       "      <td>-0.826929</td>\n",
       "    </tr>\n",
       "    <tr>\n",
       "      <th>2013-01-06</th>\n",
       "      <td>0.055122</td>\n",
       "      <td>-0.051880</td>\n",
       "      <td>-0.941307</td>\n",
       "      <td>-0.274189</td>\n",
       "    </tr>\n",
       "  </tbody>\n",
       "</table>\n",
       "</div>"
      ],
      "text/plain": [
       "                   A         B         C         D\n",
       "2013-01-01 -1.071568  0.431405  0.304315  0.655069\n",
       "2013-01-02 -0.856755 -1.302108  1.150707  1.019978\n",
       "2013-01-03  0.098031 -0.834441  1.573949 -0.401324\n",
       "2013-01-04 -0.673691 -0.164664  1.916668 -0.493653\n",
       "2013-01-05 -0.398289 -0.595746  0.137689 -0.826929\n",
       "2013-01-06  0.055122 -0.051880 -0.941307 -0.274189"
      ]
     },
     "execution_count": 57,
     "metadata": {},
     "output_type": "execute_result"
    }
   ],
   "source": [
    "import pandas as pd\n",
    "import numpy as np\n",
    "\n",
    "# Create a date range\n",
    "dates = pd.date_range('20130101', periods=6)\n",
    "\n",
    "# Create a DataFrame with random numbers and date index\n",
    "df = pd.DataFrame(np.random.randn(6, 4), index=dates, columns=list('ABCD'))\n",
    "\n",
    "# Display the DataFrame\n",
    "df\n"
   ]
  },
  {
   "cell_type": "code",
   "execution_count": 58,
   "id": "a0f52e31-b74e-4ffe-9748-fd21a6f44ee8",
   "metadata": {},
   "outputs": [
    {
     "data": {
      "text/html": [
       "<div>\n",
       "<style scoped>\n",
       "    .dataframe tbody tr th:only-of-type {\n",
       "        vertical-align: middle;\n",
       "    }\n",
       "\n",
       "    .dataframe tbody tr th {\n",
       "        vertical-align: top;\n",
       "    }\n",
       "\n",
       "    .dataframe thead th {\n",
       "        text-align: right;\n",
       "    }\n",
       "</style>\n",
       "<table border=\"1\" class=\"dataframe\">\n",
       "  <thead>\n",
       "    <tr style=\"text-align: right;\">\n",
       "      <th></th>\n",
       "      <th>A</th>\n",
       "      <th>B</th>\n",
       "      <th>C</th>\n",
       "      <th>D</th>\n",
       "    </tr>\n",
       "  </thead>\n",
       "  <tbody>\n",
       "    <tr>\n",
       "      <th>2013-01-01</th>\n",
       "      <td>-1.071568</td>\n",
       "      <td>0.431405</td>\n",
       "      <td>0.304315</td>\n",
       "      <td>0.655069</td>\n",
       "    </tr>\n",
       "    <tr>\n",
       "      <th>2013-01-02</th>\n",
       "      <td>-0.856755</td>\n",
       "      <td>-1.302108</td>\n",
       "      <td>1.150707</td>\n",
       "      <td>1.019978</td>\n",
       "    </tr>\n",
       "    <tr>\n",
       "      <th>2013-01-03</th>\n",
       "      <td>0.098031</td>\n",
       "      <td>-0.834441</td>\n",
       "      <td>1.573949</td>\n",
       "      <td>-0.401324</td>\n",
       "    </tr>\n",
       "    <tr>\n",
       "      <th>2013-01-04</th>\n",
       "      <td>-0.673691</td>\n",
       "      <td>-0.164664</td>\n",
       "      <td>1.916668</td>\n",
       "      <td>-0.493653</td>\n",
       "    </tr>\n",
       "    <tr>\n",
       "      <th>2013-01-05</th>\n",
       "      <td>-0.398289</td>\n",
       "      <td>-0.595746</td>\n",
       "      <td>0.137689</td>\n",
       "      <td>-0.826929</td>\n",
       "    </tr>\n",
       "    <tr>\n",
       "      <th>2013-01-06</th>\n",
       "      <td>0.055122</td>\n",
       "      <td>-0.051880</td>\n",
       "      <td>-0.941307</td>\n",
       "      <td>-0.274189</td>\n",
       "    </tr>\n",
       "  </tbody>\n",
       "</table>\n",
       "</div>"
      ],
      "text/plain": [
       "                   A         B         C         D\n",
       "2013-01-01 -1.071568  0.431405  0.304315  0.655069\n",
       "2013-01-02 -0.856755 -1.302108  1.150707  1.019978\n",
       "2013-01-03  0.098031 -0.834441  1.573949 -0.401324\n",
       "2013-01-04 -0.673691 -0.164664  1.916668 -0.493653\n",
       "2013-01-05 -0.398289 -0.595746  0.137689 -0.826929\n",
       "2013-01-06  0.055122 -0.051880 -0.941307 -0.274189"
      ]
     },
     "execution_count": 58,
     "metadata": {},
     "output_type": "execute_result"
    }
   ],
   "source": [
    "df"
   ]
  },
  {
   "cell_type": "code",
   "execution_count": 61,
   "id": "be083d59-4504-4a3c-8a3d-29e17e113057",
   "metadata": {},
   "outputs": [
    {
     "data": {
      "text/html": [
       "<div>\n",
       "<style scoped>\n",
       "    .dataframe tbody tr th:only-of-type {\n",
       "        vertical-align: middle;\n",
       "    }\n",
       "\n",
       "    .dataframe tbody tr th {\n",
       "        vertical-align: top;\n",
       "    }\n",
       "\n",
       "    .dataframe thead th {\n",
       "        text-align: right;\n",
       "    }\n",
       "</style>\n",
       "<table border=\"1\" class=\"dataframe\">\n",
       "  <thead>\n",
       "    <tr style=\"text-align: right;\">\n",
       "      <th></th>\n",
       "      <th>A</th>\n",
       "      <th>B</th>\n",
       "      <th>C</th>\n",
       "      <th>D</th>\n",
       "      <th>E</th>\n",
       "      <th>F</th>\n",
       "    </tr>\n",
       "  </thead>\n",
       "  <tbody>\n",
       "    <tr>\n",
       "      <th>0</th>\n",
       "      <td>1.0</td>\n",
       "      <td>2013-01-02</td>\n",
       "      <td>1.0</td>\n",
       "      <td>3</td>\n",
       "      <td>test</td>\n",
       "      <td>foo</td>\n",
       "    </tr>\n",
       "    <tr>\n",
       "      <th>1</th>\n",
       "      <td>1.0</td>\n",
       "      <td>2013-01-02</td>\n",
       "      <td>1.0</td>\n",
       "      <td>3</td>\n",
       "      <td>train</td>\n",
       "      <td>foo</td>\n",
       "    </tr>\n",
       "    <tr>\n",
       "      <th>2</th>\n",
       "      <td>1.0</td>\n",
       "      <td>2013-01-02</td>\n",
       "      <td>1.0</td>\n",
       "      <td>3</td>\n",
       "      <td>test</td>\n",
       "      <td>foo</td>\n",
       "    </tr>\n",
       "    <tr>\n",
       "      <th>3</th>\n",
       "      <td>1.0</td>\n",
       "      <td>2013-01-02</td>\n",
       "      <td>1.0</td>\n",
       "      <td>3</td>\n",
       "      <td>train</td>\n",
       "      <td>foo</td>\n",
       "    </tr>\n",
       "  </tbody>\n",
       "</table>\n",
       "</div>"
      ],
      "text/plain": [
       "     A          B    C  D      E    F\n",
       "0  1.0 2013-01-02  1.0  3   test  foo\n",
       "1  1.0 2013-01-02  1.0  3  train  foo\n",
       "2  1.0 2013-01-02  1.0  3   test  foo\n",
       "3  1.0 2013-01-02  1.0  3  train  foo"
      ]
     },
     "execution_count": 61,
     "metadata": {},
     "output_type": "execute_result"
    }
   ],
   "source": [
    "import pandas as pd\n",
    "import numpy as np\n",
    "\n",
    "df2 = pd.DataFrame({\n",
    "    'A': 1.,\n",
    "    'B': pd.Timestamp('20130102'),\n",
    "    'C': pd.Series(1, index=list(range(4)), dtype='float32'),\n",
    "    'D': np.array([3] * 4, dtype='int32'),\n",
    "    'E': pd.Categorical([\"test\", \"train\", \"test\", \"train\"]),\n",
    "    'F': 'foo'\n",
    "})\n",
    "\n",
    "df2\n"
   ]
  },
  {
   "cell_type": "code",
   "execution_count": 62,
   "id": "41679cca-208b-4fbd-8bbe-a0b9d0f8f621",
   "metadata": {},
   "outputs": [
    {
     "data": {
      "text/plain": [
       "A          float64\n",
       "B    datetime64[s]\n",
       "C          float32\n",
       "D            int32\n",
       "E         category\n",
       "F           object\n",
       "dtype: object"
      ]
     },
     "execution_count": 62,
     "metadata": {},
     "output_type": "execute_result"
    }
   ],
   "source": [
    "#Having specific dtypes \n",
    "df2.dtypes "
   ]
  },
  {
   "cell_type": "markdown",
   "id": "1da59710-ed64-4cb6-8c94-8d9b4b6f8d23",
   "metadata": {},
   "source": [
    "# 12. Viewing Data"
   ]
  },
  {
   "cell_type": "code",
   "execution_count": 63,
   "id": "e170c869-e382-4614-8dd7-eb8c4339ebc8",
   "metadata": {},
   "outputs": [
    {
     "data": {
      "text/html": [
       "<div>\n",
       "<style scoped>\n",
       "    .dataframe tbody tr th:only-of-type {\n",
       "        vertical-align: middle;\n",
       "    }\n",
       "\n",
       "    .dataframe tbody tr th {\n",
       "        vertical-align: top;\n",
       "    }\n",
       "\n",
       "    .dataframe thead th {\n",
       "        text-align: right;\n",
       "    }\n",
       "</style>\n",
       "<table border=\"1\" class=\"dataframe\">\n",
       "  <thead>\n",
       "    <tr style=\"text-align: right;\">\n",
       "      <th></th>\n",
       "      <th>A</th>\n",
       "      <th>B</th>\n",
       "      <th>C</th>\n",
       "      <th>D</th>\n",
       "    </tr>\n",
       "  </thead>\n",
       "  <tbody>\n",
       "    <tr>\n",
       "      <th>2013-01-01</th>\n",
       "      <td>-1.071568</td>\n",
       "      <td>0.431405</td>\n",
       "      <td>0.304315</td>\n",
       "      <td>0.655069</td>\n",
       "    </tr>\n",
       "    <tr>\n",
       "      <th>2013-01-02</th>\n",
       "      <td>-0.856755</td>\n",
       "      <td>-1.302108</td>\n",
       "      <td>1.150707</td>\n",
       "      <td>1.019978</td>\n",
       "    </tr>\n",
       "    <tr>\n",
       "      <th>2013-01-03</th>\n",
       "      <td>0.098031</td>\n",
       "      <td>-0.834441</td>\n",
       "      <td>1.573949</td>\n",
       "      <td>-0.401324</td>\n",
       "    </tr>\n",
       "    <tr>\n",
       "      <th>2013-01-04</th>\n",
       "      <td>-0.673691</td>\n",
       "      <td>-0.164664</td>\n",
       "      <td>1.916668</td>\n",
       "      <td>-0.493653</td>\n",
       "    </tr>\n",
       "    <tr>\n",
       "      <th>2013-01-05</th>\n",
       "      <td>-0.398289</td>\n",
       "      <td>-0.595746</td>\n",
       "      <td>0.137689</td>\n",
       "      <td>-0.826929</td>\n",
       "    </tr>\n",
       "  </tbody>\n",
       "</table>\n",
       "</div>"
      ],
      "text/plain": [
       "                   A         B         C         D\n",
       "2013-01-01 -1.071568  0.431405  0.304315  0.655069\n",
       "2013-01-02 -0.856755 -1.302108  1.150707  1.019978\n",
       "2013-01-03  0.098031 -0.834441  1.573949 -0.401324\n",
       "2013-01-04 -0.673691 -0.164664  1.916668 -0.493653\n",
       "2013-01-05 -0.398289 -0.595746  0.137689 -0.826929"
      ]
     },
     "execution_count": 63,
     "metadata": {},
     "output_type": "execute_result"
    }
   ],
   "source": [
    "df.head() #display first 5 records "
   ]
  },
  {
   "cell_type": "code",
   "execution_count": 64,
   "id": "4a9ed789-3b8a-474b-97d3-5218318d8ffd",
   "metadata": {},
   "outputs": [
    {
     "data": {
      "text/html": [
       "<div>\n",
       "<style scoped>\n",
       "    .dataframe tbody tr th:only-of-type {\n",
       "        vertical-align: middle;\n",
       "    }\n",
       "\n",
       "    .dataframe tbody tr th {\n",
       "        vertical-align: top;\n",
       "    }\n",
       "\n",
       "    .dataframe thead th {\n",
       "        text-align: right;\n",
       "    }\n",
       "</style>\n",
       "<table border=\"1\" class=\"dataframe\">\n",
       "  <thead>\n",
       "    <tr style=\"text-align: right;\">\n",
       "      <th></th>\n",
       "      <th>A</th>\n",
       "      <th>B</th>\n",
       "      <th>C</th>\n",
       "      <th>D</th>\n",
       "    </tr>\n",
       "  </thead>\n",
       "  <tbody>\n",
       "    <tr>\n",
       "      <th>2013-01-04</th>\n",
       "      <td>-0.673691</td>\n",
       "      <td>-0.164664</td>\n",
       "      <td>1.916668</td>\n",
       "      <td>-0.493653</td>\n",
       "    </tr>\n",
       "    <tr>\n",
       "      <th>2013-01-05</th>\n",
       "      <td>-0.398289</td>\n",
       "      <td>-0.595746</td>\n",
       "      <td>0.137689</td>\n",
       "      <td>-0.826929</td>\n",
       "    </tr>\n",
       "    <tr>\n",
       "      <th>2013-01-06</th>\n",
       "      <td>0.055122</td>\n",
       "      <td>-0.051880</td>\n",
       "      <td>-0.941307</td>\n",
       "      <td>-0.274189</td>\n",
       "    </tr>\n",
       "  </tbody>\n",
       "</table>\n",
       "</div>"
      ],
      "text/plain": [
       "                   A         B         C         D\n",
       "2013-01-04 -0.673691 -0.164664  1.916668 -0.493653\n",
       "2013-01-05 -0.398289 -0.595746  0.137689 -0.826929\n",
       "2013-01-06  0.055122 -0.051880 -0.941307 -0.274189"
      ]
     },
     "execution_count": 64,
     "metadata": {},
     "output_type": "execute_result"
    }
   ],
   "source": [
    "df.tail(3) #display last 3 records"
   ]
  },
  {
   "cell_type": "code",
   "execution_count": 65,
   "id": "3946ae95-9d86-44e2-b34a-18b25dbdd55e",
   "metadata": {},
   "outputs": [
    {
     "data": {
      "text/plain": [
       "DatetimeIndex(['2013-01-01', '2013-01-02', '2013-01-03', '2013-01-04',\n",
       "               '2013-01-05', '2013-01-06'],\n",
       "              dtype='datetime64[ns]', freq='D')"
      ]
     },
     "execution_count": 65,
     "metadata": {},
     "output_type": "execute_result"
    }
   ],
   "source": [
    "df.index #display indexes"
   ]
  },
  {
   "cell_type": "code",
   "execution_count": 66,
   "id": "d74e2e9f-d018-44c2-8674-f793ab667048",
   "metadata": {},
   "outputs": [
    {
     "data": {
      "text/plain": [
       "Index(['A', 'B', 'C', 'D'], dtype='object')"
      ]
     },
     "execution_count": 66,
     "metadata": {},
     "output_type": "execute_result"
    }
   ],
   "source": [
    "df.columns #display coloumns "
   ]
  },
  {
   "cell_type": "code",
   "execution_count": 67,
   "id": "d95c0c28-5840-4351-8ddd-77b4b981d042",
   "metadata": {},
   "outputs": [
    {
     "data": {
      "text/plain": [
       "array([[-1.07156814,  0.43140478,  0.3043147 ,  0.65506915],\n",
       "       [-0.85675468, -1.30210771,  1.15070663,  1.01997803],\n",
       "       [ 0.09803105, -0.83444093,  1.57394892, -0.40132394],\n",
       "       [-0.6736913 , -0.16466408,  1.9166679 , -0.49365349],\n",
       "       [-0.39828906, -0.59574621,  0.13768872, -0.82692925],\n",
       "       [ 0.05512176, -0.0518798 , -0.94130748, -0.27418899]])"
      ]
     },
     "execution_count": 67,
     "metadata": {},
     "output_type": "execute_result"
    }
   ],
   "source": [
    "df.values # print values "
   ]
  },
  {
   "cell_type": "code",
   "execution_count": 68,
   "id": "8974d676-90be-4387-bc0a-8428a79e87a7",
   "metadata": {},
   "outputs": [
    {
     "data": {
      "text/html": [
       "<div>\n",
       "<style scoped>\n",
       "    .dataframe tbody tr th:only-of-type {\n",
       "        vertical-align: middle;\n",
       "    }\n",
       "\n",
       "    .dataframe tbody tr th {\n",
       "        vertical-align: top;\n",
       "    }\n",
       "\n",
       "    .dataframe thead th {\n",
       "        text-align: right;\n",
       "    }\n",
       "</style>\n",
       "<table border=\"1\" class=\"dataframe\">\n",
       "  <thead>\n",
       "    <tr style=\"text-align: right;\">\n",
       "      <th></th>\n",
       "      <th>2013-01-01</th>\n",
       "      <th>2013-01-02</th>\n",
       "      <th>2013-01-03</th>\n",
       "      <th>2013-01-04</th>\n",
       "      <th>2013-01-05</th>\n",
       "      <th>2013-01-06</th>\n",
       "    </tr>\n",
       "  </thead>\n",
       "  <tbody>\n",
       "    <tr>\n",
       "      <th>A</th>\n",
       "      <td>-1.071568</td>\n",
       "      <td>-0.856755</td>\n",
       "      <td>0.098031</td>\n",
       "      <td>-0.673691</td>\n",
       "      <td>-0.398289</td>\n",
       "      <td>0.055122</td>\n",
       "    </tr>\n",
       "    <tr>\n",
       "      <th>B</th>\n",
       "      <td>0.431405</td>\n",
       "      <td>-1.302108</td>\n",
       "      <td>-0.834441</td>\n",
       "      <td>-0.164664</td>\n",
       "      <td>-0.595746</td>\n",
       "      <td>-0.051880</td>\n",
       "    </tr>\n",
       "    <tr>\n",
       "      <th>C</th>\n",
       "      <td>0.304315</td>\n",
       "      <td>1.150707</td>\n",
       "      <td>1.573949</td>\n",
       "      <td>1.916668</td>\n",
       "      <td>0.137689</td>\n",
       "      <td>-0.941307</td>\n",
       "    </tr>\n",
       "    <tr>\n",
       "      <th>D</th>\n",
       "      <td>0.655069</td>\n",
       "      <td>1.019978</td>\n",
       "      <td>-0.401324</td>\n",
       "      <td>-0.493653</td>\n",
       "      <td>-0.826929</td>\n",
       "      <td>-0.274189</td>\n",
       "    </tr>\n",
       "  </tbody>\n",
       "</table>\n",
       "</div>"
      ],
      "text/plain": [
       "   2013-01-01  2013-01-02  2013-01-03  2013-01-04  2013-01-05  2013-01-06\n",
       "A   -1.071568   -0.856755    0.098031   -0.673691   -0.398289    0.055122\n",
       "B    0.431405   -1.302108   -0.834441   -0.164664   -0.595746   -0.051880\n",
       "C    0.304315    1.150707    1.573949    1.916668    0.137689   -0.941307\n",
       "D    0.655069    1.019978   -0.401324   -0.493653   -0.826929   -0.274189"
      ]
     },
     "execution_count": 68,
     "metadata": {},
     "output_type": "execute_result"
    }
   ],
   "source": [
    "# Transposing your data \n",
    "df.T "
   ]
  },
  {
   "cell_type": "code",
   "execution_count": 69,
   "id": "a6217f9c-b132-4545-9a35-6675e3ed6fec",
   "metadata": {},
   "outputs": [
    {
     "data": {
      "text/html": [
       "<div>\n",
       "<style scoped>\n",
       "    .dataframe tbody tr th:only-of-type {\n",
       "        vertical-align: middle;\n",
       "    }\n",
       "\n",
       "    .dataframe tbody tr th {\n",
       "        vertical-align: top;\n",
       "    }\n",
       "\n",
       "    .dataframe thead th {\n",
       "        text-align: right;\n",
       "    }\n",
       "</style>\n",
       "<table border=\"1\" class=\"dataframe\">\n",
       "  <thead>\n",
       "    <tr style=\"text-align: right;\">\n",
       "      <th></th>\n",
       "      <th>D</th>\n",
       "      <th>C</th>\n",
       "      <th>B</th>\n",
       "      <th>A</th>\n",
       "    </tr>\n",
       "  </thead>\n",
       "  <tbody>\n",
       "    <tr>\n",
       "      <th>2013-01-01</th>\n",
       "      <td>0.655069</td>\n",
       "      <td>0.304315</td>\n",
       "      <td>0.431405</td>\n",
       "      <td>-1.071568</td>\n",
       "    </tr>\n",
       "    <tr>\n",
       "      <th>2013-01-02</th>\n",
       "      <td>1.019978</td>\n",
       "      <td>1.150707</td>\n",
       "      <td>-1.302108</td>\n",
       "      <td>-0.856755</td>\n",
       "    </tr>\n",
       "    <tr>\n",
       "      <th>2013-01-03</th>\n",
       "      <td>-0.401324</td>\n",
       "      <td>1.573949</td>\n",
       "      <td>-0.834441</td>\n",
       "      <td>0.098031</td>\n",
       "    </tr>\n",
       "    <tr>\n",
       "      <th>2013-01-04</th>\n",
       "      <td>-0.493653</td>\n",
       "      <td>1.916668</td>\n",
       "      <td>-0.164664</td>\n",
       "      <td>-0.673691</td>\n",
       "    </tr>\n",
       "    <tr>\n",
       "      <th>2013-01-05</th>\n",
       "      <td>-0.826929</td>\n",
       "      <td>0.137689</td>\n",
       "      <td>-0.595746</td>\n",
       "      <td>-0.398289</td>\n",
       "    </tr>\n",
       "    <tr>\n",
       "      <th>2013-01-06</th>\n",
       "      <td>-0.274189</td>\n",
       "      <td>-0.941307</td>\n",
       "      <td>-0.051880</td>\n",
       "      <td>0.055122</td>\n",
       "    </tr>\n",
       "  </tbody>\n",
       "</table>\n",
       "</div>"
      ],
      "text/plain": [
       "                   D         C         B         A\n",
       "2013-01-01  0.655069  0.304315  0.431405 -1.071568\n",
       "2013-01-02  1.019978  1.150707 -1.302108 -0.856755\n",
       "2013-01-03 -0.401324  1.573949 -0.834441  0.098031\n",
       "2013-01-04 -0.493653  1.916668 -0.164664 -0.673691\n",
       "2013-01-05 -0.826929  0.137689 -0.595746 -0.398289\n",
       "2013-01-06 -0.274189 -0.941307 -0.051880  0.055122"
      ]
     },
     "execution_count": 69,
     "metadata": {},
     "output_type": "execute_result"
    }
   ],
   "source": [
    " #Sorting by an axis\n",
    " df.sort_index(axis=1, ascending=False) "
   ]
  },
  {
   "cell_type": "code",
   "execution_count": 71,
   "id": "50e534ff-d65d-4ead-a780-04311730061e",
   "metadata": {},
   "outputs": [
    {
     "data": {
      "text/html": [
       "<div>\n",
       "<style scoped>\n",
       "    .dataframe tbody tr th:only-of-type {\n",
       "        vertical-align: middle;\n",
       "    }\n",
       "\n",
       "    .dataframe tbody tr th {\n",
       "        vertical-align: top;\n",
       "    }\n",
       "\n",
       "    .dataframe thead th {\n",
       "        text-align: right;\n",
       "    }\n",
       "</style>\n",
       "<table border=\"1\" class=\"dataframe\">\n",
       "  <thead>\n",
       "    <tr style=\"text-align: right;\">\n",
       "      <th></th>\n",
       "      <th>A</th>\n",
       "      <th>B</th>\n",
       "      <th>C</th>\n",
       "      <th>D</th>\n",
       "    </tr>\n",
       "  </thead>\n",
       "  <tbody>\n",
       "    <tr>\n",
       "      <th>2013-01-02</th>\n",
       "      <td>-0.856755</td>\n",
       "      <td>-1.302108</td>\n",
       "      <td>1.150707</td>\n",
       "      <td>1.019978</td>\n",
       "    </tr>\n",
       "    <tr>\n",
       "      <th>2013-01-03</th>\n",
       "      <td>0.098031</td>\n",
       "      <td>-0.834441</td>\n",
       "      <td>1.573949</td>\n",
       "      <td>-0.401324</td>\n",
       "    </tr>\n",
       "    <tr>\n",
       "      <th>2013-01-05</th>\n",
       "      <td>-0.398289</td>\n",
       "      <td>-0.595746</td>\n",
       "      <td>0.137689</td>\n",
       "      <td>-0.826929</td>\n",
       "    </tr>\n",
       "    <tr>\n",
       "      <th>2013-01-04</th>\n",
       "      <td>-0.673691</td>\n",
       "      <td>-0.164664</td>\n",
       "      <td>1.916668</td>\n",
       "      <td>-0.493653</td>\n",
       "    </tr>\n",
       "    <tr>\n",
       "      <th>2013-01-06</th>\n",
       "      <td>0.055122</td>\n",
       "      <td>-0.051880</td>\n",
       "      <td>-0.941307</td>\n",
       "      <td>-0.274189</td>\n",
       "    </tr>\n",
       "    <tr>\n",
       "      <th>2013-01-01</th>\n",
       "      <td>-1.071568</td>\n",
       "      <td>0.431405</td>\n",
       "      <td>0.304315</td>\n",
       "      <td>0.655069</td>\n",
       "    </tr>\n",
       "  </tbody>\n",
       "</table>\n",
       "</div>"
      ],
      "text/plain": [
       "                   A         B         C         D\n",
       "2013-01-02 -0.856755 -1.302108  1.150707  1.019978\n",
       "2013-01-03  0.098031 -0.834441  1.573949 -0.401324\n",
       "2013-01-05 -0.398289 -0.595746  0.137689 -0.826929\n",
       "2013-01-04 -0.673691 -0.164664  1.916668 -0.493653\n",
       "2013-01-06  0.055122 -0.051880 -0.941307 -0.274189\n",
       "2013-01-01 -1.071568  0.431405  0.304315  0.655069"
      ]
     },
     "execution_count": 71,
     "metadata": {},
     "output_type": "execute_result"
    }
   ],
   "source": [
    "#Sorting by values\n",
    "df.sort_values(by='B') "
   ]
  },
  {
   "cell_type": "code",
   "execution_count": 75,
   "id": "000fe5fc-bc99-45a4-b28d-04621c01cff0",
   "metadata": {},
   "outputs": [
    {
     "data": {
      "text/html": [
       "<div>\n",
       "<style scoped>\n",
       "    .dataframe tbody tr th:only-of-type {\n",
       "        vertical-align: middle;\n",
       "    }\n",
       "\n",
       "    .dataframe tbody tr th {\n",
       "        vertical-align: top;\n",
       "    }\n",
       "\n",
       "    .dataframe thead th {\n",
       "        text-align: right;\n",
       "    }\n",
       "</style>\n",
       "<table border=\"1\" class=\"dataframe\">\n",
       "  <thead>\n",
       "    <tr style=\"text-align: right;\">\n",
       "      <th></th>\n",
       "      <th>A</th>\n",
       "      <th>B</th>\n",
       "      <th>C</th>\n",
       "      <th>D</th>\n",
       "    </tr>\n",
       "  </thead>\n",
       "  <tbody>\n",
       "    <tr>\n",
       "      <th>count</th>\n",
       "      <td>6.000000</td>\n",
       "      <td>6.000000</td>\n",
       "      <td>6.000000</td>\n",
       "      <td>6.000000</td>\n",
       "    </tr>\n",
       "    <tr>\n",
       "      <th>mean</th>\n",
       "      <td>-0.474525</td>\n",
       "      <td>-0.419572</td>\n",
       "      <td>0.690337</td>\n",
       "      <td>-0.053508</td>\n",
       "    </tr>\n",
       "    <tr>\n",
       "      <th>std</th>\n",
       "      <td>0.480913</td>\n",
       "      <td>0.617472</td>\n",
       "      <td>1.059556</td>\n",
       "      <td>0.723331</td>\n",
       "    </tr>\n",
       "    <tr>\n",
       "      <th>min</th>\n",
       "      <td>-1.071568</td>\n",
       "      <td>-1.302108</td>\n",
       "      <td>-0.941307</td>\n",
       "      <td>-0.826929</td>\n",
       "    </tr>\n",
       "    <tr>\n",
       "      <th>25%</th>\n",
       "      <td>-0.810989</td>\n",
       "      <td>-0.774767</td>\n",
       "      <td>0.179345</td>\n",
       "      <td>-0.470571</td>\n",
       "    </tr>\n",
       "    <tr>\n",
       "      <th>50%</th>\n",
       "      <td>-0.535990</td>\n",
       "      <td>-0.380205</td>\n",
       "      <td>0.727511</td>\n",
       "      <td>-0.337756</td>\n",
       "    </tr>\n",
       "    <tr>\n",
       "      <th>75%</th>\n",
       "      <td>-0.058231</td>\n",
       "      <td>-0.080076</td>\n",
       "      <td>1.468138</td>\n",
       "      <td>0.422755</td>\n",
       "    </tr>\n",
       "    <tr>\n",
       "      <th>max</th>\n",
       "      <td>0.098031</td>\n",
       "      <td>0.431405</td>\n",
       "      <td>1.916668</td>\n",
       "      <td>1.019978</td>\n",
       "    </tr>\n",
       "  </tbody>\n",
       "</table>\n",
       "</div>"
      ],
      "text/plain": [
       "              A         B         C         D\n",
       "count  6.000000  6.000000  6.000000  6.000000\n",
       "mean  -0.474525 -0.419572  0.690337 -0.053508\n",
       "std    0.480913  0.617472  1.059556  0.723331\n",
       "min   -1.071568 -1.302108 -0.941307 -0.826929\n",
       "25%   -0.810989 -0.774767  0.179345 -0.470571\n",
       "50%   -0.535990 -0.380205  0.727511 -0.337756\n",
       "75%   -0.058231 -0.080076  1.468138  0.422755\n",
       "max    0.098031  0.431405  1.916668  1.019978"
      ]
     },
     "execution_count": 75,
     "metadata": {},
     "output_type": "execute_result"
    }
   ],
   "source": [
    "# Describe shows a quick statistic summary of your data\n",
    "df.describe() "
   ]
  },
  {
   "cell_type": "code",
   "execution_count": 76,
   "id": "92f13825-6f09-4318-8fcb-0517ecc14ba1",
   "metadata": {},
   "outputs": [
    {
     "data": {
      "text/plain": [
       "2013-01-01   -1.071568\n",
       "2013-01-02   -0.856755\n",
       "2013-01-03    0.098031\n",
       "2013-01-04   -0.673691\n",
       "2013-01-05   -0.398289\n",
       "2013-01-06    0.055122\n",
       "Freq: D, Name: A, dtype: float64"
      ]
     },
     "execution_count": 76,
     "metadata": {},
     "output_type": "execute_result"
    }
   ],
   "source": [
    "#Selecting a single column, which yields a Series, equivalent to df.A \n",
    "df['A']"
   ]
  },
  {
   "cell_type": "code",
   "execution_count": 77,
   "id": "d1448276-d63b-4ccd-b6c4-80e26f20d404",
   "metadata": {},
   "outputs": [
    {
     "data": {
      "text/html": [
       "<div>\n",
       "<style scoped>\n",
       "    .dataframe tbody tr th:only-of-type {\n",
       "        vertical-align: middle;\n",
       "    }\n",
       "\n",
       "    .dataframe tbody tr th {\n",
       "        vertical-align: top;\n",
       "    }\n",
       "\n",
       "    .dataframe thead th {\n",
       "        text-align: right;\n",
       "    }\n",
       "</style>\n",
       "<table border=\"1\" class=\"dataframe\">\n",
       "  <thead>\n",
       "    <tr style=\"text-align: right;\">\n",
       "      <th></th>\n",
       "      <th>A</th>\n",
       "      <th>B</th>\n",
       "      <th>C</th>\n",
       "      <th>D</th>\n",
       "    </tr>\n",
       "  </thead>\n",
       "  <tbody>\n",
       "    <tr>\n",
       "      <th>2013-01-01</th>\n",
       "      <td>-1.071568</td>\n",
       "      <td>0.431405</td>\n",
       "      <td>0.304315</td>\n",
       "      <td>0.655069</td>\n",
       "    </tr>\n",
       "    <tr>\n",
       "      <th>2013-01-02</th>\n",
       "      <td>-0.856755</td>\n",
       "      <td>-1.302108</td>\n",
       "      <td>1.150707</td>\n",
       "      <td>1.019978</td>\n",
       "    </tr>\n",
       "    <tr>\n",
       "      <th>2013-01-03</th>\n",
       "      <td>0.098031</td>\n",
       "      <td>-0.834441</td>\n",
       "      <td>1.573949</td>\n",
       "      <td>-0.401324</td>\n",
       "    </tr>\n",
       "  </tbody>\n",
       "</table>\n",
       "</div>"
      ],
      "text/plain": [
       "                   A         B         C         D\n",
       "2013-01-01 -1.071568  0.431405  0.304315  0.655069\n",
       "2013-01-02 -0.856755 -1.302108  1.150707  1.019978\n",
       "2013-01-03  0.098031 -0.834441  1.573949 -0.401324"
      ]
     },
     "execution_count": 77,
     "metadata": {},
     "output_type": "execute_result"
    }
   ],
   "source": [
    " #Selecting via [], which slices the rows. \n",
    "df[0:3]"
   ]
  },
  {
   "cell_type": "code",
   "execution_count": 78,
   "id": "6dd48cb2-4f6c-4390-8bdd-15dd796d7da3",
   "metadata": {},
   "outputs": [
    {
     "data": {
      "text/html": [
       "<div>\n",
       "<style scoped>\n",
       "    .dataframe tbody tr th:only-of-type {\n",
       "        vertical-align: middle;\n",
       "    }\n",
       "\n",
       "    .dataframe tbody tr th {\n",
       "        vertical-align: top;\n",
       "    }\n",
       "\n",
       "    .dataframe thead th {\n",
       "        text-align: right;\n",
       "    }\n",
       "</style>\n",
       "<table border=\"1\" class=\"dataframe\">\n",
       "  <thead>\n",
       "    <tr style=\"text-align: right;\">\n",
       "      <th></th>\n",
       "      <th>A</th>\n",
       "      <th>B</th>\n",
       "      <th>C</th>\n",
       "      <th>D</th>\n",
       "    </tr>\n",
       "  </thead>\n",
       "  <tbody>\n",
       "    <tr>\n",
       "      <th>2013-01-02</th>\n",
       "      <td>-0.856755</td>\n",
       "      <td>-1.302108</td>\n",
       "      <td>1.150707</td>\n",
       "      <td>1.019978</td>\n",
       "    </tr>\n",
       "    <tr>\n",
       "      <th>2013-01-03</th>\n",
       "      <td>0.098031</td>\n",
       "      <td>-0.834441</td>\n",
       "      <td>1.573949</td>\n",
       "      <td>-0.401324</td>\n",
       "    </tr>\n",
       "    <tr>\n",
       "      <th>2013-01-04</th>\n",
       "      <td>-0.673691</td>\n",
       "      <td>-0.164664</td>\n",
       "      <td>1.916668</td>\n",
       "      <td>-0.493653</td>\n",
       "    </tr>\n",
       "  </tbody>\n",
       "</table>\n",
       "</div>"
      ],
      "text/plain": [
       "                   A         B         C         D\n",
       "2013-01-02 -0.856755 -1.302108  1.150707  1.019978\n",
       "2013-01-03  0.098031 -0.834441  1.573949 -0.401324\n",
       "2013-01-04 -0.673691 -0.164664  1.916668 -0.493653"
      ]
     },
     "execution_count": 78,
     "metadata": {},
     "output_type": "execute_result"
    }
   ],
   "source": [
    "df['20130102':'20130104'] "
   ]
  },
  {
   "cell_type": "code",
   "execution_count": 79,
   "id": "d3df83f3-49ba-4522-9cac-d386a12f8017",
   "metadata": {},
   "outputs": [
    {
     "data": {
      "text/html": [
       "<div>\n",
       "<style scoped>\n",
       "    .dataframe tbody tr th:only-of-type {\n",
       "        vertical-align: middle;\n",
       "    }\n",
       "\n",
       "    .dataframe tbody tr th {\n",
       "        vertical-align: top;\n",
       "    }\n",
       "\n",
       "    .dataframe thead th {\n",
       "        text-align: right;\n",
       "    }\n",
       "</style>\n",
       "<table border=\"1\" class=\"dataframe\">\n",
       "  <thead>\n",
       "    <tr style=\"text-align: right;\">\n",
       "      <th></th>\n",
       "      <th>A</th>\n",
       "      <th>B</th>\n",
       "    </tr>\n",
       "  </thead>\n",
       "  <tbody>\n",
       "    <tr>\n",
       "      <th>2013-01-01</th>\n",
       "      <td>-1.071568</td>\n",
       "      <td>0.431405</td>\n",
       "    </tr>\n",
       "    <tr>\n",
       "      <th>2013-01-02</th>\n",
       "      <td>-0.856755</td>\n",
       "      <td>-1.302108</td>\n",
       "    </tr>\n",
       "    <tr>\n",
       "      <th>2013-01-03</th>\n",
       "      <td>0.098031</td>\n",
       "      <td>-0.834441</td>\n",
       "    </tr>\n",
       "    <tr>\n",
       "      <th>2013-01-04</th>\n",
       "      <td>-0.673691</td>\n",
       "      <td>-0.164664</td>\n",
       "    </tr>\n",
       "    <tr>\n",
       "      <th>2013-01-05</th>\n",
       "      <td>-0.398289</td>\n",
       "      <td>-0.595746</td>\n",
       "    </tr>\n",
       "    <tr>\n",
       "      <th>2013-01-06</th>\n",
       "      <td>0.055122</td>\n",
       "      <td>-0.051880</td>\n",
       "    </tr>\n",
       "  </tbody>\n",
       "</table>\n",
       "</div>"
      ],
      "text/plain": [
       "                   A         B\n",
       "2013-01-01 -1.071568  0.431405\n",
       "2013-01-02 -0.856755 -1.302108\n",
       "2013-01-03  0.098031 -0.834441\n",
       "2013-01-04 -0.673691 -0.164664\n",
       "2013-01-05 -0.398289 -0.595746\n",
       "2013-01-06  0.055122 -0.051880"
      ]
     },
     "execution_count": 79,
     "metadata": {},
     "output_type": "execute_result"
    }
   ],
   "source": [
    "#Selecting on a multi-axis by label\n",
    "df.loc[:,['A','B']]"
   ]
  },
  {
   "cell_type": "code",
   "execution_count": 80,
   "id": "bc52b2d8-bcf3-4acd-822c-d391cacb42b2",
   "metadata": {},
   "outputs": [
    {
     "data": {
      "text/html": [
       "<div>\n",
       "<style scoped>\n",
       "    .dataframe tbody tr th:only-of-type {\n",
       "        vertical-align: middle;\n",
       "    }\n",
       "\n",
       "    .dataframe tbody tr th {\n",
       "        vertical-align: top;\n",
       "    }\n",
       "\n",
       "    .dataframe thead th {\n",
       "        text-align: right;\n",
       "    }\n",
       "</style>\n",
       "<table border=\"1\" class=\"dataframe\">\n",
       "  <thead>\n",
       "    <tr style=\"text-align: right;\">\n",
       "      <th></th>\n",
       "      <th>A</th>\n",
       "      <th>B</th>\n",
       "    </tr>\n",
       "  </thead>\n",
       "  <tbody>\n",
       "    <tr>\n",
       "      <th>2013-01-02</th>\n",
       "      <td>-0.856755</td>\n",
       "      <td>-1.302108</td>\n",
       "    </tr>\n",
       "    <tr>\n",
       "      <th>2013-01-03</th>\n",
       "      <td>0.098031</td>\n",
       "      <td>-0.834441</td>\n",
       "    </tr>\n",
       "    <tr>\n",
       "      <th>2013-01-04</th>\n",
       "      <td>-0.673691</td>\n",
       "      <td>-0.164664</td>\n",
       "    </tr>\n",
       "  </tbody>\n",
       "</table>\n",
       "</div>"
      ],
      "text/plain": [
       "                   A         B\n",
       "2013-01-02 -0.856755 -1.302108\n",
       "2013-01-03  0.098031 -0.834441\n",
       "2013-01-04 -0.673691 -0.164664"
      ]
     },
     "execution_count": 80,
     "metadata": {},
     "output_type": "execute_result"
    }
   ],
   "source": [
    "#Showing label slicing, both endpoints are included\n",
    "df.loc['20130102':'20130104',['A','B']] "
   ]
  },
  {
   "cell_type": "code",
   "execution_count": 81,
   "id": "d856f421-b560-4427-b005-9abfed78ddb7",
   "metadata": {},
   "outputs": [
    {
     "data": {
      "text/plain": [
       "A   -0.856755\n",
       "B   -1.302108\n",
       "Name: 2013-01-02 00:00:00, dtype: float64"
      ]
     },
     "execution_count": 81,
     "metadata": {},
     "output_type": "execute_result"
    }
   ],
   "source": [
    "# Reduction in the dimensions of the returned object \n",
    "df.loc['20130102',['A','B']]"
   ]
  },
  {
   "cell_type": "code",
   "execution_count": 82,
   "id": "5cab0173-208c-4d7b-8d1c-c0c851bb0675",
   "metadata": {},
   "outputs": [
    {
     "data": {
      "text/plain": [
       "np.float64(-1.0715681414566995)"
      ]
     },
     "execution_count": 82,
     "metadata": {},
     "output_type": "execute_result"
    }
   ],
   "source": [
    " # For getting a scalar value \n",
    "df.loc[dates[0],'A'] "
   ]
  },
  {
   "cell_type": "code",
   "execution_count": 84,
   "id": "5d8f734e-1d54-4ea9-a0ae-231087495c70",
   "metadata": {},
   "outputs": [
    {
     "data": {
      "text/plain": [
       "np.float64(-1.0715681414566995)"
      ]
     },
     "execution_count": 84,
     "metadata": {},
     "output_type": "execute_result"
    }
   ],
   "source": [
    " # For getting fast access to a scalar \n",
    "df.at[dates[0],'A']"
   ]
  },
  {
   "cell_type": "code",
   "execution_count": 85,
   "id": "1e0b7a36-3207-4e78-bbc5-fb6fa2c778e7",
   "metadata": {},
   "outputs": [
    {
     "data": {
      "text/plain": [
       "A   -0.673691\n",
       "B   -0.164664\n",
       "C    1.916668\n",
       "D   -0.493653\n",
       "Name: 2013-01-04 00:00:00, dtype: float64"
      ]
     },
     "execution_count": 85,
     "metadata": {},
     "output_type": "execute_result"
    }
   ],
   "source": [
    "# Select via the position of the passed integers \n",
    "df.iloc[3] "
   ]
  },
  {
   "cell_type": "code",
   "execution_count": 86,
   "id": "547ec41c-2748-42fb-950e-1386e34d71c8",
   "metadata": {},
   "outputs": [
    {
     "data": {
      "text/html": [
       "<div>\n",
       "<style scoped>\n",
       "    .dataframe tbody tr th:only-of-type {\n",
       "        vertical-align: middle;\n",
       "    }\n",
       "\n",
       "    .dataframe tbody tr th {\n",
       "        vertical-align: top;\n",
       "    }\n",
       "\n",
       "    .dataframe thead th {\n",
       "        text-align: right;\n",
       "    }\n",
       "</style>\n",
       "<table border=\"1\" class=\"dataframe\">\n",
       "  <thead>\n",
       "    <tr style=\"text-align: right;\">\n",
       "      <th></th>\n",
       "      <th>A</th>\n",
       "      <th>B</th>\n",
       "    </tr>\n",
       "  </thead>\n",
       "  <tbody>\n",
       "    <tr>\n",
       "      <th>2013-01-04</th>\n",
       "      <td>-0.673691</td>\n",
       "      <td>-0.164664</td>\n",
       "    </tr>\n",
       "    <tr>\n",
       "      <th>2013-01-05</th>\n",
       "      <td>-0.398289</td>\n",
       "      <td>-0.595746</td>\n",
       "    </tr>\n",
       "  </tbody>\n",
       "</table>\n",
       "</div>"
      ],
      "text/plain": [
       "                   A         B\n",
       "2013-01-04 -0.673691 -0.164664\n",
       "2013-01-05 -0.398289 -0.595746"
      ]
     },
     "execution_count": 86,
     "metadata": {},
     "output_type": "execute_result"
    }
   ],
   "source": [
    "# By integer slices, acting similar to numpy/python \n",
    "df.iloc[3:5,0:2] "
   ]
  },
  {
   "cell_type": "code",
   "execution_count": 87,
   "id": "9e19b04e-3807-4dc2-ace3-c5a79fd9837b",
   "metadata": {},
   "outputs": [
    {
     "data": {
      "text/html": [
       "<div>\n",
       "<style scoped>\n",
       "    .dataframe tbody tr th:only-of-type {\n",
       "        vertical-align: middle;\n",
       "    }\n",
       "\n",
       "    .dataframe tbody tr th {\n",
       "        vertical-align: top;\n",
       "    }\n",
       "\n",
       "    .dataframe thead th {\n",
       "        text-align: right;\n",
       "    }\n",
       "</style>\n",
       "<table border=\"1\" class=\"dataframe\">\n",
       "  <thead>\n",
       "    <tr style=\"text-align: right;\">\n",
       "      <th></th>\n",
       "      <th>A</th>\n",
       "      <th>C</th>\n",
       "    </tr>\n",
       "  </thead>\n",
       "  <tbody>\n",
       "    <tr>\n",
       "      <th>2013-01-02</th>\n",
       "      <td>-0.856755</td>\n",
       "      <td>1.150707</td>\n",
       "    </tr>\n",
       "    <tr>\n",
       "      <th>2013-01-03</th>\n",
       "      <td>0.098031</td>\n",
       "      <td>1.573949</td>\n",
       "    </tr>\n",
       "    <tr>\n",
       "      <th>2013-01-05</th>\n",
       "      <td>-0.398289</td>\n",
       "      <td>0.137689</td>\n",
       "    </tr>\n",
       "  </tbody>\n",
       "</table>\n",
       "</div>"
      ],
      "text/plain": [
       "                   A         C\n",
       "2013-01-02 -0.856755  1.150707\n",
       "2013-01-03  0.098031  1.573949\n",
       "2013-01-05 -0.398289  0.137689"
      ]
     },
     "execution_count": 87,
     "metadata": {},
     "output_type": "execute_result"
    }
   ],
   "source": [
    "# By lists of integer position locations, similar to the numpy/python style\n",
    "df.iloc[[1,2,4],[0,2]]"
   ]
  },
  {
   "cell_type": "code",
   "execution_count": 88,
   "id": "444ee527-95cd-43a9-b113-6ccb297fb379",
   "metadata": {},
   "outputs": [
    {
     "data": {
      "text/html": [
       "<div>\n",
       "<style scoped>\n",
       "    .dataframe tbody tr th:only-of-type {\n",
       "        vertical-align: middle;\n",
       "    }\n",
       "\n",
       "    .dataframe tbody tr th {\n",
       "        vertical-align: top;\n",
       "    }\n",
       "\n",
       "    .dataframe thead th {\n",
       "        text-align: right;\n",
       "    }\n",
       "</style>\n",
       "<table border=\"1\" class=\"dataframe\">\n",
       "  <thead>\n",
       "    <tr style=\"text-align: right;\">\n",
       "      <th></th>\n",
       "      <th>B</th>\n",
       "      <th>C</th>\n",
       "    </tr>\n",
       "  </thead>\n",
       "  <tbody>\n",
       "    <tr>\n",
       "      <th>2013-01-01</th>\n",
       "      <td>0.431405</td>\n",
       "      <td>0.304315</td>\n",
       "    </tr>\n",
       "    <tr>\n",
       "      <th>2013-01-02</th>\n",
       "      <td>-1.302108</td>\n",
       "      <td>1.150707</td>\n",
       "    </tr>\n",
       "    <tr>\n",
       "      <th>2013-01-03</th>\n",
       "      <td>-0.834441</td>\n",
       "      <td>1.573949</td>\n",
       "    </tr>\n",
       "    <tr>\n",
       "      <th>2013-01-04</th>\n",
       "      <td>-0.164664</td>\n",
       "      <td>1.916668</td>\n",
       "    </tr>\n",
       "    <tr>\n",
       "      <th>2013-01-05</th>\n",
       "      <td>-0.595746</td>\n",
       "      <td>0.137689</td>\n",
       "    </tr>\n",
       "    <tr>\n",
       "      <th>2013-01-06</th>\n",
       "      <td>-0.051880</td>\n",
       "      <td>-0.941307</td>\n",
       "    </tr>\n",
       "  </tbody>\n",
       "</table>\n",
       "</div>"
      ],
      "text/plain": [
       "                   B         C\n",
       "2013-01-01  0.431405  0.304315\n",
       "2013-01-02 -1.302108  1.150707\n",
       "2013-01-03 -0.834441  1.573949\n",
       "2013-01-04 -0.164664  1.916668\n",
       "2013-01-05 -0.595746  0.137689\n",
       "2013-01-06 -0.051880 -0.941307"
      ]
     },
     "execution_count": 88,
     "metadata": {},
     "output_type": "execute_result"
    }
   ],
   "source": [
    "# For slicing rows explicitly\n",
    "df.iloc[:,1:3]"
   ]
  },
  {
   "cell_type": "code",
   "execution_count": 89,
   "id": "e02804c2-6586-44e8-a8e1-ae0fb43c1817",
   "metadata": {},
   "outputs": [
    {
     "data": {
      "text/plain": [
       "np.float64(-1.302107708092155)"
      ]
     },
     "execution_count": 89,
     "metadata": {},
     "output_type": "execute_result"
    }
   ],
   "source": [
    "# For getting a value explicitly \n",
    "df.iloc[1,1] "
   ]
  },
  {
   "cell_type": "code",
   "execution_count": 90,
   "id": "f5792db0-6fc1-4064-a6ff-3c1d3fa4cdda",
   "metadata": {},
   "outputs": [
    {
     "data": {
      "text/html": [
       "<div>\n",
       "<style scoped>\n",
       "    .dataframe tbody tr th:only-of-type {\n",
       "        vertical-align: middle;\n",
       "    }\n",
       "\n",
       "    .dataframe tbody tr th {\n",
       "        vertical-align: top;\n",
       "    }\n",
       "\n",
       "    .dataframe thead th {\n",
       "        text-align: right;\n",
       "    }\n",
       "</style>\n",
       "<table border=\"1\" class=\"dataframe\">\n",
       "  <thead>\n",
       "    <tr style=\"text-align: right;\">\n",
       "      <th></th>\n",
       "      <th>A</th>\n",
       "      <th>B</th>\n",
       "      <th>C</th>\n",
       "      <th>D</th>\n",
       "    </tr>\n",
       "  </thead>\n",
       "  <tbody>\n",
       "    <tr>\n",
       "      <th>2013-01-03</th>\n",
       "      <td>0.098031</td>\n",
       "      <td>-0.834441</td>\n",
       "      <td>1.573949</td>\n",
       "      <td>-0.401324</td>\n",
       "    </tr>\n",
       "    <tr>\n",
       "      <th>2013-01-06</th>\n",
       "      <td>0.055122</td>\n",
       "      <td>-0.051880</td>\n",
       "      <td>-0.941307</td>\n",
       "      <td>-0.274189</td>\n",
       "    </tr>\n",
       "  </tbody>\n",
       "</table>\n",
       "</div>"
      ],
      "text/plain": [
       "                   A         B         C         D\n",
       "2013-01-03  0.098031 -0.834441  1.573949 -0.401324\n",
       "2013-01-06  0.055122 -0.051880 -0.941307 -0.274189"
      ]
     },
     "execution_count": 90,
     "metadata": {},
     "output_type": "execute_result"
    }
   ],
   "source": [
    " # Using a single column’s values to select data. \n",
    "df[df.A > 0] "
   ]
  },
  {
   "cell_type": "code",
   "execution_count": 91,
   "id": "be35aa2f-baed-4278-8e8e-1dac442744fc",
   "metadata": {},
   "outputs": [
    {
     "data": {
      "text/html": [
       "<div>\n",
       "<style scoped>\n",
       "    .dataframe tbody tr th:only-of-type {\n",
       "        vertical-align: middle;\n",
       "    }\n",
       "\n",
       "    .dataframe tbody tr th {\n",
       "        vertical-align: top;\n",
       "    }\n",
       "\n",
       "    .dataframe thead th {\n",
       "        text-align: right;\n",
       "    }\n",
       "</style>\n",
       "<table border=\"1\" class=\"dataframe\">\n",
       "  <thead>\n",
       "    <tr style=\"text-align: right;\">\n",
       "      <th></th>\n",
       "      <th>A</th>\n",
       "      <th>B</th>\n",
       "      <th>C</th>\n",
       "      <th>D</th>\n",
       "    </tr>\n",
       "  </thead>\n",
       "  <tbody>\n",
       "    <tr>\n",
       "      <th>2013-01-01</th>\n",
       "      <td>NaN</td>\n",
       "      <td>0.431405</td>\n",
       "      <td>0.304315</td>\n",
       "      <td>0.655069</td>\n",
       "    </tr>\n",
       "    <tr>\n",
       "      <th>2013-01-02</th>\n",
       "      <td>NaN</td>\n",
       "      <td>NaN</td>\n",
       "      <td>1.150707</td>\n",
       "      <td>1.019978</td>\n",
       "    </tr>\n",
       "    <tr>\n",
       "      <th>2013-01-03</th>\n",
       "      <td>0.098031</td>\n",
       "      <td>NaN</td>\n",
       "      <td>1.573949</td>\n",
       "      <td>NaN</td>\n",
       "    </tr>\n",
       "    <tr>\n",
       "      <th>2013-01-04</th>\n",
       "      <td>NaN</td>\n",
       "      <td>NaN</td>\n",
       "      <td>1.916668</td>\n",
       "      <td>NaN</td>\n",
       "    </tr>\n",
       "    <tr>\n",
       "      <th>2013-01-05</th>\n",
       "      <td>NaN</td>\n",
       "      <td>NaN</td>\n",
       "      <td>0.137689</td>\n",
       "      <td>NaN</td>\n",
       "    </tr>\n",
       "    <tr>\n",
       "      <th>2013-01-06</th>\n",
       "      <td>0.055122</td>\n",
       "      <td>NaN</td>\n",
       "      <td>NaN</td>\n",
       "      <td>NaN</td>\n",
       "    </tr>\n",
       "  </tbody>\n",
       "</table>\n",
       "</div>"
      ],
      "text/plain": [
       "                   A         B         C         D\n",
       "2013-01-01       NaN  0.431405  0.304315  0.655069\n",
       "2013-01-02       NaN       NaN  1.150707  1.019978\n",
       "2013-01-03  0.098031       NaN  1.573949       NaN\n",
       "2013-01-04       NaN       NaN  1.916668       NaN\n",
       "2013-01-05       NaN       NaN  0.137689       NaN\n",
       "2013-01-06  0.055122       NaN       NaN       NaN"
      ]
     },
     "execution_count": 91,
     "metadata": {},
     "output_type": "execute_result"
    }
   ],
   "source": [
    "# Selecting values from a DataFrame where a boolean condition is met.\n",
    "df[df > 0] "
   ]
  },
  {
   "cell_type": "code",
   "execution_count": 99,
   "id": "ed4751b2-f99b-4648-8c66-6ad8bf82d6e2",
   "metadata": {},
   "outputs": [],
   "source": [
    "# Using the isin() method for filtering:\n",
    "df2 = df.copy() "
   ]
  },
  {
   "cell_type": "code",
   "execution_count": 100,
   "id": "8623dad5-53f1-4dcd-8b0b-9949669dc920",
   "metadata": {},
   "outputs": [],
   "source": [
    "df2['E'] = ['one', 'one','two','three','four','three'] "
   ]
  },
  {
   "cell_type": "code",
   "execution_count": 101,
   "id": "794868de-8c5b-48b1-9166-679d3432930c",
   "metadata": {},
   "outputs": [
    {
     "data": {
      "text/html": [
       "<div>\n",
       "<style scoped>\n",
       "    .dataframe tbody tr th:only-of-type {\n",
       "        vertical-align: middle;\n",
       "    }\n",
       "\n",
       "    .dataframe tbody tr th {\n",
       "        vertical-align: top;\n",
       "    }\n",
       "\n",
       "    .dataframe thead th {\n",
       "        text-align: right;\n",
       "    }\n",
       "</style>\n",
       "<table border=\"1\" class=\"dataframe\">\n",
       "  <thead>\n",
       "    <tr style=\"text-align: right;\">\n",
       "      <th></th>\n",
       "      <th>A</th>\n",
       "      <th>B</th>\n",
       "      <th>C</th>\n",
       "      <th>D</th>\n",
       "      <th>E</th>\n",
       "    </tr>\n",
       "  </thead>\n",
       "  <tbody>\n",
       "    <tr>\n",
       "      <th>2013-01-01</th>\n",
       "      <td>-0.324555</td>\n",
       "      <td>1.085080</td>\n",
       "      <td>1.081497</td>\n",
       "      <td>0.690047</td>\n",
       "      <td>one</td>\n",
       "    </tr>\n",
       "    <tr>\n",
       "      <th>2013-01-02</th>\n",
       "      <td>-2.983032</td>\n",
       "      <td>-1.470266</td>\n",
       "      <td>0.275022</td>\n",
       "      <td>0.506644</td>\n",
       "      <td>one</td>\n",
       "    </tr>\n",
       "    <tr>\n",
       "      <th>2013-01-03</th>\n",
       "      <td>0.567675</td>\n",
       "      <td>0.901147</td>\n",
       "      <td>-0.519207</td>\n",
       "      <td>0.851028</td>\n",
       "      <td>two</td>\n",
       "    </tr>\n",
       "    <tr>\n",
       "      <th>2013-01-04</th>\n",
       "      <td>0.179563</td>\n",
       "      <td>-0.476673</td>\n",
       "      <td>1.550795</td>\n",
       "      <td>-1.184131</td>\n",
       "      <td>three</td>\n",
       "    </tr>\n",
       "    <tr>\n",
       "      <th>2013-01-05</th>\n",
       "      <td>0.190349</td>\n",
       "      <td>0.063650</td>\n",
       "      <td>0.126106</td>\n",
       "      <td>0.340981</td>\n",
       "      <td>four</td>\n",
       "    </tr>\n",
       "    <tr>\n",
       "      <th>2013-01-06</th>\n",
       "      <td>1.468225</td>\n",
       "      <td>-0.023040</td>\n",
       "      <td>1.986468</td>\n",
       "      <td>0.189731</td>\n",
       "      <td>three</td>\n",
       "    </tr>\n",
       "  </tbody>\n",
       "</table>\n",
       "</div>"
      ],
      "text/plain": [
       "                   A         B         C         D      E\n",
       "2013-01-01 -0.324555  1.085080  1.081497  0.690047    one\n",
       "2013-01-02 -2.983032 -1.470266  0.275022  0.506644    one\n",
       "2013-01-03  0.567675  0.901147 -0.519207  0.851028    two\n",
       "2013-01-04  0.179563 -0.476673  1.550795 -1.184131  three\n",
       "2013-01-05  0.190349  0.063650  0.126106  0.340981   four\n",
       "2013-01-06  1.468225 -0.023040  1.986468  0.189731  three"
      ]
     },
     "execution_count": 101,
     "metadata": {},
     "output_type": "execute_result"
    }
   ],
   "source": [
    "df2 "
   ]
  },
  {
   "cell_type": "code",
   "execution_count": 102,
   "id": "14a424d5-de09-4d32-afdb-69e11012df43",
   "metadata": {},
   "outputs": [
    {
     "data": {
      "text/html": [
       "<div>\n",
       "<style scoped>\n",
       "    .dataframe tbody tr th:only-of-type {\n",
       "        vertical-align: middle;\n",
       "    }\n",
       "\n",
       "    .dataframe tbody tr th {\n",
       "        vertical-align: top;\n",
       "    }\n",
       "\n",
       "    .dataframe thead th {\n",
       "        text-align: right;\n",
       "    }\n",
       "</style>\n",
       "<table border=\"1\" class=\"dataframe\">\n",
       "  <thead>\n",
       "    <tr style=\"text-align: right;\">\n",
       "      <th></th>\n",
       "      <th>A</th>\n",
       "      <th>B</th>\n",
       "      <th>C</th>\n",
       "      <th>D</th>\n",
       "      <th>E</th>\n",
       "    </tr>\n",
       "  </thead>\n",
       "  <tbody>\n",
       "    <tr>\n",
       "      <th>2013-01-03</th>\n",
       "      <td>0.567675</td>\n",
       "      <td>0.901147</td>\n",
       "      <td>-0.519207</td>\n",
       "      <td>0.851028</td>\n",
       "      <td>two</td>\n",
       "    </tr>\n",
       "    <tr>\n",
       "      <th>2013-01-05</th>\n",
       "      <td>0.190349</td>\n",
       "      <td>0.063650</td>\n",
       "      <td>0.126106</td>\n",
       "      <td>0.340981</td>\n",
       "      <td>four</td>\n",
       "    </tr>\n",
       "  </tbody>\n",
       "</table>\n",
       "</div>"
      ],
      "text/plain": [
       "                   A         B         C         D     E\n",
       "2013-01-03  0.567675  0.901147 -0.519207  0.851028   two\n",
       "2013-01-05  0.190349  0.063650  0.126106  0.340981  four"
      ]
     },
     "execution_count": 102,
     "metadata": {},
     "output_type": "execute_result"
    }
   ],
   "source": [
    "df2[df2['E'].isin(['two','four'])] "
   ]
  },
  {
   "cell_type": "code",
   "execution_count": null,
   "id": "18203e84-9e1a-4730-b044-f42c9e6ebc00",
   "metadata": {},
   "outputs": [],
   "source": []
  }
 ],
 "metadata": {
  "kernelspec": {
   "display_name": "Python 3 (ipykernel)",
   "language": "python",
   "name": "python3"
  },
  "language_info": {
   "codemirror_mode": {
    "name": "ipython",
    "version": 3
   },
   "file_extension": ".py",
   "mimetype": "text/x-python",
   "name": "python",
   "nbconvert_exporter": "python",
   "pygments_lexer": "ipython3",
   "version": "3.13.5"
  }
 },
 "nbformat": 4,
 "nbformat_minor": 5
}
